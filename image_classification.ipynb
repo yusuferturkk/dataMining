{
 "cells": [
  {
   "cell_type": "code",
   "execution_count": 28,
   "id": "8106830d-4880-401e-8795-76b66a0f8db0",
   "metadata": {
    "scrolled": true
   },
   "outputs": [
    {
     "name": "stdout",
     "output_type": "stream",
     "text": [
      "\n",
      "Sneaker kategorisinden görseller indiriliyor...\n",
      "İndirildi: trendyol_images\\Sneaker\\image_page1_1.jpg (1/50)\n",
      "İndirildi: trendyol_images\\Sneaker\\image_page1_2.jpg (2/50)\n",
      "İndirildi: trendyol_images\\Sneaker\\image_page1_3.jpg (3/50)\n",
      "İndirildi: trendyol_images\\Sneaker\\image_page1_4.jpg (4/50)\n",
      "İndirildi: trendyol_images\\Sneaker\\image_page1_5.jpg (5/50)\n",
      "İndirildi: trendyol_images\\Sneaker\\image_page1_6.jpg (6/50)\n",
      "İndirildi: trendyol_images\\Sneaker\\image_page1_7.jpg (7/50)\n",
      "İndirildi: trendyol_images\\Sneaker\\image_page1_8.jpg (8/50)\n",
      "İndirildi: trendyol_images\\Sneaker\\image_page1_9.jpg (9/50)\n",
      "İndirildi: trendyol_images\\Sneaker\\image_page1_10.jpg (10/50)\n",
      "İndirildi: trendyol_images\\Sneaker\\image_page1_11.jpg (11/50)\n",
      "İndirildi: trendyol_images\\Sneaker\\image_page1_12.jpg (12/50)\n",
      "İndirildi: trendyol_images\\Sneaker\\image_page1_13.jpg (13/50)\n",
      "İndirildi: trendyol_images\\Sneaker\\image_page1_14.jpg (14/50)\n",
      "İndirildi: trendyol_images\\Sneaker\\image_page1_15.jpg (15/50)\n",
      "İndirildi: trendyol_images\\Sneaker\\image_page1_16.jpg (16/50)\n",
      "İndirildi: trendyol_images\\Sneaker\\image_page1_17.jpg (17/50)\n",
      "İndirildi: trendyol_images\\Sneaker\\image_page1_18.jpg (18/50)\n",
      "İndirildi: trendyol_images\\Sneaker\\image_page1_19.jpg (19/50)\n",
      "İndirildi: trendyol_images\\Sneaker\\image_page1_20.jpg (20/50)\n",
      "İndirildi: trendyol_images\\Sneaker\\image_page1_21.jpg (21/50)\n",
      "İndirildi: trendyol_images\\Sneaker\\image_page1_22.jpg (22/50)\n",
      "İndirildi: trendyol_images\\Sneaker\\image_page1_23.jpg (23/50)\n",
      "İndirildi: trendyol_images\\Sneaker\\image_page1_24.jpg (24/50)\n",
      "İndirildi: trendyol_images\\Sneaker\\image_page2_1.jpg (25/50)\n",
      "İndirildi: trendyol_images\\Sneaker\\image_page2_2.jpg (26/50)\n",
      "İndirildi: trendyol_images\\Sneaker\\image_page2_3.jpg (27/50)\n",
      "Tekrarlanan URL atlandı: https://cdn.dsmcdn.com/ty1607/prod/QC/20241127/13/bb6b329b-3286-3686-86b7-ad4c665457b9/1_org.jpg\n",
      "İndirildi: trendyol_images\\Sneaker\\image_page2_5.jpg (28/50)\n",
      "İndirildi: trendyol_images\\Sneaker\\image_page2_6.jpg (29/50)\n",
      "İndirildi: trendyol_images\\Sneaker\\image_page2_7.jpg (30/50)\n",
      "Tekrarlanan URL atlandı: https://cdn.dsmcdn.com/ty1620/prod/QC/20250108/00/f7abe1bb-1049-3061-bb9c-a86a43970cc0/1_org.jpg\n",
      "İndirildi: trendyol_images\\Sneaker\\image_page2_9.jpg (31/50)\n",
      "İndirildi: trendyol_images\\Sneaker\\image_page2_10.jpg (32/50)\n",
      "İndirildi: trendyol_images\\Sneaker\\image_page2_11.jpg (33/50)\n",
      "Tekrarlanan URL atlandı: https://cdn.dsmcdn.com/ty1620/prod/QC/20250107/22/315ab50f-ae28-3765-982e-ae686b6120c5/1_org.jpg\n",
      "İndirildi: trendyol_images\\Sneaker\\image_page2_13.jpg (34/50)\n",
      "İndirildi: trendyol_images\\Sneaker\\image_page2_14.jpg (35/50)\n",
      "İndirildi: trendyol_images\\Sneaker\\image_page2_15.jpg (36/50)\n",
      "Tekrarlanan URL atlandı: https://cdn.dsmcdn.com/ty1606/prod/QC/20241127/13/49be8e6e-a67a-3bce-bcfa-f2aa514b2e9d/1_org.jpg\n",
      "İndirildi: trendyol_images\\Sneaker\\image_page2_17.jpg (37/50)\n",
      "İndirildi: trendyol_images\\Sneaker\\image_page2_18.jpg (38/50)\n",
      "İndirildi: trendyol_images\\Sneaker\\image_page2_19.jpg (39/50)\n",
      "Tekrarlanan URL atlandı: https://cdn.dsmcdn.com/ty1620/product/media/images/prod/PIM/20250103/06/8a97d066-0011-4b8f-b377-6615023f5d6f/1_org.jpg\n",
      "İndirildi: trendyol_images\\Sneaker\\image_page2_21.jpg (40/50)\n",
      "İndirildi: trendyol_images\\Sneaker\\image_page2_22.jpg (41/50)\n",
      "İndirildi: trendyol_images\\Sneaker\\image_page2_23.jpg (42/50)\n",
      "Tekrarlanan URL atlandı: https://cdn.dsmcdn.com/ty1592/prod/QC/20241021/16/67192dac-616d-3dd4-94b6-00a1964798e7/1_org.jpg\n",
      "İndirildi: trendyol_images\\Sneaker\\image_page3_1.jpg (43/50)\n",
      "İndirildi: trendyol_images\\Sneaker\\image_page3_2.jpg (44/50)\n",
      "İndirildi: trendyol_images\\Sneaker\\image_page3_3.jpg (45/50)\n",
      "Tekrarlanan URL atlandı: https://cdn.dsmcdn.com/ty1607/prod/QC/20241127/13/bb6b329b-3286-3686-86b7-ad4c665457b9/1_org.jpg\n",
      "İndirildi: trendyol_images\\Sneaker\\image_page3_5.jpg (46/50)\n",
      "İndirildi: trendyol_images\\Sneaker\\image_page3_6.jpg (47/50)\n",
      "İndirildi: trendyol_images\\Sneaker\\image_page3_7.jpg (48/50)\n",
      "Tekrarlanan URL atlandı: https://cdn.dsmcdn.com/ty1620/prod/QC/20250108/00/f7abe1bb-1049-3061-bb9c-a86a43970cc0/1_org.jpg\n",
      "İndirildi: trendyol_images\\Sneaker\\image_page3_9.jpg (49/50)\n",
      "İndirildi: trendyol_images\\Sneaker\\image_page3_10.jpg (50/50)\n",
      "50 görsel indirildi. İşlem sonlandırılıyor.\n",
      "\n",
      "Babet kategorisinden görseller indiriliyor...\n",
      "İndirildi: trendyol_images\\Babet\\image_page1_1.jpg (1/50)\n",
      "İndirildi: trendyol_images\\Babet\\image_page1_2.jpg (2/50)\n",
      "İndirildi: trendyol_images\\Babet\\image_page1_3.jpg (3/50)\n",
      "İndirildi: trendyol_images\\Babet\\image_page1_4.jpg (4/50)\n",
      "İndirildi: trendyol_images\\Babet\\image_page1_5.jpg (5/50)\n",
      "İndirildi: trendyol_images\\Babet\\image_page1_6.jpg (6/50)\n",
      "İndirildi: trendyol_images\\Babet\\image_page1_7.jpg (7/50)\n",
      "İndirildi: trendyol_images\\Babet\\image_page1_8.jpg (8/50)\n",
      "İndirildi: trendyol_images\\Babet\\image_page1_9.jpg (9/50)\n",
      "İndirildi: trendyol_images\\Babet\\image_page1_10.jpg (10/50)\n",
      "İndirildi: trendyol_images\\Babet\\image_page1_11.jpg (11/50)\n",
      "İndirildi: trendyol_images\\Babet\\image_page1_12.jpg (12/50)\n",
      "İndirildi: trendyol_images\\Babet\\image_page1_13.jpg (13/50)\n",
      "İndirildi: trendyol_images\\Babet\\image_page1_14.jpg (14/50)\n",
      "İndirildi: trendyol_images\\Babet\\image_page1_15.jpg (15/50)\n",
      "İndirildi: trendyol_images\\Babet\\image_page1_16.jpg (16/50)\n",
      "İndirildi: trendyol_images\\Babet\\image_page1_17.jpg (17/50)\n",
      "İndirildi: trendyol_images\\Babet\\image_page1_18.jpg (18/50)\n",
      "İndirildi: trendyol_images\\Babet\\image_page1_19.jpg (19/50)\n",
      "İndirildi: trendyol_images\\Babet\\image_page1_20.jpg (20/50)\n",
      "İndirildi: trendyol_images\\Babet\\image_page1_21.jpg (21/50)\n",
      "İndirildi: trendyol_images\\Babet\\image_page1_22.jpg (22/50)\n",
      "İndirildi: trendyol_images\\Babet\\image_page1_23.jpg (23/50)\n",
      "İndirildi: trendyol_images\\Babet\\image_page1_24.jpg (24/50)\n",
      "İndirildi: trendyol_images\\Babet\\image_page2_1.jpg (25/50)\n",
      "İndirildi: trendyol_images\\Babet\\image_page2_2.jpg (26/50)\n",
      "İndirildi: trendyol_images\\Babet\\image_page2_3.jpg (27/50)\n",
      "Tekrarlanan URL atlandı: https://cdn.dsmcdn.com/ty1625/prod/QC/20250113/15/3728a0f5-4ceb-3627-803e-50d75056e9bc/1_org.jpg\n",
      "İndirildi: trendyol_images\\Babet\\image_page2_5.jpg (28/50)\n",
      "İndirildi: trendyol_images\\Babet\\image_page2_6.jpg (29/50)\n",
      "İndirildi: trendyol_images\\Babet\\image_page2_7.jpg (30/50)\n",
      "Tekrarlanan URL atlandı: https://cdn.dsmcdn.com/ty1614/prod/QC/20241219/17/bf88527b-d6db-31ee-8432-f8aa6121afa4/1_org.jpg\n",
      "İndirildi: trendyol_images\\Babet\\image_page2_9.jpg (31/50)\n",
      "İndirildi: trendyol_images\\Babet\\image_page2_10.jpg (32/50)\n",
      "İndirildi: trendyol_images\\Babet\\image_page2_11.jpg (33/50)\n",
      "Tekrarlanan URL atlandı: https://cdn.dsmcdn.com/ty1441/product/media/images/prod/QC/20240725/14/be95ee32-ee5e-3f37-828b-1120e1f35f38/1_org.jpg\n",
      "İndirildi: trendyol_images\\Babet\\image_page2_13.jpg (34/50)\n",
      "İndirildi: trendyol_images\\Babet\\image_page2_14.jpg (35/50)\n",
      "İndirildi: trendyol_images\\Babet\\image_page2_15.jpg (36/50)\n",
      "Tekrarlanan URL atlandı: https://cdn.dsmcdn.com/ty1491/product/media/images/prod/QC/20240820/01/ebbec0d4-f4be-3c6e-9246-8fe4b36874e2/1_org.jpg\n",
      "İndirildi: trendyol_images\\Babet\\image_page2_17.jpg (37/50)\n",
      "İndirildi: trendyol_images\\Babet\\image_page2_18.jpg (38/50)\n",
      "İndirildi: trendyol_images\\Babet\\image_page2_19.jpg (39/50)\n",
      "Tekrarlanan URL atlandı: https://cdn.dsmcdn.com/ty1439/product/media/images/prod/QC/20240724/17/7c9f7e86-9682-321c-b877-b4fd2efbb5a7/1_org.jpg\n",
      "İndirildi: trendyol_images\\Babet\\image_page2_21.jpg (40/50)\n",
      "İndirildi: trendyol_images\\Babet\\image_page2_22.jpg (41/50)\n",
      "İndirildi: trendyol_images\\Babet\\image_page2_23.jpg (42/50)\n",
      "Tekrarlanan URL atlandı: https://cdn.dsmcdn.com/ty1609/prod/QC/20241205/15/ef4e6b44-aed1-352f-864f-84f28875a812/1_org.jpg\n",
      "İndirildi: trendyol_images\\Babet\\image_page3_1.jpg (43/50)\n",
      "İndirildi: trendyol_images\\Babet\\image_page3_2.jpg (44/50)\n",
      "İndirildi: trendyol_images\\Babet\\image_page3_3.jpg (45/50)\n",
      "Tekrarlanan URL atlandı: https://cdn.dsmcdn.com/ty1625/prod/QC/20250113/15/3728a0f5-4ceb-3627-803e-50d75056e9bc/1_org.jpg\n",
      "İndirildi: trendyol_images\\Babet\\image_page3_5.jpg (46/50)\n",
      "İndirildi: trendyol_images\\Babet\\image_page3_6.jpg (47/50)\n",
      "İndirildi: trendyol_images\\Babet\\image_page3_7.jpg (48/50)\n",
      "Tekrarlanan URL atlandı: https://cdn.dsmcdn.com/ty1614/prod/QC/20241219/17/bf88527b-d6db-31ee-8432-f8aa6121afa4/1_org.jpg\n",
      "İndirildi: trendyol_images\\Babet\\image_page3_9.jpg (49/50)\n",
      "İndirildi: trendyol_images\\Babet\\image_page3_10.jpg (50/50)\n",
      "50 görsel indirildi. İşlem sonlandırılıyor.\n",
      "\n",
      "Bot kategorisinden görseller indiriliyor...\n",
      "İndirildi: trendyol_images\\Bot\\image_page1_1.jpg (1/50)\n",
      "İndirildi: trendyol_images\\Bot\\image_page1_2.jpg (2/50)\n",
      "İndirildi: trendyol_images\\Bot\\image_page1_3.jpg (3/50)\n",
      "İndirildi: trendyol_images\\Bot\\image_page1_4.jpg (4/50)\n",
      "İndirildi: trendyol_images\\Bot\\image_page1_5.jpg (5/50)\n",
      "İndirildi: trendyol_images\\Bot\\image_page1_6.jpg (6/50)\n",
      "İndirildi: trendyol_images\\Bot\\image_page1_7.jpg (7/50)\n",
      "İndirildi: trendyol_images\\Bot\\image_page1_8.jpg (8/50)\n",
      "İndirildi: trendyol_images\\Bot\\image_page1_9.jpg (9/50)\n",
      "İndirildi: trendyol_images\\Bot\\image_page1_10.jpg (10/50)\n",
      "İndirildi: trendyol_images\\Bot\\image_page1_11.jpg (11/50)\n",
      "İndirildi: trendyol_images\\Bot\\image_page1_12.jpg (12/50)\n",
      "İndirildi: trendyol_images\\Bot\\image_page1_13.jpg (13/50)\n",
      "İndirildi: trendyol_images\\Bot\\image_page1_14.jpg (14/50)\n",
      "İndirildi: trendyol_images\\Bot\\image_page1_15.jpg (15/50)\n",
      "İndirildi: trendyol_images\\Bot\\image_page1_16.jpg (16/50)\n",
      "İndirildi: trendyol_images\\Bot\\image_page1_17.jpg (17/50)\n",
      "İndirildi: trendyol_images\\Bot\\image_page1_18.jpg (18/50)\n",
      "İndirildi: trendyol_images\\Bot\\image_page1_19.jpg (19/50)\n",
      "İndirildi: trendyol_images\\Bot\\image_page1_20.jpg (20/50)\n",
      "İndirildi: trendyol_images\\Bot\\image_page1_21.jpg (21/50)\n",
      "İndirildi: trendyol_images\\Bot\\image_page1_22.jpg (22/50)\n",
      "İndirildi: trendyol_images\\Bot\\image_page1_23.jpg (23/50)\n",
      "İndirildi: trendyol_images\\Bot\\image_page1_24.jpg (24/50)\n",
      "İndirildi: trendyol_images\\Bot\\image_page2_1.jpg (25/50)\n",
      "İndirildi: trendyol_images\\Bot\\image_page2_2.jpg (26/50)\n",
      "İndirildi: trendyol_images\\Bot\\image_page2_3.jpg (27/50)\n",
      "Tekrarlanan URL atlandı: https://cdn.dsmcdn.com/ty1009/product/media/images/prod/SPM/PIM/20230929/16/68d8d5b0-2810-33bf-8578-c73981e08c65/1_org.jpg\n",
      "İndirildi: trendyol_images\\Bot\\image_page2_5.jpg (28/50)\n",
      "İndirildi: trendyol_images\\Bot\\image_page2_6.jpg (29/50)\n",
      "İndirildi: trendyol_images\\Bot\\image_page2_7.jpg (30/50)\n",
      "Tekrarlanan URL atlandı: https://cdn.dsmcdn.com/ty1579/prod/QC/20241005/10/02652b5d-eef0-3500-8991-f3a3c99c0594/1_org.jpg\n",
      "İndirildi: trendyol_images\\Bot\\image_page2_9.jpg (31/50)\n",
      "İndirildi: trendyol_images\\Bot\\image_page2_10.jpg (32/50)\n",
      "İndirildi: trendyol_images\\Bot\\image_page2_11.jpg (33/50)\n",
      "Tekrarlanan URL atlandı: https://cdn.dsmcdn.com/ty1623/prod/QC/20250114/23/a8a81146-ac98-3b2a-a0d8-e460b6533327/1_org.jpg\n",
      "İndirildi: trendyol_images\\Bot\\image_page2_13.jpg (34/50)\n",
      "İndirildi: trendyol_images\\Bot\\image_page2_14.jpg (35/50)\n",
      "İndirildi: trendyol_images\\Bot\\image_page2_15.jpg (36/50)\n",
      "Tekrarlanan URL atlandı: https://cdn.dsmcdn.com/ty1583/prod/QC/20241009/14/9d79ef62-e421-3e0c-be2d-2d9ed53b20ae/1_org.jpg\n",
      "İndirildi: trendyol_images\\Bot\\image_page2_17.jpg (37/50)\n",
      "İndirildi: trendyol_images\\Bot\\image_page2_18.jpg (38/50)\n",
      "İndirildi: trendyol_images\\Bot\\image_page2_19.jpg (39/50)\n",
      "Tekrarlanan URL atlandı: https://cdn.dsmcdn.com/ty1606/prod/QC/20241127/14/af48c60a-e9e9-3521-b630-dfe0244febf3/1_org.jpg\n",
      "İndirildi: trendyol_images\\Bot\\image_page2_21.jpg (40/50)\n",
      "İndirildi: trendyol_images\\Bot\\image_page2_22.jpg (41/50)\n",
      "İndirildi: trendyol_images\\Bot\\image_page2_23.jpg (42/50)\n",
      "Tekrarlanan URL atlandı: https://cdn.dsmcdn.com/ty1605/prod/QC/20241127/14/41f7d6fe-68e9-3076-a442-b5f048bcd311/1_org.jpg\n",
      "İndirildi: trendyol_images\\Bot\\image_page3_1.jpg (43/50)\n",
      "İndirildi: trendyol_images\\Bot\\image_page3_2.jpg (44/50)\n",
      "İndirildi: trendyol_images\\Bot\\image_page3_3.jpg (45/50)\n",
      "Tekrarlanan URL atlandı: https://cdn.dsmcdn.com/ty1009/product/media/images/prod/SPM/PIM/20230929/16/68d8d5b0-2810-33bf-8578-c73981e08c65/1_org.jpg\n",
      "İndirildi: trendyol_images\\Bot\\image_page3_5.jpg (46/50)\n",
      "İndirildi: trendyol_images\\Bot\\image_page3_6.jpg (47/50)\n",
      "İndirildi: trendyol_images\\Bot\\image_page3_7.jpg (48/50)\n",
      "Tekrarlanan URL atlandı: https://cdn.dsmcdn.com/ty1579/prod/QC/20241005/10/02652b5d-eef0-3500-8991-f3a3c99c0594/1_org.jpg\n",
      "İndirildi: trendyol_images\\Bot\\image_page3_9.jpg (49/50)\n",
      "İndirildi: trendyol_images\\Bot\\image_page3_10.jpg (50/50)\n",
      "50 görsel indirildi. İşlem sonlandırılıyor.\n",
      "\n",
      "Topuklu Ayakkabı kategorisinden görseller indiriliyor...\n",
      "İndirildi: trendyol_images\\Topuklu Ayakkabı\\image_page1_1.jpg (1/50)\n",
      "İndirildi: trendyol_images\\Topuklu Ayakkabı\\image_page1_2.jpg (2/50)\n",
      "İndirildi: trendyol_images\\Topuklu Ayakkabı\\image_page1_3.jpg (3/50)\n",
      "İndirildi: trendyol_images\\Topuklu Ayakkabı\\image_page1_4.jpg (4/50)\n",
      "İndirildi: trendyol_images\\Topuklu Ayakkabı\\image_page1_5.jpg (5/50)\n",
      "İndirildi: trendyol_images\\Topuklu Ayakkabı\\image_page1_6.jpg (6/50)\n",
      "İndirildi: trendyol_images\\Topuklu Ayakkabı\\image_page1_7.jpg (7/50)\n",
      "İndirildi: trendyol_images\\Topuklu Ayakkabı\\image_page1_8.jpg (8/50)\n",
      "İndirildi: trendyol_images\\Topuklu Ayakkabı\\image_page1_9.jpg (9/50)\n",
      "İndirildi: trendyol_images\\Topuklu Ayakkabı\\image_page1_10.jpg (10/50)\n",
      "İndirildi: trendyol_images\\Topuklu Ayakkabı\\image_page1_11.jpg (11/50)\n",
      "İndirildi: trendyol_images\\Topuklu Ayakkabı\\image_page1_12.jpg (12/50)\n",
      "İndirildi: trendyol_images\\Topuklu Ayakkabı\\image_page1_13.jpg (13/50)\n",
      "İndirildi: trendyol_images\\Topuklu Ayakkabı\\image_page1_14.jpg (14/50)\n",
      "İndirildi: trendyol_images\\Topuklu Ayakkabı\\image_page1_15.jpg (15/50)\n",
      "İndirildi: trendyol_images\\Topuklu Ayakkabı\\image_page1_16.jpg (16/50)\n",
      "İndirildi: trendyol_images\\Topuklu Ayakkabı\\image_page1_17.jpg (17/50)\n",
      "İndirildi: trendyol_images\\Topuklu Ayakkabı\\image_page1_18.jpg (18/50)\n",
      "İndirildi: trendyol_images\\Topuklu Ayakkabı\\image_page1_19.jpg (19/50)\n",
      "İndirildi: trendyol_images\\Topuklu Ayakkabı\\image_page1_20.jpg (20/50)\n",
      "İndirildi: trendyol_images\\Topuklu Ayakkabı\\image_page1_21.jpg (21/50)\n",
      "İndirildi: trendyol_images\\Topuklu Ayakkabı\\image_page1_22.jpg (22/50)\n",
      "İndirildi: trendyol_images\\Topuklu Ayakkabı\\image_page1_23.jpg (23/50)\n",
      "İndirildi: trendyol_images\\Topuklu Ayakkabı\\image_page1_24.jpg (24/50)\n",
      "İndirildi: trendyol_images\\Topuklu Ayakkabı\\image_page2_1.jpg (25/50)\n",
      "İndirildi: trendyol_images\\Topuklu Ayakkabı\\image_page2_2.jpg (26/50)\n",
      "İndirildi: trendyol_images\\Topuklu Ayakkabı\\image_page2_3.jpg (27/50)\n",
      "Tekrarlanan URL atlandı: https://cdn.dsmcdn.com/ty1504/product/media/images/prod/QC/20240809/20/6ce973db-eda6-395a-b097-c076470993fd/1_org.jpg\n",
      "İndirildi: trendyol_images\\Topuklu Ayakkabı\\image_page2_5.jpg (28/50)\n",
      "İndirildi: trendyol_images\\Topuklu Ayakkabı\\image_page2_6.jpg (29/50)\n",
      "İndirildi: trendyol_images\\Topuklu Ayakkabı\\image_page2_7.jpg (30/50)\n",
      "Tekrarlanan URL atlandı: https://cdn.dsmcdn.com/ty1617/prod/QC/20241226/11/376df811-73ce-359a-8e37-53a7ce973b6d/1_org.jpg\n",
      "İndirildi: trendyol_images\\Topuklu Ayakkabı\\image_page2_9.jpg (31/50)\n",
      "İndirildi: trendyol_images\\Topuklu Ayakkabı\\image_page2_10.jpg (32/50)\n",
      "İndirildi: trendyol_images\\Topuklu Ayakkabı\\image_page2_11.jpg (33/50)\n",
      "Tekrarlanan URL atlandı: https://cdn.dsmcdn.com/ty1585/prod/QC/20241015/20/47e7ee83-d1ea-3d55-8c0b-0737ffe06ec2/1_org.jpg\n",
      "İndirildi: trendyol_images\\Topuklu Ayakkabı\\image_page2_13.jpg (34/50)\n",
      "İndirildi: trendyol_images\\Topuklu Ayakkabı\\image_page2_14.jpg (35/50)\n",
      "İndirildi: trendyol_images\\Topuklu Ayakkabı\\image_page2_15.jpg (36/50)\n",
      "Tekrarlanan URL atlandı: https://cdn.dsmcdn.com/ty1503/product/media/images/prod/QC/20240823/15/4ad543d9-1e8f-3ba4-9b7f-d97c2b129af0/1_org.jpg\n",
      "İndirildi: trendyol_images\\Topuklu Ayakkabı\\image_page2_17.jpg (37/50)\n",
      "İndirildi: trendyol_images\\Topuklu Ayakkabı\\image_page2_18.jpg (38/50)\n",
      "İndirildi: trendyol_images\\Topuklu Ayakkabı\\image_page2_19.jpg (39/50)\n",
      "Tekrarlanan URL atlandı: https://cdn.dsmcdn.com/ty1618/prod/QC/20241226/11/82cf94d2-f198-39c4-965f-686695fc06d0/1_org.jpg\n",
      "İndirildi: trendyol_images\\Topuklu Ayakkabı\\image_page2_21.jpg (40/50)\n",
      "İndirildi: trendyol_images\\Topuklu Ayakkabı\\image_page2_22.jpg (41/50)\n",
      "İndirildi: trendyol_images\\Topuklu Ayakkabı\\image_page2_23.jpg (42/50)\n",
      "Tekrarlanan URL atlandı: https://cdn.dsmcdn.com/ty1617/prod/QC/20241226/11/e30143e9-ef03-3b1f-a07a-17b70b89dcee/1_org.jpg\n",
      "İndirildi: trendyol_images\\Topuklu Ayakkabı\\image_page3_1.jpg (43/50)\n",
      "İndirildi: trendyol_images\\Topuklu Ayakkabı\\image_page3_2.jpg (44/50)\n",
      "İndirildi: trendyol_images\\Topuklu Ayakkabı\\image_page3_3.jpg (45/50)\n",
      "Tekrarlanan URL atlandı: https://cdn.dsmcdn.com/ty1504/product/media/images/prod/QC/20240809/20/6ce973db-eda6-395a-b097-c076470993fd/1_org.jpg\n",
      "İndirildi: trendyol_images\\Topuklu Ayakkabı\\image_page3_5.jpg (46/50)\n",
      "İndirildi: trendyol_images\\Topuklu Ayakkabı\\image_page3_6.jpg (47/50)\n",
      "İndirildi: trendyol_images\\Topuklu Ayakkabı\\image_page3_7.jpg (48/50)\n",
      "Tekrarlanan URL atlandı: https://cdn.dsmcdn.com/ty1617/prod/QC/20241226/11/376df811-73ce-359a-8e37-53a7ce973b6d/1_org.jpg\n",
      "İndirildi: trendyol_images\\Topuklu Ayakkabı\\image_page3_9.jpg (49/50)\n",
      "İndirildi: trendyol_images\\Topuklu Ayakkabı\\image_page3_10.jpg (50/50)\n",
      "50 görsel indirildi. İşlem sonlandırılıyor.\n"
     ]
    }
   ],
   "source": [
    "import os\n",
    "import time\n",
    "from selenium import webdriver\n",
    "from selenium.webdriver.common.by import By\n",
    "from selenium.webdriver.chrome.service import Service\n",
    "from webdriver_manager.chrome import ChromeDriverManager\n",
    "from urllib.request import urlretrieve\n",
    "from PIL import Image\n",
    "\n",
    "# Klasör oluşturma\n",
    "def create_folder(folder_name):\n",
    "    if not os.path.exists(folder_name):\n",
    "        os.makedirs(folder_name)\n",
    "\n",
    "# Görselleri indir ve işleme\n",
    "def download_images_unique(base_url, output_folder, processed_folder, num_pages=5, images_needed=50, size=(128, 128)):\n",
    "    options = webdriver.ChromeOptions()\n",
    "    options.add_argument(\"--headless\")\n",
    "    driver = webdriver.Chrome(service=Service(ChromeDriverManager().install()), options=options)\n",
    "\n",
    "    create_folder(output_folder)\n",
    "    create_folder(processed_folder)\n",
    "    downloaded_urls = set()  # İndirilen görsellerin URL'lerini takip etmek için bir set\n",
    "    total_downloaded = 0  # Toplam indirilen resim sayısı\n",
    "\n",
    "    for page in range(1, num_pages + 1):\n",
    "        if total_downloaded >= images_needed:\n",
    "            print(f\"{images_needed} görsel indirildi. İşlem sonlandırılıyor.\")\n",
    "            break\n",
    "\n",
    "        url = f\"{base_url}?pi={page}\"\n",
    "        driver.get(url)\n",
    "        time.sleep(3)  # Sayfa yüklenmesi için bekleme\n",
    "\n",
    "        # Sayfadaki görselleri bul\n",
    "        images = driver.find_elements(By.CSS_SELECTOR, \"img.p-card-img\")\n",
    "        for idx, img in enumerate(images):\n",
    "            if total_downloaded >= images_needed:\n",
    "                break  # Hedef sayıya ulaşıldığında durdur\n",
    "\n",
    "            img_url = img.get_attribute(\"src\")\n",
    "            if img_url and \"product-placeholder\" not in img_url and img_url not in downloaded_urls:\n",
    "                file_name = os.path.join(output_folder, f\"image_page{page}_{idx + 1}.jpg\")\n",
    "                processed_file_name = os.path.join(processed_folder, f\"image_page{page}_{idx + 1}.jpg\")\n",
    "                try:\n",
    "                    # Görseli indir\n",
    "                    urlretrieve(img_url, file_name)\n",
    "                    downloaded_urls.add(img_url)  # URL'yi indirilenlere ekle\n",
    "                    total_downloaded += 1\n",
    "                    print(f\"İndirildi: {file_name} ({total_downloaded}/{images_needed})\")\n",
    "                    \n",
    "                    # Görseli işleme ve boyutlandırma\n",
    "                    img = Image.open(file_name)\n",
    "                    img = img.convert(\"RGB\")  # RGB formatına dönüştür\n",
    "                    img = img.resize(size)   # Boyutlandır\n",
    "                    img.save(processed_file_name)  # İşlenmiş klasöre kaydet\n",
    "                except Exception as e:\n",
    "                    print(f\"İndirilemedi veya işlenemedi: {img_url}, Hata: {e}\")\n",
    "            elif img_url in downloaded_urls:\n",
    "                print(f\"Tekrarlanan URL atlandı: {img_url}\")\n",
    "\n",
    "    driver.quit()\n",
    "\n",
    "# Kullanım\n",
    "urls = {\n",
    "    \"Sneaker\": \"https://www.trendyol.com/kadin-sneaker-x-g1-c1172\",\n",
    "    \"Babet\": \"https://www.trendyol.com/kadin-babet-x-g1-c113\",\n",
    "    \"Bot\": \"https://www.trendyol.com/kadin-bot-x-g1-c1025\",\n",
    "    \"Topuklu Ayakkabı\": \"https://www.trendyol.com/kadin-topuklu-ayakkabi-x-g1-c107\"\n",
    "}\n",
    "\n",
    "output_folder_base = \"trendyol_images\"       # Orijinal görsellerin kaydedileceği ana klasör\n",
    "processed_folder_base = \"processed_images\"  # İşlenmiş görsellerin kaydedileceği ana klasör\n",
    "\n",
    "# Her bir URL için işlemi başlat\n",
    "for category, url in urls.items():\n",
    "    raw_folder = os.path.join(output_folder_base, category)          # Kategori bazında klasör (orijinal)\n",
    "    processed_folder = os.path.join(processed_folder_base, category)  # Kategori bazında klasör (işlenmiş)\n",
    "    print(f\"\\n{category} kategorisinden görseller indiriliyor...\")\n",
    "    download_images_unique(url, raw_folder, processed_folder, num_pages=5, images_needed=50)"
   ]
  },
  {
   "cell_type": "code",
   "execution_count": 13,
   "id": "6869d4b5-889f-4ede-b3c2-3c1087099aea",
   "metadata": {
    "scrolled": true
   },
   "outputs": [
    {
     "name": "stdout",
     "output_type": "stream",
     "text": [
      "Found 160 images belonging to 4 classes.\n",
      "Found 40 images belonging to 4 classes.\n"
     ]
    },
    {
     "name": "stderr",
     "output_type": "stream",
     "text": [
      "C:\\Users\\yusuf\\AppData\\Local\\Programs\\Python\\Python310\\lib\\site-packages\\keras\\src\\trainers\\data_adapters\\py_dataset_adapter.py:121: UserWarning: Your `PyDataset` class should call `super().__init__(**kwargs)` in its constructor. `**kwargs` can include `workers`, `use_multiprocessing`, `max_queue_size`. Do not pass these arguments to `fit()`, as they will be ignored.\n",
      "  self._warn_if_super_not_called()\n"
     ]
    },
    {
     "name": "stdout",
     "output_type": "stream",
     "text": [
      "Epoch 1/50\n",
      "\u001b[1m10/10\u001b[0m \u001b[32m━━━━━━━━━━━━━━━━━━━━\u001b[0m\u001b[37m\u001b[0m \u001b[1m9s\u001b[0m 491ms/step - accuracy: 0.2101 - loss: 3.1973 - val_accuracy: 0.3250 - val_loss: 1.3839\n",
      "Epoch 2/50\n",
      "\u001b[1m10/10\u001b[0m \u001b[32m━━━━━━━━━━━━━━━━━━━━\u001b[0m\u001b[37m\u001b[0m \u001b[1m4s\u001b[0m 388ms/step - accuracy: 0.3953 - loss: 2.8829 - val_accuracy: 0.2500 - val_loss: 1.3909\n",
      "Epoch 3/50\n",
      "\u001b[1m10/10\u001b[0m \u001b[32m━━━━━━━━━━━━━━━━━━━━\u001b[0m\u001b[37m\u001b[0m \u001b[1m4s\u001b[0m 408ms/step - accuracy: 0.2992 - loss: 2.8853 - val_accuracy: 0.2500 - val_loss: 1.3974\n",
      "Epoch 4/50\n",
      "\u001b[1m10/10\u001b[0m \u001b[32m━━━━━━━━━━━━━━━━━━━━\u001b[0m\u001b[37m\u001b[0m \u001b[1m4s\u001b[0m 378ms/step - accuracy: 0.3091 - loss: 2.5921 - val_accuracy: 0.2500 - val_loss: 1.4219\n",
      "Epoch 5/50\n",
      "\u001b[1m10/10\u001b[0m \u001b[32m━━━━━━━━━━━━━━━━━━━━\u001b[0m\u001b[37m\u001b[0m \u001b[1m4s\u001b[0m 395ms/step - accuracy: 0.2353 - loss: 2.7796 - val_accuracy: 0.2500 - val_loss: 1.4567\n",
      "Epoch 6/50\n",
      "\u001b[1m10/10\u001b[0m \u001b[32m━━━━━━━━━━━━━━━━━━━━\u001b[0m\u001b[37m\u001b[0m \u001b[1m4s\u001b[0m 425ms/step - accuracy: 0.2692 - loss: 2.5672 - val_accuracy: 0.2500 - val_loss: 1.5375\n",
      "Epoch 7/50\n",
      "\u001b[1m10/10\u001b[0m \u001b[32m━━━━━━━━━━━━━━━━━━━━\u001b[0m\u001b[37m\u001b[0m \u001b[1m4s\u001b[0m 396ms/step - accuracy: 0.3603 - loss: 1.9084 - val_accuracy: 0.2500 - val_loss: 1.6327\n",
      "Epoch 8/50\n",
      "\u001b[1m10/10\u001b[0m \u001b[32m━━━━━━━━━━━━━━━━━━━━\u001b[0m\u001b[37m\u001b[0m \u001b[1m4s\u001b[0m 394ms/step - accuracy: 0.2992 - loss: 1.9657 - val_accuracy: 0.2500 - val_loss: 1.6967\n",
      "Epoch 9/50\n",
      "\u001b[1m10/10\u001b[0m \u001b[32m━━━━━━━━━━━━━━━━━━━━\u001b[0m\u001b[37m\u001b[0m \u001b[1m4s\u001b[0m 411ms/step - accuracy: 0.3250 - loss: 1.9976 - val_accuracy: 0.2500 - val_loss: 1.7745\n",
      "Epoch 10/50\n",
      "\u001b[1m10/10\u001b[0m \u001b[32m━━━━━━━━━━━━━━━━━━━━\u001b[0m\u001b[37m\u001b[0m \u001b[1m4s\u001b[0m 412ms/step - accuracy: 0.3606 - loss: 1.9755 - val_accuracy: 0.2500 - val_loss: 1.8650\n",
      "Epoch 11/50\n",
      "\u001b[1m10/10\u001b[0m \u001b[32m━━━━━━━━━━━━━━━━━━━━\u001b[0m\u001b[37m\u001b[0m \u001b[1m4s\u001b[0m 423ms/step - accuracy: 0.3022 - loss: 1.9207 - val_accuracy: 0.2500 - val_loss: 1.9570\n",
      "Epoch 12/50\n",
      "\u001b[1m10/10\u001b[0m \u001b[32m━━━━━━━━━━━━━━━━━━━━\u001b[0m\u001b[37m\u001b[0m \u001b[1m4s\u001b[0m 377ms/step - accuracy: 0.2562 - loss: 1.9867 - val_accuracy: 0.2500 - val_loss: 2.0352\n",
      "Epoch 13/50\n",
      "\u001b[1m10/10\u001b[0m \u001b[32m━━━━━━━━━━━━━━━━━━━━\u001b[0m\u001b[37m\u001b[0m \u001b[1m4s\u001b[0m 371ms/step - accuracy: 0.2484 - loss: 1.7906 - val_accuracy: 0.2500 - val_loss: 2.0601\n",
      "Epoch 14/50\n",
      "\u001b[1m10/10\u001b[0m \u001b[32m━━━━━━━━━━━━━━━━━━━━\u001b[0m\u001b[37m\u001b[0m \u001b[1m4s\u001b[0m 380ms/step - accuracy: 0.3662 - loss: 1.6283 - val_accuracy: 0.2500 - val_loss: 2.1559\n",
      "Epoch 15/50\n",
      "\u001b[1m10/10\u001b[0m \u001b[32m━━━━━━━━━━━━━━━━━━━━\u001b[0m\u001b[37m\u001b[0m \u001b[1m4s\u001b[0m 423ms/step - accuracy: 0.3457 - loss: 1.7334 - val_accuracy: 0.2500 - val_loss: 2.3270\n",
      "Epoch 16/50\n",
      "\u001b[1m10/10\u001b[0m \u001b[32m━━━━━━━━━━━━━━━━━━━━\u001b[0m\u001b[37m\u001b[0m \u001b[1m4s\u001b[0m 384ms/step - accuracy: 0.2979 - loss: 1.8883 - val_accuracy: 0.2500 - val_loss: 2.5709\n",
      "Epoch 17/50\n",
      "\u001b[1m10/10\u001b[0m \u001b[32m━━━━━━━━━━━━━━━━━━━━\u001b[0m\u001b[37m\u001b[0m \u001b[1m4s\u001b[0m 418ms/step - accuracy: 0.3179 - loss: 1.7617 - val_accuracy: 0.2500 - val_loss: 2.9519\n",
      "Epoch 18/50\n",
      "\u001b[1m10/10\u001b[0m \u001b[32m━━━━━━━━━━━━━━━━━━━━\u001b[0m\u001b[37m\u001b[0m \u001b[1m4s\u001b[0m 410ms/step - accuracy: 0.3887 - loss: 1.4770 - val_accuracy: 0.2500 - val_loss: 2.8992\n",
      "Epoch 19/50\n",
      "\u001b[1m10/10\u001b[0m \u001b[32m━━━━━━━━━━━━━━━━━━━━\u001b[0m\u001b[37m\u001b[0m \u001b[1m4s\u001b[0m 428ms/step - accuracy: 0.2808 - loss: 1.6856 - val_accuracy: 0.2500 - val_loss: 3.0642\n",
      "Epoch 20/50\n",
      "\u001b[1m10/10\u001b[0m \u001b[32m━━━━━━━━━━━━━━━━━━━━\u001b[0m\u001b[37m\u001b[0m \u001b[1m4s\u001b[0m 414ms/step - accuracy: 0.3449 - loss: 1.7485 - val_accuracy: 0.2500 - val_loss: 3.0403\n",
      "Epoch 21/50\n",
      "\u001b[1m10/10\u001b[0m \u001b[32m━━━━━━━━━━━━━━━━━━━━\u001b[0m\u001b[37m\u001b[0m \u001b[1m4s\u001b[0m 430ms/step - accuracy: 0.3345 - loss: 1.6155 - val_accuracy: 0.2500 - val_loss: 3.5246\n",
      "Epoch 22/50\n",
      "\u001b[1m10/10\u001b[0m \u001b[32m━━━━━━━━━━━━━━━━━━━━\u001b[0m\u001b[37m\u001b[0m \u001b[1m4s\u001b[0m 419ms/step - accuracy: 0.4311 - loss: 1.6087 - val_accuracy: 0.2500 - val_loss: 3.5156\n",
      "Epoch 23/50\n",
      "\u001b[1m10/10\u001b[0m \u001b[32m━━━━━━━━━━━━━━━━━━━━\u001b[0m\u001b[37m\u001b[0m \u001b[1m4s\u001b[0m 426ms/step - accuracy: 0.3304 - loss: 1.5388 - val_accuracy: 0.2500 - val_loss: 3.6188\n",
      "Epoch 24/50\n",
      "\u001b[1m10/10\u001b[0m \u001b[32m━━━━━━━━━━━━━━━━━━━━\u001b[0m\u001b[37m\u001b[0m \u001b[1m4s\u001b[0m 428ms/step - accuracy: 0.3220 - loss: 1.5392 - val_accuracy: 0.2500 - val_loss: 3.5775\n",
      "Epoch 25/50\n",
      "\u001b[1m10/10\u001b[0m \u001b[32m━━━━━━━━━━━━━━━━━━━━\u001b[0m\u001b[37m\u001b[0m \u001b[1m4s\u001b[0m 409ms/step - accuracy: 0.3874 - loss: 1.4035 - val_accuracy: 0.2500 - val_loss: 3.3638\n",
      "Epoch 26/50\n",
      "\u001b[1m10/10\u001b[0m \u001b[32m━━━━━━━━━━━━━━━━━━━━\u001b[0m\u001b[37m\u001b[0m \u001b[1m4s\u001b[0m 417ms/step - accuracy: 0.3611 - loss: 1.4262 - val_accuracy: 0.2500 - val_loss: 3.3932\n",
      "Epoch 27/50\n",
      "\u001b[1m10/10\u001b[0m \u001b[32m━━━━━━━━━━━━━━━━━━━━\u001b[0m\u001b[37m\u001b[0m \u001b[1m4s\u001b[0m 418ms/step - accuracy: 0.3552 - loss: 1.3655 - val_accuracy: 0.2500 - val_loss: 3.4078\n",
      "Epoch 28/50\n",
      "\u001b[1m10/10\u001b[0m \u001b[32m━━━━━━━━━━━━━━━━━━━━\u001b[0m\u001b[37m\u001b[0m \u001b[1m5s\u001b[0m 511ms/step - accuracy: 0.3631 - loss: 1.4745 - val_accuracy: 0.2500 - val_loss: 3.4463\n",
      "Epoch 29/50\n",
      "\u001b[1m10/10\u001b[0m \u001b[32m━━━━━━━━━━━━━━━━━━━━\u001b[0m\u001b[37m\u001b[0m \u001b[1m5s\u001b[0m 489ms/step - accuracy: 0.2469 - loss: 1.4148 - val_accuracy: 0.2500 - val_loss: 3.1638\n",
      "Epoch 30/50\n",
      "\u001b[1m10/10\u001b[0m \u001b[32m━━━━━━━━━━━━━━━━━━━━\u001b[0m\u001b[37m\u001b[0m \u001b[1m5s\u001b[0m 464ms/step - accuracy: 0.3375 - loss: 1.4167 - val_accuracy: 0.2500 - val_loss: 3.0887\n",
      "Epoch 31/50\n",
      "\u001b[1m10/10\u001b[0m \u001b[32m━━━━━━━━━━━━━━━━━━━━\u001b[0m\u001b[37m\u001b[0m \u001b[1m4s\u001b[0m 401ms/step - accuracy: 0.3482 - loss: 1.4206 - val_accuracy: 0.2500 - val_loss: 3.0590\n",
      "Epoch 32/50\n",
      "\u001b[1m10/10\u001b[0m \u001b[32m━━━━━━━━━━━━━━━━━━━━\u001b[0m\u001b[37m\u001b[0m \u001b[1m4s\u001b[0m 389ms/step - accuracy: 0.3841 - loss: 1.3682 - val_accuracy: 0.2500 - val_loss: 3.1589\n",
      "Epoch 33/50\n",
      "\u001b[1m10/10\u001b[0m \u001b[32m━━━━━━━━━━━━━━━━━━━━\u001b[0m\u001b[37m\u001b[0m \u001b[1m4s\u001b[0m 380ms/step - accuracy: 0.3914 - loss: 1.3311 - val_accuracy: 0.2750 - val_loss: 3.0265\n",
      "Epoch 34/50\n",
      "\u001b[1m10/10\u001b[0m \u001b[32m━━━━━━━━━━━━━━━━━━━━\u001b[0m\u001b[37m\u001b[0m \u001b[1m4s\u001b[0m 403ms/step - accuracy: 0.4118 - loss: 1.3874 - val_accuracy: 0.2500 - val_loss: 2.9128\n",
      "Epoch 35/50\n",
      "\u001b[1m10/10\u001b[0m \u001b[32m━━━━━━━━━━━━━━━━━━━━\u001b[0m\u001b[37m\u001b[0m \u001b[1m4s\u001b[0m 386ms/step - accuracy: 0.3653 - loss: 1.2787 - val_accuracy: 0.2500 - val_loss: 2.6804\n",
      "Epoch 36/50\n",
      "\u001b[1m10/10\u001b[0m \u001b[32m━━━━━━━━━━━━━━━━━━━━\u001b[0m\u001b[37m\u001b[0m \u001b[1m4s\u001b[0m 393ms/step - accuracy: 0.3549 - loss: 1.4301 - val_accuracy: 0.2500 - val_loss: 2.6878\n",
      "Epoch 37/50\n",
      "\u001b[1m10/10\u001b[0m \u001b[32m━━━━━━━━━━━━━━━━━━━━\u001b[0m\u001b[37m\u001b[0m \u001b[1m4s\u001b[0m 381ms/step - accuracy: 0.3156 - loss: 1.4543 - val_accuracy: 0.3000 - val_loss: 2.1277\n",
      "Epoch 38/50\n",
      "\u001b[1m10/10\u001b[0m \u001b[32m━━━━━━━━━━━━━━━━━━━━\u001b[0m\u001b[37m\u001b[0m \u001b[1m4s\u001b[0m 378ms/step - accuracy: 0.3206 - loss: 1.3511 - val_accuracy: 0.3000 - val_loss: 2.0578\n",
      "Epoch 39/50\n",
      "\u001b[1m10/10\u001b[0m \u001b[32m━━━━━━━━━━━━━━━━━━━━\u001b[0m\u001b[37m\u001b[0m \u001b[1m4s\u001b[0m 423ms/step - accuracy: 0.2685 - loss: 1.5174 - val_accuracy: 0.2750 - val_loss: 1.9249\n",
      "Epoch 40/50\n",
      "\u001b[1m10/10\u001b[0m \u001b[32m━━━━━━━━━━━━━━━━━━━━\u001b[0m\u001b[37m\u001b[0m \u001b[1m5s\u001b[0m 470ms/step - accuracy: 0.4173 - loss: 1.2610 - val_accuracy: 0.2750 - val_loss: 1.8144\n",
      "Epoch 41/50\n",
      "\u001b[1m10/10\u001b[0m \u001b[32m━━━━━━━━━━━━━━━━━━━━\u001b[0m\u001b[37m\u001b[0m \u001b[1m4s\u001b[0m 410ms/step - accuracy: 0.3590 - loss: 1.3188 - val_accuracy: 0.3500 - val_loss: 1.6636\n",
      "Epoch 42/50\n",
      "\u001b[1m10/10\u001b[0m \u001b[32m━━━━━━━━━━━━━━━━━━━━\u001b[0m\u001b[37m\u001b[0m \u001b[1m6s\u001b[0m 575ms/step - accuracy: 0.3781 - loss: 1.3451 - val_accuracy: 0.2750 - val_loss: 1.8199\n",
      "Epoch 43/50\n",
      "\u001b[1m10/10\u001b[0m \u001b[32m━━━━━━━━━━━━━━━━━━━━\u001b[0m\u001b[37m\u001b[0m \u001b[1m5s\u001b[0m 447ms/step - accuracy: 0.3449 - loss: 1.4038 - val_accuracy: 0.2750 - val_loss: 1.6306\n",
      "Epoch 44/50\n",
      "\u001b[1m10/10\u001b[0m \u001b[32m━━━━━━━━━━━━━━━━━━━━\u001b[0m\u001b[37m\u001b[0m \u001b[1m4s\u001b[0m 441ms/step - accuracy: 0.4616 - loss: 1.2044 - val_accuracy: 0.3250 - val_loss: 1.4372\n",
      "Epoch 45/50\n",
      "\u001b[1m10/10\u001b[0m \u001b[32m━━━━━━━━━━━━━━━━━━━━\u001b[0m\u001b[37m\u001b[0m \u001b[1m5s\u001b[0m 487ms/step - accuracy: 0.4322 - loss: 1.3497 - val_accuracy: 0.2750 - val_loss: 1.4076\n",
      "Epoch 46/50\n",
      "\u001b[1m10/10\u001b[0m \u001b[32m━━━━━━━━━━━━━━━━━━━━\u001b[0m\u001b[37m\u001b[0m \u001b[1m5s\u001b[0m 477ms/step - accuracy: 0.3334 - loss: 1.2793 - val_accuracy: 0.4250 - val_loss: 1.4018\n",
      "Epoch 47/50\n",
      "\u001b[1m10/10\u001b[0m \u001b[32m━━━━━━━━━━━━━━━━━━━━\u001b[0m\u001b[37m\u001b[0m \u001b[1m5s\u001b[0m 470ms/step - accuracy: 0.3407 - loss: 1.3330 - val_accuracy: 0.4000 - val_loss: 1.3691\n",
      "Epoch 48/50\n",
      "\u001b[1m10/10\u001b[0m \u001b[32m━━━━━━━━━━━━━━━━━━━━\u001b[0m\u001b[37m\u001b[0m \u001b[1m4s\u001b[0m 428ms/step - accuracy: 0.3963 - loss: 1.2732 - val_accuracy: 0.3750 - val_loss: 1.3695\n",
      "Epoch 49/50\n",
      "\u001b[1m10/10\u001b[0m \u001b[32m━━━━━━━━━━━━━━━━━━━━\u001b[0m\u001b[37m\u001b[0m \u001b[1m4s\u001b[0m 433ms/step - accuracy: 0.3390 - loss: 1.2853 - val_accuracy: 0.4000 - val_loss: 1.3010\n",
      "Epoch 50/50\n",
      "\u001b[1m10/10\u001b[0m \u001b[32m━━━━━━━━━━━━━━━━━━━━\u001b[0m\u001b[37m\u001b[0m \u001b[1m5s\u001b[0m 453ms/step - accuracy: 0.3862 - loss: 1.2658 - val_accuracy: 0.5000 - val_loss: 1.2435\n"
     ]
    }
   ],
   "source": [
    "import tensorflow as tf\n",
    "from tensorflow.keras.models import Sequential\n",
    "from tensorflow.keras.optimizers import Adam\n",
    "from tensorflow.keras.layers import Conv2D, MaxPooling2D, Flatten, Dense, Dropout, BatchNormalization, Input\n",
    "from tensorflow.keras.preprocessing.image import ImageDataGenerator\n",
    "from sklearn.utils.class_weight import compute_class_weight\n",
    "\n",
    "# Veri hazırlama\n",
    "train_datagen = ImageDataGenerator(\n",
    "    rescale=1./255,\n",
    "    rotation_range=40,          # Daha geniş dönüş açısı\n",
    "    width_shift_range=0.3,      # Daha geniş yatay kaydırma\n",
    "    height_shift_range=0.3,     # Daha geniş dikey kaydırma\n",
    "    shear_range=0.3,            # Daha fazla şekil kaydırma\n",
    "    zoom_range=0.3,             # Daha geniş yakınlaştırma\n",
    "    horizontal_flip=True,\n",
    "    fill_mode=\"nearest\",\n",
    "    validation_split=0.2\n",
    ")\n",
    "\n",
    "# Eğitim ve doğrulama verisi için veri jeneratörleri\n",
    "train_generator = train_datagen.flow_from_directory(\n",
    "    \"processed_images\",\n",
    "    target_size=(128, 128),\n",
    "    batch_size=16,\n",
    "    class_mode=\"categorical\",\n",
    "    subset=\"training\"  # Eğitim verisi\n",
    ")\n",
    "\n",
    "val_generator = train_datagen.flow_from_directory(\n",
    "    \"processed_images\",\n",
    "    target_size=(128, 128),\n",
    "    batch_size=16,\n",
    "    class_mode=\"categorical\",\n",
    "    subset=\"validation\"  # Doğrulama verisi\n",
    ")\n",
    "\n",
    "# CNN Modeli\n",
    "model = Sequential([\n",
    "    Input(shape=(128, 128, 3)),\n",
    "    Conv2D(32, (3, 3), activation=\"relu\", padding=\"same\"),\n",
    "    BatchNormalization(),\n",
    "    MaxPooling2D((2, 2)),\n",
    "    \n",
    "    Conv2D(64, (3, 3), activation=\"relu\", padding=\"same\"),\n",
    "    BatchNormalization(),\n",
    "    MaxPooling2D((2, 2)),\n",
    "\n",
    "    Conv2D(128, (3, 3), activation=\"relu\", padding=\"same\"),\n",
    "    BatchNormalization(),\n",
    "    MaxPooling2D((2, 2)),\n",
    "\n",
    "    Conv2D(256, (3, 3), activation=\"relu\", padding=\"same\"),\n",
    "    BatchNormalization(),\n",
    "    MaxPooling2D((2, 2)),\n",
    "\n",
    "    Flatten(),\n",
    "    Dense(512, activation=\"relu\"),\n",
    "    Dropout(0.5),\n",
    "    Dense(256, activation=\"relu\"),\n",
    "    Dropout(0.5),\n",
    "    Dense(train_generator.num_classes, activation=\"softmax\")\n",
    "])\n",
    "\n",
    "# Modeli derleme\n",
    "model.compile(optimizer=Adam(learning_rate=0.0001), loss=\"categorical_crossentropy\", metrics=[\"accuracy\"])\n",
    "\n",
    "# Modeli eğitme\n",
    "class_weights = compute_class_weight(\n",
    "    class_weight=\"balanced\",\n",
    "    classes=np.unique(train_generator.classes),\n",
    "    y=train_generator.classes\n",
    ")\n",
    "model.fit(\n",
    "    train_generator,\n",
    "    validation_data=val_generator,\n",
    "    epochs=50,\n",
    "    class_weight=dict(enumerate(class_weights))\n",
    ")\n",
    "\n",
    "# Modeli kaydetme\n",
    "model.save(\"shoe_classifier_model.keras\")\n",
    "\n",
    "# Modeli yükleme (sonraki kullanım için)\n",
    "model = tf.keras.models.load_model(\"shoe_classifier_model.keras\")"
   ]
  },
  {
   "cell_type": "code",
   "execution_count": 29,
   "id": "64b70f2e-9412-4573-8ee1-f70189da0caf",
   "metadata": {
    "scrolled": true
   },
   "outputs": [
    {
     "name": "stdout",
     "output_type": "stream",
     "text": [
      "Found 200 images belonging to 4 classes.\n",
      "Veri boyutu: (200, 128, 128, 3), Etiket boyutu: (200, 1)\n",
      "Sınıflar: {'Babet': 0, 'Bot': 1, 'Sneaker': 2, 'Topuklu Ayakkabı': 3}\n",
      "\n",
      "Model: Support Vector Machine\n"
     ]
    },
    {
     "name": "stderr",
     "output_type": "stream",
     "text": [
      "C:\\Users\\yusuf\\AppData\\Local\\Programs\\Python\\Python310\\lib\\site-packages\\sklearn\\utils\\validation.py:1408: DataConversionWarning: A column-vector y was passed when a 1d array was expected. Please change the shape of y to (n_samples, ), for example using ravel().\n",
      "  y = column_or_1d(y, warn=True)\n"
     ]
    },
    {
     "name": "stdout",
     "output_type": "stream",
     "text": [
      "Fold 1 Doğruluk: 0.4000\n"
     ]
    },
    {
     "name": "stderr",
     "output_type": "stream",
     "text": [
      "C:\\Users\\yusuf\\AppData\\Local\\Programs\\Python\\Python310\\lib\\site-packages\\sklearn\\utils\\validation.py:1408: DataConversionWarning: A column-vector y was passed when a 1d array was expected. Please change the shape of y to (n_samples, ), for example using ravel().\n",
      "  y = column_or_1d(y, warn=True)\n"
     ]
    },
    {
     "name": "stdout",
     "output_type": "stream",
     "text": [
      "Fold 2 Doğruluk: 0.5500\n"
     ]
    },
    {
     "name": "stderr",
     "output_type": "stream",
     "text": [
      "C:\\Users\\yusuf\\AppData\\Local\\Programs\\Python\\Python310\\lib\\site-packages\\sklearn\\utils\\validation.py:1408: DataConversionWarning: A column-vector y was passed when a 1d array was expected. Please change the shape of y to (n_samples, ), for example using ravel().\n",
      "  y = column_or_1d(y, warn=True)\n"
     ]
    },
    {
     "name": "stdout",
     "output_type": "stream",
     "text": [
      "Fold 3 Doğruluk: 0.5500\n"
     ]
    },
    {
     "name": "stderr",
     "output_type": "stream",
     "text": [
      "C:\\Users\\yusuf\\AppData\\Local\\Programs\\Python\\Python310\\lib\\site-packages\\sklearn\\utils\\validation.py:1408: DataConversionWarning: A column-vector y was passed when a 1d array was expected. Please change the shape of y to (n_samples, ), for example using ravel().\n",
      "  y = column_or_1d(y, warn=True)\n"
     ]
    },
    {
     "name": "stdout",
     "output_type": "stream",
     "text": [
      "Fold 4 Doğruluk: 0.3000\n"
     ]
    },
    {
     "name": "stderr",
     "output_type": "stream",
     "text": [
      "C:\\Users\\yusuf\\AppData\\Local\\Programs\\Python\\Python310\\lib\\site-packages\\sklearn\\utils\\validation.py:1408: DataConversionWarning: A column-vector y was passed when a 1d array was expected. Please change the shape of y to (n_samples, ), for example using ravel().\n",
      "  y = column_or_1d(y, warn=True)\n"
     ]
    },
    {
     "name": "stdout",
     "output_type": "stream",
     "text": [
      "Fold 5 Doğruluk: 0.5000\n"
     ]
    },
    {
     "name": "stderr",
     "output_type": "stream",
     "text": [
      "C:\\Users\\yusuf\\AppData\\Local\\Programs\\Python\\Python310\\lib\\site-packages\\sklearn\\utils\\validation.py:1408: DataConversionWarning: A column-vector y was passed when a 1d array was expected. Please change the shape of y to (n_samples, ), for example using ravel().\n",
      "  y = column_or_1d(y, warn=True)\n"
     ]
    },
    {
     "name": "stdout",
     "output_type": "stream",
     "text": [
      "Fold 6 Doğruluk: 0.6500\n"
     ]
    },
    {
     "name": "stderr",
     "output_type": "stream",
     "text": [
      "C:\\Users\\yusuf\\AppData\\Local\\Programs\\Python\\Python310\\lib\\site-packages\\sklearn\\utils\\validation.py:1408: DataConversionWarning: A column-vector y was passed when a 1d array was expected. Please change the shape of y to (n_samples, ), for example using ravel().\n",
      "  y = column_or_1d(y, warn=True)\n"
     ]
    },
    {
     "name": "stdout",
     "output_type": "stream",
     "text": [
      "Fold 7 Doğruluk: 0.1500\n"
     ]
    },
    {
     "name": "stderr",
     "output_type": "stream",
     "text": [
      "C:\\Users\\yusuf\\AppData\\Local\\Programs\\Python\\Python310\\lib\\site-packages\\sklearn\\utils\\validation.py:1408: DataConversionWarning: A column-vector y was passed when a 1d array was expected. Please change the shape of y to (n_samples, ), for example using ravel().\n",
      "  y = column_or_1d(y, warn=True)\n"
     ]
    },
    {
     "name": "stdout",
     "output_type": "stream",
     "text": [
      "Fold 8 Doğruluk: 0.3500\n"
     ]
    },
    {
     "name": "stderr",
     "output_type": "stream",
     "text": [
      "C:\\Users\\yusuf\\AppData\\Local\\Programs\\Python\\Python310\\lib\\site-packages\\sklearn\\utils\\validation.py:1408: DataConversionWarning: A column-vector y was passed when a 1d array was expected. Please change the shape of y to (n_samples, ), for example using ravel().\n",
      "  y = column_or_1d(y, warn=True)\n"
     ]
    },
    {
     "name": "stdout",
     "output_type": "stream",
     "text": [
      "Fold 9 Doğruluk: 0.5000\n"
     ]
    },
    {
     "name": "stderr",
     "output_type": "stream",
     "text": [
      "C:\\Users\\yusuf\\AppData\\Local\\Programs\\Python\\Python310\\lib\\site-packages\\sklearn\\utils\\validation.py:1408: DataConversionWarning: A column-vector y was passed when a 1d array was expected. Please change the shape of y to (n_samples, ), for example using ravel().\n",
      "  y = column_or_1d(y, warn=True)\n"
     ]
    },
    {
     "name": "stdout",
     "output_type": "stream",
     "text": [
      "Fold 10 Doğruluk: 0.4000\n",
      "Model: Support Vector Machine, Ortalama Doğruluk: 0.4350\n",
      "\n",
      "Model: Multilayer Perceptron\n"
     ]
    },
    {
     "name": "stderr",
     "output_type": "stream",
     "text": [
      "C:\\Users\\yusuf\\AppData\\Local\\Programs\\Python\\Python310\\lib\\site-packages\\sklearn\\neural_network\\_multilayer_perceptron.py:1119: DataConversionWarning: A column-vector y was passed when a 1d array was expected. Please change the shape of y to (n_samples, ), for example using ravel().\n",
      "  y = column_or_1d(y, warn=True)\n"
     ]
    },
    {
     "name": "stdout",
     "output_type": "stream",
     "text": [
      "Fold 1 Doğruluk: 0.4000\n"
     ]
    },
    {
     "name": "stderr",
     "output_type": "stream",
     "text": [
      "C:\\Users\\yusuf\\AppData\\Local\\Programs\\Python\\Python310\\lib\\site-packages\\sklearn\\neural_network\\_multilayer_perceptron.py:1119: DataConversionWarning: A column-vector y was passed when a 1d array was expected. Please change the shape of y to (n_samples, ), for example using ravel().\n",
      "  y = column_or_1d(y, warn=True)\n"
     ]
    },
    {
     "name": "stdout",
     "output_type": "stream",
     "text": [
      "Fold 2 Doğruluk: 0.4000\n"
     ]
    },
    {
     "name": "stderr",
     "output_type": "stream",
     "text": [
      "C:\\Users\\yusuf\\AppData\\Local\\Programs\\Python\\Python310\\lib\\site-packages\\sklearn\\neural_network\\_multilayer_perceptron.py:1119: DataConversionWarning: A column-vector y was passed when a 1d array was expected. Please change the shape of y to (n_samples, ), for example using ravel().\n",
      "  y = column_or_1d(y, warn=True)\n"
     ]
    },
    {
     "name": "stdout",
     "output_type": "stream",
     "text": [
      "Fold 3 Doğruluk: 0.2000\n"
     ]
    },
    {
     "name": "stderr",
     "output_type": "stream",
     "text": [
      "C:\\Users\\yusuf\\AppData\\Local\\Programs\\Python\\Python310\\lib\\site-packages\\sklearn\\neural_network\\_multilayer_perceptron.py:1119: DataConversionWarning: A column-vector y was passed when a 1d array was expected. Please change the shape of y to (n_samples, ), for example using ravel().\n",
      "  y = column_or_1d(y, warn=True)\n"
     ]
    },
    {
     "name": "stdout",
     "output_type": "stream",
     "text": [
      "Fold 4 Doğruluk: 0.3000\n"
     ]
    },
    {
     "name": "stderr",
     "output_type": "stream",
     "text": [
      "C:\\Users\\yusuf\\AppData\\Local\\Programs\\Python\\Python310\\lib\\site-packages\\sklearn\\neural_network\\_multilayer_perceptron.py:1119: DataConversionWarning: A column-vector y was passed when a 1d array was expected. Please change the shape of y to (n_samples, ), for example using ravel().\n",
      "  y = column_or_1d(y, warn=True)\n"
     ]
    },
    {
     "name": "stdout",
     "output_type": "stream",
     "text": [
      "Fold 5 Doğruluk: 0.1500\n"
     ]
    },
    {
     "name": "stderr",
     "output_type": "stream",
     "text": [
      "C:\\Users\\yusuf\\AppData\\Local\\Programs\\Python\\Python310\\lib\\site-packages\\sklearn\\neural_network\\_multilayer_perceptron.py:1119: DataConversionWarning: A column-vector y was passed when a 1d array was expected. Please change the shape of y to (n_samples, ), for example using ravel().\n",
      "  y = column_or_1d(y, warn=True)\n"
     ]
    },
    {
     "name": "stdout",
     "output_type": "stream",
     "text": [
      "Fold 6 Doğruluk: 0.2000\n"
     ]
    },
    {
     "name": "stderr",
     "output_type": "stream",
     "text": [
      "C:\\Users\\yusuf\\AppData\\Local\\Programs\\Python\\Python310\\lib\\site-packages\\sklearn\\neural_network\\_multilayer_perceptron.py:1119: DataConversionWarning: A column-vector y was passed when a 1d array was expected. Please change the shape of y to (n_samples, ), for example using ravel().\n",
      "  y = column_or_1d(y, warn=True)\n"
     ]
    },
    {
     "name": "stdout",
     "output_type": "stream",
     "text": [
      "Fold 7 Doğruluk: 0.4000\n"
     ]
    },
    {
     "name": "stderr",
     "output_type": "stream",
     "text": [
      "C:\\Users\\yusuf\\AppData\\Local\\Programs\\Python\\Python310\\lib\\site-packages\\sklearn\\neural_network\\_multilayer_perceptron.py:1119: DataConversionWarning: A column-vector y was passed when a 1d array was expected. Please change the shape of y to (n_samples, ), for example using ravel().\n",
      "  y = column_or_1d(y, warn=True)\n"
     ]
    },
    {
     "name": "stdout",
     "output_type": "stream",
     "text": [
      "Fold 8 Doğruluk: 0.3000\n"
     ]
    },
    {
     "name": "stderr",
     "output_type": "stream",
     "text": [
      "C:\\Users\\yusuf\\AppData\\Local\\Programs\\Python\\Python310\\lib\\site-packages\\sklearn\\neural_network\\_multilayer_perceptron.py:1119: DataConversionWarning: A column-vector y was passed when a 1d array was expected. Please change the shape of y to (n_samples, ), for example using ravel().\n",
      "  y = column_or_1d(y, warn=True)\n"
     ]
    },
    {
     "name": "stdout",
     "output_type": "stream",
     "text": [
      "Fold 9 Doğruluk: 0.4000\n"
     ]
    },
    {
     "name": "stderr",
     "output_type": "stream",
     "text": [
      "C:\\Users\\yusuf\\AppData\\Local\\Programs\\Python\\Python310\\lib\\site-packages\\sklearn\\neural_network\\_multilayer_perceptron.py:1119: DataConversionWarning: A column-vector y was passed when a 1d array was expected. Please change the shape of y to (n_samples, ), for example using ravel().\n",
      "  y = column_or_1d(y, warn=True)\n"
     ]
    },
    {
     "name": "stdout",
     "output_type": "stream",
     "text": [
      "Fold 10 Doğruluk: 0.3000\n",
      "Model: Multilayer Perceptron, Ortalama Doğruluk: 0.3050\n",
      "\n",
      "Model: Random Forest\n"
     ]
    },
    {
     "name": "stderr",
     "output_type": "stream",
     "text": [
      "C:\\Users\\yusuf\\AppData\\Local\\Programs\\Python\\Python310\\lib\\site-packages\\sklearn\\base.py:1389: DataConversionWarning: A column-vector y was passed when a 1d array was expected. Please change the shape of y to (n_samples,), for example using ravel().\n",
      "  return fit_method(estimator, *args, **kwargs)\n"
     ]
    },
    {
     "name": "stdout",
     "output_type": "stream",
     "text": [
      "Fold 1 Doğruluk: 0.3000\n"
     ]
    },
    {
     "name": "stderr",
     "output_type": "stream",
     "text": [
      "C:\\Users\\yusuf\\AppData\\Local\\Programs\\Python\\Python310\\lib\\site-packages\\sklearn\\base.py:1389: DataConversionWarning: A column-vector y was passed when a 1d array was expected. Please change the shape of y to (n_samples,), for example using ravel().\n",
      "  return fit_method(estimator, *args, **kwargs)\n"
     ]
    },
    {
     "name": "stdout",
     "output_type": "stream",
     "text": [
      "Fold 2 Doğruluk: 0.6000\n"
     ]
    },
    {
     "name": "stderr",
     "output_type": "stream",
     "text": [
      "C:\\Users\\yusuf\\AppData\\Local\\Programs\\Python\\Python310\\lib\\site-packages\\sklearn\\base.py:1389: DataConversionWarning: A column-vector y was passed when a 1d array was expected. Please change the shape of y to (n_samples,), for example using ravel().\n",
      "  return fit_method(estimator, *args, **kwargs)\n"
     ]
    },
    {
     "name": "stdout",
     "output_type": "stream",
     "text": [
      "Fold 3 Doğruluk: 0.5500\n"
     ]
    },
    {
     "name": "stderr",
     "output_type": "stream",
     "text": [
      "C:\\Users\\yusuf\\AppData\\Local\\Programs\\Python\\Python310\\lib\\site-packages\\sklearn\\base.py:1389: DataConversionWarning: A column-vector y was passed when a 1d array was expected. Please change the shape of y to (n_samples,), for example using ravel().\n",
      "  return fit_method(estimator, *args, **kwargs)\n"
     ]
    },
    {
     "name": "stdout",
     "output_type": "stream",
     "text": [
      "Fold 4 Doğruluk: 0.2500\n"
     ]
    },
    {
     "name": "stderr",
     "output_type": "stream",
     "text": [
      "C:\\Users\\yusuf\\AppData\\Local\\Programs\\Python\\Python310\\lib\\site-packages\\sklearn\\base.py:1389: DataConversionWarning: A column-vector y was passed when a 1d array was expected. Please change the shape of y to (n_samples,), for example using ravel().\n",
      "  return fit_method(estimator, *args, **kwargs)\n"
     ]
    },
    {
     "name": "stdout",
     "output_type": "stream",
     "text": [
      "Fold 5 Doğruluk: 0.6000\n"
     ]
    },
    {
     "name": "stderr",
     "output_type": "stream",
     "text": [
      "C:\\Users\\yusuf\\AppData\\Local\\Programs\\Python\\Python310\\lib\\site-packages\\sklearn\\base.py:1389: DataConversionWarning: A column-vector y was passed when a 1d array was expected. Please change the shape of y to (n_samples,), for example using ravel().\n",
      "  return fit_method(estimator, *args, **kwargs)\n"
     ]
    },
    {
     "name": "stdout",
     "output_type": "stream",
     "text": [
      "Fold 6 Doğruluk: 0.5500\n"
     ]
    },
    {
     "name": "stderr",
     "output_type": "stream",
     "text": [
      "C:\\Users\\yusuf\\AppData\\Local\\Programs\\Python\\Python310\\lib\\site-packages\\sklearn\\base.py:1389: DataConversionWarning: A column-vector y was passed when a 1d array was expected. Please change the shape of y to (n_samples,), for example using ravel().\n",
      "  return fit_method(estimator, *args, **kwargs)\n"
     ]
    },
    {
     "name": "stdout",
     "output_type": "stream",
     "text": [
      "Fold 7 Doğruluk: 0.2500\n"
     ]
    },
    {
     "name": "stderr",
     "output_type": "stream",
     "text": [
      "C:\\Users\\yusuf\\AppData\\Local\\Programs\\Python\\Python310\\lib\\site-packages\\sklearn\\base.py:1389: DataConversionWarning: A column-vector y was passed when a 1d array was expected. Please change the shape of y to (n_samples,), for example using ravel().\n",
      "  return fit_method(estimator, *args, **kwargs)\n"
     ]
    },
    {
     "name": "stdout",
     "output_type": "stream",
     "text": [
      "Fold 8 Doğruluk: 0.5500\n"
     ]
    },
    {
     "name": "stderr",
     "output_type": "stream",
     "text": [
      "C:\\Users\\yusuf\\AppData\\Local\\Programs\\Python\\Python310\\lib\\site-packages\\sklearn\\base.py:1389: DataConversionWarning: A column-vector y was passed when a 1d array was expected. Please change the shape of y to (n_samples,), for example using ravel().\n",
      "  return fit_method(estimator, *args, **kwargs)\n"
     ]
    },
    {
     "name": "stdout",
     "output_type": "stream",
     "text": [
      "Fold 9 Doğruluk: 0.4500\n"
     ]
    },
    {
     "name": "stderr",
     "output_type": "stream",
     "text": [
      "C:\\Users\\yusuf\\AppData\\Local\\Programs\\Python\\Python310\\lib\\site-packages\\sklearn\\base.py:1389: DataConversionWarning: A column-vector y was passed when a 1d array was expected. Please change the shape of y to (n_samples,), for example using ravel().\n",
      "  return fit_method(estimator, *args, **kwargs)\n"
     ]
    },
    {
     "name": "stdout",
     "output_type": "stream",
     "text": [
      "Fold 10 Doğruluk: 0.4500\n",
      "Model: Random Forest, Ortalama Doğruluk: 0.4550\n",
      "\n",
      "=== Model Karşılaştırması ===\n",
      "Support Vector Machine: Ortalama Doğruluk = 0.4350\n",
      "Multilayer Perceptron: Ortalama Doğruluk = 0.3050\n",
      "Random Forest: Ortalama Doğruluk = 0.4550\n"
     ]
    },
    {
     "data": {
      "image/png": "[encoded data removed]",
      "text/plain": [
       "<Figure size 640x480 with 1 Axes>"
      ]
     },
     "metadata": {},
     "output_type": "display_data"
    }
   ],
   "source": [
    "import os\n",
    "import numpy as np\n",
    "import pandas as pd\n",
    "import joblib\n",
    "from sklearn.model_selection import KFold, train_test_split\n",
    "from sklearn.metrics import classification_report, accuracy_score\n",
    "from sklearn.svm import SVC  # SVM modelini ekledik\n",
    "from sklearn.ensemble import RandomForestClassifier\n",
    "from sklearn.neural_network import MLPClassifier\n",
    "from tensorflow.keras.preprocessing.image import ImageDataGenerator\n",
    "import matplotlib.pyplot as plt\n",
    "\n",
    "# Veri setini işleme\n",
    "def load_data(data_dir, target_size=(128, 128)):\n",
    "    datagen = ImageDataGenerator(rescale=1.0 / 255)\n",
    "    generator = datagen.flow_from_directory(\n",
    "        data_dir,\n",
    "        target_size=target_size,\n",
    "        batch_size=1,\n",
    "        class_mode=\"sparse\",\n",
    "        shuffle=False\n",
    "    )\n",
    "\n",
    "    images = []\n",
    "    labels = []\n",
    "\n",
    "    for i in range(len(generator.filenames)):\n",
    "        img, label = next(generator)  # .next() yerine Python'un yerleşik next() fonksiyonu kullanılıyor\n",
    "        images.append(img[0])  # İlk batch'in ilk görselini al\n",
    "        labels.append(label)   # İlk batch'in etiketini al\n",
    "\n",
    "    images = np.array(images)\n",
    "    labels = np.array(labels)\n",
    "\n",
    "    return images, labels, generator.class_indices\n",
    "\n",
    "# Veriyi yükle\n",
    "data_dir = \"processed_images\"  # Verilerinizin bulunduğu klasör\n",
    "images, labels, class_mapping = load_data(data_dir)\n",
    "print(f\"Veri boyutu: {images.shape}, Etiket boyutu: {labels.shape}\")\n",
    "print(f\"Sınıflar: {class_mapping}\")\n",
    "\n",
    "# Verileri düzleştir (Flatten)\n",
    "X = images.reshape(images.shape[0], -1)  # Görüntüleri 1D vektöre dönüştür\n",
    "y = labels\n",
    "\n",
    "# Çapraz doğrulama ayarları\n",
    "kf = KFold(n_splits=10, shuffle=True, random_state=42)\n",
    "\n",
    "# Modelleri tanımla\n",
    "models = {\n",
    "    \"Support Vector Machine\": SVC(kernel=\"rbf\", probability=True),  # SVM modelini ekledik\n",
    "    \"Multilayer Perceptron\": MLPClassifier(hidden_layer_sizes=(128, 64), max_iter=500, random_state=42),\n",
    "    \"Random Forest\": RandomForestClassifier(n_estimators=100, random_state=42)\n",
    "}\n",
    "\n",
    "# Her model için sonuçları sakla\n",
    "results = {}\n",
    "\n",
    "for model_name, model in models.items():\n",
    "    print(f\"\\nModel: {model_name}\")\n",
    "    fold_accuracies = []\n",
    "\n",
    "    for fold, (train_idx, test_idx) in enumerate(kf.split(X)):\n",
    "        # Eğitim ve test bölmeleri\n",
    "        X_train, X_test = X[train_idx], X[test_idx]\n",
    "        y_train, y_test = y[train_idx], y[test_idx]\n",
    "\n",
    "        # Modeli eğit\n",
    "        model.fit(X_train, y_train)\n",
    "\n",
    "        # Tahmin yap\n",
    "        y_pred = model.predict(X_test)\n",
    "\n",
    "        # Doğruluk oranını hesapla\n",
    "        accuracy = accuracy_score(y_test, y_pred)\n",
    "        fold_accuracies.append(accuracy)\n",
    "\n",
    "        print(f\"Fold {fold + 1} Doğruluk: {accuracy:.4f}\")\n",
    "\n",
    "    # Ortalama doğruluğu hesapla\n",
    "    mean_accuracy = np.mean(fold_accuracies)\n",
    "    results[model_name] = mean_accuracy\n",
    "    print(f\"Model: {model_name}, Ortalama Doğruluk: {mean_accuracy:.4f}\")\n",
    "\n",
    "    # Modeli kaydet\n",
    "    joblib.dump(model, f'{model_name.lower().replace(\" \", \"_\")}_model.pkl')\n",
    "\n",
    "# Sonuçları karşılaştır\n",
    "print(\"\\n=== Model Karşılaştırması ===\")\n",
    "for model_name, accuracy in results.items():\n",
    "    print(f\"{model_name}: Ortalama Doğruluk = {accuracy:.4f}\")\n",
    "\n",
    "# Sonuçları görselleştir\n",
    "model_names = list(results.keys())\n",
    "accuracies = list(results.values())\n",
    "\n",
    "plt.bar(model_names, accuracies, color=['blue', 'green', 'red'])\n",
    "plt.xlabel('Modeller')\n",
    "plt.ylabel('Ortalama Doğruluk')\n",
    "plt.title('Model Performans Karşılaştırması')\n",
    "plt.show()"
   ]
  },
  {
   "cell_type": "code",
   "execution_count": 31,
   "id": "748450ff-7970-4a5c-a154-0d2a6d7b49ad",
   "metadata": {
    "scrolled": true
   },
   "outputs": [
    {
     "name": "stdout",
     "output_type": "stream",
     "text": [
      "İndirildi: test_images\\image_page1_1.jpg\n",
      "İndirildi: test_images\\image_page1_2.jpg\n",
      "İndirildi: test_images\\image_page1_3.jpg\n",
      "İndirildi: test_images\\image_page1_4.jpg\n",
      "İndirildi: test_images\\image_page1_5.jpg\n",
      "İndirildi: test_images\\image_page1_6.jpg\n",
      "İndirildi: test_images\\image_page1_7.jpg\n",
      "İndirildi: test_images\\image_page1_8.jpg\n",
      "İndirildi: test_images\\image_page1_9.jpg\n",
      "İndirildi: test_images\\image_page1_10.jpg\n",
      "İndirildi: test_images\\image_page1_11.jpg\n",
      "İndirildi: test_images\\image_page1_12.jpg\n",
      "İndirildi: test_images\\image_page1_13.jpg\n",
      "İndirildi: test_images\\image_page1_14.jpg\n",
      "İndirildi: test_images\\image_page1_15.jpg\n",
      "İndirildi: test_images\\image_page1_16.jpg\n",
      "İndirildi: test_images\\image_page1_17.jpg\n",
      "İndirildi: test_images\\image_page1_18.jpg\n",
      "İndirildi: test_images\\image_page1_19.jpg\n",
      "İndirildi: test_images\\image_page1_20.jpg\n",
      "İndirildi: test_images\\image_page1_21.jpg\n",
      "İndirildi: test_images\\image_page1_22.jpg\n",
      "İndirildi: test_images\\image_page1_23.jpg\n",
      "İndirildi: test_images\\image_page1_24.jpg\n",
      "İndirildi: test_images\\image_page2_1.jpg\n",
      "İndirildi: test_images\\image_page2_2.jpg\n",
      "Tekrarlanan URL atlandı: https://cdn.dsmcdn.com/ty1009/product/media/images/prod/SPM/PIM/20230929/16/68d8d5b0-2810-33bf-8578-c73981e08c65/1_org.jpg\n",
      "İndirildi: test_images\\image_page2_4.jpg\n",
      "İndirildi: test_images\\image_page2_5.jpg\n",
      "Tekrarlanan URL atlandı: https://cdn.dsmcdn.com/ty1614/prod/QC/20241222/01/e91e7238-8974-3a7a-bb79-ec8ad399dd27/1_org.jpg\n",
      "İndirildi: test_images\\image_page2_7.jpg\n",
      "İndirildi: test_images\\image_page2_8.jpg\n",
      "Tekrarlanan URL atlandı: https://cdn.dsmcdn.com/ty1607/prod/QC/20241127/13/bb6b329b-3286-3686-86b7-ad4c665457b9/1_org.jpg\n",
      "İndirildi: test_images\\image_page2_10.jpg\n",
      "İndirildi: test_images\\image_page2_11.jpg\n",
      "Tekrarlanan URL atlandı: https://cdn.dsmcdn.com/ty1620/prod/QC/20250108/00/f7abe1bb-1049-3061-bb9c-a86a43970cc0/1_org.jpg\n",
      "İndirildi: test_images\\image_page2_13.jpg\n",
      "İndirildi: test_images\\image_page2_14.jpg\n",
      "Tekrarlanan URL atlandı: https://cdn.dsmcdn.com/ty1599/prod/QC/20241108/10/e6ba0313-8db4-3454-bb95-77fd3aa3af27/1_org.jpg\n",
      "İndirildi: test_images\\image_page2_16.jpg\n",
      "İndirildi: test_images\\image_page2_17.jpg\n",
      "Tekrarlanan URL atlandı: https://cdn.dsmcdn.com/ty1614/prod/QC/20241220/12/a4c7cd1e-c811-3905-ad09-ab747df81b35/1_org.jpg\n",
      "İndirildi: test_images\\image_page2_19.jpg\n",
      "İndirildi: test_images\\image_page2_20.jpg\n",
      "Tekrarlanan URL atlandı: https://cdn.dsmcdn.com/ty1585/prod/QC/20241015/20/47e7ee83-d1ea-3d55-8c0b-0737ffe06ec2/1_org.jpg\n",
      "İndirildi: test_images\\image_page2_22.jpg\n",
      "İndirildi: test_images\\image_page2_23.jpg\n",
      "Tekrarlanan URL atlandı: https://cdn.dsmcdn.com/ty1583/prod/QC/20241009/14/9d79ef62-e421-3e0c-be2d-2d9ed53b20ae/1_org.jpg\n",
      "İndirildi: test_images\\image_page3_1.jpg\n",
      "İndirildi: test_images\\image_page3_2.jpg\n",
      "Tekrarlanan URL atlandı: https://cdn.dsmcdn.com/ty1009/product/media/images/prod/SPM/PIM/20230929/16/68d8d5b0-2810-33bf-8578-c73981e08c65/1_org.jpg\n",
      "İndirildi: test_images\\image_page3_4.jpg\n",
      "İndirildi: test_images\\image_page3_5.jpg\n",
      "Tekrarlanan URL atlandı: https://cdn.dsmcdn.com/ty1614/prod/QC/20241222/01/e91e7238-8974-3a7a-bb79-ec8ad399dd27/1_org.jpg\n",
      "İndirildi: test_images\\image_page3_7.jpg\n",
      "İndirildi: test_images\\image_page3_8.jpg\n",
      "Tekrarlanan URL atlandı: https://cdn.dsmcdn.com/ty1607/prod/QC/20241127/13/bb6b329b-3286-3686-86b7-ad4c665457b9/1_org.jpg\n",
      "İndirildi: test_images\\image_page3_10.jpg\n",
      "İndirildi: test_images\\image_page3_11.jpg\n",
      "Tekrarlanan URL atlandı: https://cdn.dsmcdn.com/ty1620/prod/QC/20250108/00/f7abe1bb-1049-3061-bb9c-a86a43970cc0/1_org.jpg\n",
      "İndirildi: test_images\\image_page3_13.jpg\n",
      "İndirildi: test_images\\image_page3_14.jpg\n",
      "Tekrarlanan URL atlandı: https://cdn.dsmcdn.com/ty1599/prod/QC/20241108/10/e6ba0313-8db4-3454-bb95-77fd3aa3af27/1_org.jpg\n",
      "İndirildi: test_images\\image_page3_16.jpg\n",
      "İndirildi: test_images\\image_page3_17.jpg\n",
      "Tekrarlanan URL atlandı: https://cdn.dsmcdn.com/ty1614/prod/QC/20241220/12/a4c7cd1e-c811-3905-ad09-ab747df81b35/1_org.jpg\n",
      "İndirildi: test_images\\image_page3_19.jpg\n",
      "İndirildi: test_images\\image_page3_20.jpg\n",
      "Tekrarlanan URL atlandı: https://cdn.dsmcdn.com/ty1585/prod/QC/20241015/20/47e7ee83-d1ea-3d55-8c0b-0737ffe06ec2/1_org.jpg\n",
      "İndirildi: test_images\\image_page3_22.jpg\n",
      "İndirildi: test_images\\image_page3_23.jpg\n",
      "Tekrarlanan URL atlandı: https://cdn.dsmcdn.com/ty1583/prod/QC/20241009/14/9d79ef62-e421-3e0c-be2d-2d9ed53b20ae/1_org.jpg\n",
      "İndirildi: test_images\\image_page4_1.jpg\n",
      "İndirildi: test_images\\image_page4_2.jpg\n",
      "Tekrarlanan URL atlandı: https://cdn.dsmcdn.com/ty1009/product/media/images/prod/SPM/PIM/20230929/16/68d8d5b0-2810-33bf-8578-c73981e08c65/1_org.jpg\n",
      "İndirildi: test_images\\image_page4_4.jpg\n",
      "İndirildi: test_images\\image_page4_5.jpg\n",
      "Tekrarlanan URL atlandı: https://cdn.dsmcdn.com/ty1614/prod/QC/20241222/01/e91e7238-8974-3a7a-bb79-ec8ad399dd27/1_org.jpg\n",
      "İndirildi: test_images\\image_page4_7.jpg\n",
      "İndirildi: test_images\\image_page4_8.jpg\n",
      "Tekrarlanan URL atlandı: https://cdn.dsmcdn.com/ty1607/prod/QC/20241127/13/bb6b329b-3286-3686-86b7-ad4c665457b9/1_org.jpg\n",
      "İndirildi: test_images\\image_page4_10.jpg\n",
      "İndirildi: test_images\\image_page4_11.jpg\n",
      "Tekrarlanan URL atlandı: https://cdn.dsmcdn.com/ty1620/prod/QC/20250108/00/f7abe1bb-1049-3061-bb9c-a86a43970cc0/1_org.jpg\n",
      "İndirildi: test_images\\image_page4_13.jpg\n",
      "İndirildi: test_images\\image_page4_14.jpg\n",
      "Tekrarlanan URL atlandı: https://cdn.dsmcdn.com/ty1599/prod/QC/20241108/10/e6ba0313-8db4-3454-bb95-77fd3aa3af27/1_org.jpg\n",
      "İndirildi: test_images\\image_page4_16.jpg\n",
      "İndirildi: test_images\\image_page4_17.jpg\n",
      "Tekrarlanan URL atlandı: https://cdn.dsmcdn.com/ty1614/prod/QC/20241220/12/a4c7cd1e-c811-3905-ad09-ab747df81b35/1_org.jpg\n",
      "İndirildi: test_images\\image_page4_19.jpg\n",
      "İndirildi: test_images\\image_page4_20.jpg\n",
      "Tekrarlanan URL atlandı: https://cdn.dsmcdn.com/ty1585/prod/QC/20241015/20/47e7ee83-d1ea-3d55-8c0b-0737ffe06ec2/1_org.jpg\n",
      "İndirildi: test_images\\image_page4_22.jpg\n",
      "İndirildi: test_images\\image_page4_23.jpg\n",
      "Tekrarlanan URL atlandı: https://cdn.dsmcdn.com/ty1583/prod/QC/20241009/14/9d79ef62-e421-3e0c-be2d-2d9ed53b20ae/1_org.jpg\n",
      "Tekrarlanan URL atlandı: https://cdn.dsmcdn.com/ty1587/prod/QC/20241018/18/5451161b-6787-3a70-835b-61515ab98ef3/1_org.jpg\n",
      "Tekrarlanan URL atlandı: https://cdn.dsmcdn.com/ty1009/product/media/images/prod/SPM/PIM/20230929/16/68d8d5b0-2810-33bf-8578-c73981e08c65/1_org.jpg\n",
      "İndirildi: test_images\\image_page5_3.jpg\n",
      "Tekrarlanan URL atlandı: https://cdn.dsmcdn.com/ty1614/prod/QC/20241222/01/e91e7238-8974-3a7a-bb79-ec8ad399dd27/1_org.jpg\n",
      "İndirildi: test_images\\image_page5_5.jpg\n",
      "Tekrarlanan URL atlandı: https://cdn.dsmcdn.com/ty1607/prod/QC/20241127/13/bb6b329b-3286-3686-86b7-ad4c665457b9/1_org.jpg\n",
      "İndirildi: test_images\\image_page5_7.jpg\n",
      "Tekrarlanan URL atlandı: https://cdn.dsmcdn.com/ty1620/prod/QC/20250108/00/f7abe1bb-1049-3061-bb9c-a86a43970cc0/1_org.jpg\n",
      "İndirildi: test_images\\image_page5_9.jpg\n",
      "Tekrarlanan URL atlandı: https://cdn.dsmcdn.com/ty1599/prod/QC/20241108/10/e6ba0313-8db4-3454-bb95-77fd3aa3af27/1_org.jpg\n",
      "İndirildi: test_images\\image_page5_11.jpg\n",
      "Tekrarlanan URL atlandı: https://cdn.dsmcdn.com/ty1614/prod/QC/20241220/12/a4c7cd1e-c811-3905-ad09-ab747df81b35/1_org.jpg\n",
      "İndirildi: test_images\\image_page5_13.jpg\n",
      "Tekrarlanan URL atlandı: https://cdn.dsmcdn.com/ty1585/prod/QC/20241015/20/47e7ee83-d1ea-3d55-8c0b-0737ffe06ec2/1_org.jpg\n",
      "İndirildi: test_images\\image_page5_15.jpg\n",
      "Tekrarlanan URL atlandı: https://cdn.dsmcdn.com/ty1583/prod/QC/20241009/14/9d79ef62-e421-3e0c-be2d-2d9ed53b20ae/1_org.jpg\n",
      "Tekrarlanan URL atlandı: https://cdn.dsmcdn.com/ty1613/prod/QC/20241209/14/683875b3-b023-3726-8aa2-0956c044ad48/1_org.jpg\n",
      "İndirildi: test_images\\image_page5_18.jpg\n",
      "İndirildi: test_images\\image_page5_19.jpg\n",
      "İndirildi: test_images\\image_page5_20.jpg\n",
      "Tekrarlanan URL atlandı: https://cdn.dsmcdn.com/ty1024/product/media/images/prod/SPM/PIM/20231027/17/193b7bd3-7ac3-3ed4-9fc9-ff328b14a3fb/1_org.jpg\n",
      "İndirildi: test_images\\image_page5_22.jpg\n",
      "Tekrarlanan URL atlandı: https://cdn.dsmcdn.com/ty1622/product/media/images/prod/PIM/20250108/07/61502126-6971-4d10-a967-cfd7b44b7e66/1_org.jpg\n",
      "İndirildi: test_images\\image_page5_24.jpg\n"
     ]
    }
   ],
   "source": [
    "import os\n",
    "import time\n",
    "from selenium import webdriver\n",
    "from selenium.webdriver.common.by import By\n",
    "from selenium.webdriver.chrome.service import Service\n",
    "from webdriver_manager.chrome import ChromeDriverManager\n",
    "from urllib.request import urlretrieve\n",
    "\n",
    "# Klasör oluşturma\n",
    "def create_folder(folder_name):\n",
    "    if not os.path.exists(folder_name):\n",
    "        os.makedirs(folder_name)\n",
    "\n",
    "# Selenium ile Trendyol'dan görselleri indir\n",
    "def download_images_unique(base_url, output_folder, num_pages=5):\n",
    "    options = webdriver.ChromeOptions()\n",
    "    options.add_argument(\"--headless\")\n",
    "    driver = webdriver.Chrome(service=Service(ChromeDriverManager().install()), options=options)\n",
    "\n",
    "    create_folder(output_folder)\n",
    "    downloaded_urls = set()  # İndirilen görsellerin URL'lerini takip etmek için bir set\n",
    "\n",
    "    for page in range(1, num_pages + 1):\n",
    "        url = f\"{base_url}?pi={page}\"\n",
    "        driver.get(url)\n",
    "        time.sleep(3)\n",
    "\n",
    "        images = driver.find_elements(By.CSS_SELECTOR, \"img.p-card-img\")\n",
    "        for idx, img in enumerate(images):\n",
    "            img_url = img.get_attribute(\"src\")\n",
    "            if img_url and \"product-placeholder\" not in img_url and img_url not in downloaded_urls:\n",
    "                file_name = os.path.join(output_folder, f\"image_page{page}_{idx + 1}.jpg\")\n",
    "                try:\n",
    "                    urlretrieve(img_url, file_name)\n",
    "                    downloaded_urls.add(img_url)  # URL'yi indirilenlere ekle\n",
    "                    print(f\"İndirildi: {file_name}\")\n",
    "                except Exception as e:\n",
    "                    print(f\"İndirilemedi: {img_url}, Hata: {e}\")\n",
    "            elif img_url in downloaded_urls:\n",
    "                print(f\"Tekrarlanan URL atlandı: {img_url}\")\n",
    "\n",
    "    driver.quit()\n",
    "\n",
    "# Kullanım\n",
    "base_url = \"https://www.trendyol.com/kadin-ayakkabi-x-g1-c114\"\n",
    "output_folder = \"test_images\"\n",
    "download_images_unique(base_url, output_folder, num_pages=5)"
   ]
  },
  {
   "cell_type": "code",
   "execution_count": 24,
   "id": "4974517c-3713-4268-b5a8-44315b4fdc0e",
   "metadata": {
    "scrolled": true
   },
   "outputs": [
    {
     "name": "stdout",
     "output_type": "stream",
     "text": [
      "\n",
      "Modelleri Test Ediliyor...\n",
      "Hata: test_images\\image_page1_1.jpg, Found array with dim 4. SVC expected <= 2.\n",
      "Hata: test_images\\image_page1_10.jpg, Found array with dim 4. SVC expected <= 2.\n",
      "Hata: test_images\\image_page1_11.jpg, Found array with dim 4. SVC expected <= 2.\n",
      "Hata: test_images\\image_page1_12.jpg, Found array with dim 4. SVC expected <= 2.\n",
      "Hata: test_images\\image_page1_13.jpg, Found array with dim 4. SVC expected <= 2.\n",
      "Hata: test_images\\image_page1_14.jpg, Found array with dim 4. SVC expected <= 2.\n",
      "Hata: test_images\\image_page1_15.jpg, Found array with dim 4. SVC expected <= 2.\n",
      "Hata: test_images\\image_page1_16.jpg, Found array with dim 4. SVC expected <= 2.\n",
      "Hata: test_images\\image_page1_17.jpg, Found array with dim 4. SVC expected <= 2.\n",
      "Hata: test_images\\image_page1_18.jpg, Found array with dim 4. SVC expected <= 2.\n",
      "Hata: test_images\\image_page1_19.jpg, Found array with dim 4. SVC expected <= 2.\n",
      "Hata: test_images\\image_page1_2.jpg, Found array with dim 4. SVC expected <= 2.\n",
      "Hata: test_images\\image_page1_20.jpg, Found array with dim 4. SVC expected <= 2.\n",
      "Hata: test_images\\image_page1_21.jpg, Found array with dim 4. SVC expected <= 2.\n",
      "Hata: test_images\\image_page1_22.jpg, Found array with dim 4. SVC expected <= 2.\n",
      "Hata: test_images\\image_page1_23.jpg, Found array with dim 4. SVC expected <= 2.\n",
      "Hata: test_images\\image_page1_24.jpg, Found array with dim 4. SVC expected <= 2.\n",
      "Hata: test_images\\image_page1_3.jpg, Found array with dim 4. SVC expected <= 2.\n",
      "Hata: test_images\\image_page1_4.jpg, Found array with dim 4. SVC expected <= 2.\n",
      "Hata: test_images\\image_page1_5.jpg, Found array with dim 4. SVC expected <= 2.\n",
      "Hata: test_images\\image_page1_6.jpg, Found array with dim 4. SVC expected <= 2.\n",
      "Hata: test_images\\image_page1_7.jpg, Found array with dim 4. SVC expected <= 2.\n",
      "Hata: test_images\\image_page1_8.jpg, Found array with dim 4. SVC expected <= 2.\n",
      "Hata: test_images\\image_page1_9.jpg, Found array with dim 4. SVC expected <= 2.\n",
      "Hata: test_images\\image_page2_1.jpg, Found array with dim 4. SVC expected <= 2.\n",
      "Hata: test_images\\image_page2_10.jpg, Found array with dim 4. SVC expected <= 2.\n",
      "Hata: test_images\\image_page2_11.jpg, Found array with dim 4. SVC expected <= 2.\n",
      "Hata: test_images\\image_page2_13.jpg, Found array with dim 4. SVC expected <= 2.\n",
      "Hata: test_images\\image_page2_14.jpg, Found array with dim 4. SVC expected <= 2.\n",
      "Hata: test_images\\image_page2_16.jpg, Found array with dim 4. SVC expected <= 2.\n",
      "Hata: test_images\\image_page2_17.jpg, Found array with dim 4. SVC expected <= 2.\n",
      "Hata: test_images\\image_page2_19.jpg, Found array with dim 4. SVC expected <= 2.\n",
      "Hata: test_images\\image_page2_2.jpg, Found array with dim 4. SVC expected <= 2.\n",
      "Hata: test_images\\image_page2_20.jpg, Found array with dim 4. SVC expected <= 2.\n",
      "Hata: test_images\\image_page2_22.jpg, Found array with dim 4. SVC expected <= 2.\n",
      "Hata: test_images\\image_page2_23.jpg, Found array with dim 4. SVC expected <= 2.\n",
      "Hata: test_images\\image_page2_4.jpg, Found array with dim 4. SVC expected <= 2.\n",
      "Hata: test_images\\image_page2_5.jpg, Found array with dim 4. SVC expected <= 2.\n",
      "Hata: test_images\\image_page2_7.jpg, Found array with dim 4. SVC expected <= 2.\n",
      "Hata: test_images\\image_page2_8.jpg, Found array with dim 4. SVC expected <= 2.\n",
      "Hata: test_images\\image_page3_1.jpg, Found array with dim 4. SVC expected <= 2.\n",
      "Hata: test_images\\image_page3_10.jpg, Found array with dim 4. SVC expected <= 2.\n",
      "Hata: test_images\\image_page3_11.jpg, Found array with dim 4. SVC expected <= 2.\n",
      "Hata: test_images\\image_page3_13.jpg, Found array with dim 4. SVC expected <= 2.\n",
      "Hata: test_images\\image_page3_14.jpg, Found array with dim 4. SVC expected <= 2.\n",
      "Hata: test_images\\image_page3_16.jpg, Found array with dim 4. SVC expected <= 2.\n",
      "Hata: test_images\\image_page3_17.jpg, Found array with dim 4. SVC expected <= 2.\n",
      "Hata: test_images\\image_page3_19.jpg, Found array with dim 4. SVC expected <= 2.\n",
      "Hata: test_images\\image_page3_2.jpg, Found array with dim 4. SVC expected <= 2.\n",
      "Hata: test_images\\image_page3_20.jpg, Found array with dim 4. SVC expected <= 2.\n",
      "Hata: test_images\\image_page3_22.jpg, Found array with dim 4. SVC expected <= 2.\n",
      "Hata: test_images\\image_page3_23.jpg, Found array with dim 4. SVC expected <= 2.\n",
      "Hata: test_images\\image_page3_4.jpg, Found array with dim 4. SVC expected <= 2.\n",
      "Hata: test_images\\image_page3_5.jpg, Found array with dim 4. SVC expected <= 2.\n",
      "Hata: test_images\\image_page3_7.jpg, Found array with dim 4. SVC expected <= 2.\n",
      "Hata: test_images\\image_page3_8.jpg, Found array with dim 4. SVC expected <= 2.\n",
      "Hata: test_images\\image_page4_1.jpg, Found array with dim 4. SVC expected <= 2.\n",
      "Hata: test_images\\image_page4_10.jpg, Found array with dim 4. SVC expected <= 2.\n",
      "Hata: test_images\\image_page4_11.jpg, Found array with dim 4. SVC expected <= 2.\n",
      "Hata: test_images\\image_page4_13.jpg, Found array with dim 4. SVC expected <= 2.\n",
      "Hata: test_images\\image_page4_14.jpg, Found array with dim 4. SVC expected <= 2.\n",
      "Hata: test_images\\image_page4_16.jpg, Found array with dim 4. SVC expected <= 2.\n",
      "Hata: test_images\\image_page4_17.jpg, Found array with dim 4. SVC expected <= 2.\n",
      "Hata: test_images\\image_page4_19.jpg, Found array with dim 4. SVC expected <= 2.\n",
      "Hata: test_images\\image_page4_2.jpg, Found array with dim 4. SVC expected <= 2.\n",
      "Hata: test_images\\image_page4_20.jpg, Found array with dim 4. SVC expected <= 2.\n",
      "Hata: test_images\\image_page4_22.jpg, Found array with dim 4. SVC expected <= 2.\n",
      "Hata: test_images\\image_page4_23.jpg, Found array with dim 4. SVC expected <= 2.\n",
      "Hata: test_images\\image_page4_4.jpg, Found array with dim 4. SVC expected <= 2.\n",
      "Hata: test_images\\image_page4_5.jpg, Found array with dim 4. SVC expected <= 2.\n",
      "Hata: test_images\\image_page4_7.jpg, Found array with dim 4. SVC expected <= 2.\n",
      "Hata: test_images\\image_page4_8.jpg, Found array with dim 4. SVC expected <= 2.\n",
      "Hata: test_images\\image_page5_11.jpg, Found array with dim 4. SVC expected <= 2.\n",
      "Hata: test_images\\image_page5_13.jpg, Found array with dim 4. SVC expected <= 2.\n",
      "Hata: test_images\\image_page5_15.jpg, Found array with dim 4. SVC expected <= 2.\n",
      "Hata: test_images\\image_page5_18.jpg, Found array with dim 4. SVC expected <= 2.\n",
      "Hata: test_images\\image_page5_19.jpg, Found array with dim 4. SVC expected <= 2.\n",
      "Hata: test_images\\image_page5_20.jpg, Found array with dim 4. SVC expected <= 2.\n",
      "Hata: test_images\\image_page5_22.jpg, Found array with dim 4. SVC expected <= 2.\n",
      "Hata: test_images\\image_page5_24.jpg, Found array with dim 4. SVC expected <= 2.\n",
      "Hata: test_images\\image_page5_3.jpg, Found array with dim 4. SVC expected <= 2.\n",
      "Hata: test_images\\image_page5_5.jpg, Found array with dim 4. SVC expected <= 2.\n",
      "Hata: test_images\\image_page5_7.jpg, Found array with dim 4. SVC expected <= 2.\n",
      "Hata: test_images\\image_page5_9.jpg, Found array with dim 4. SVC expected <= 2.\n"
     ]
    },
    {
     "ename": "ValueError",
     "evalue": "Found array with dim 4. RandomForestClassifier expected <= 2.",
     "output_type": "error",
     "traceback": [
      "\u001b[1;31m---------------------------------------------------------------------------\u001b[0m",
      "\u001b[1;31mValueError\u001b[0m                                Traceback (most recent call last)",
      "Cell \u001b[1;32mIn[24], line 96\u001b[0m\n\u001b[0;32m     93\u001b[0m         os\u001b[38;5;241m.\u001b[39mrename(img_path, os\u001b[38;5;241m.\u001b[39mpath\u001b[38;5;241m.\u001b[39mjoin(class_folder, os\u001b[38;5;241m.\u001b[39mpath\u001b[38;5;241m.\u001b[39mbasename(img_path)))\n\u001b[0;32m     95\u001b[0m \u001b[38;5;66;03m# Test için doğrulama setini kullanıyoruz (val_features ve val_labels)\u001b[39;00m\n\u001b[1;32m---> 96\u001b[0m svm_preds \u001b[38;5;241m=\u001b[39m \u001b[43msvm_model\u001b[49m\u001b[38;5;241;43m.\u001b[39;49m\u001b[43mpredict\u001b[49m\u001b[43m(\u001b[49m\u001b[43mval_features\u001b[49m\u001b[43m)\u001b[49m\n\u001b[0;32m     97\u001b[0m \u001b[38;5;28mprint\u001b[39m(\u001b[38;5;124m\"\u001b[39m\u001b[38;5;130;01m\\n\u001b[39;00m\u001b[38;5;124mSVM Accuracy:\u001b[39m\u001b[38;5;124m\"\u001b[39m, accuracy_score(val_labels, svm_preds))\n\u001b[0;32m     98\u001b[0m \u001b[38;5;28mprint\u001b[39m(\u001b[38;5;124m\"\u001b[39m\u001b[38;5;124mSVM Classification Report:\u001b[39m\u001b[38;5;130;01m\\n\u001b[39;00m\u001b[38;5;124m\"\u001b[39m, classification_report(val_labels, svm_preds))\n",
      "File \u001b[1;32m~\\AppData\\Local\\Programs\\Python\\Python310\\lib\\site-packages\\sklearn\\ensemble\\_forest.py:904\u001b[0m, in \u001b[0;36mForestClassifier.predict\u001b[1;34m(self, X)\u001b[0m\n\u001b[0;32m    883\u001b[0m \u001b[38;5;28;01mdef\u001b[39;00m\u001b[38;5;250m \u001b[39m\u001b[38;5;21mpredict\u001b[39m(\u001b[38;5;28mself\u001b[39m, X):\n\u001b[0;32m    884\u001b[0m \u001b[38;5;250m    \u001b[39m\u001b[38;5;124;03m\"\"\"\u001b[39;00m\n\u001b[0;32m    885\u001b[0m \u001b[38;5;124;03m    Predict class for X.\u001b[39;00m\n\u001b[0;32m    886\u001b[0m \n\u001b[1;32m   (...)\u001b[0m\n\u001b[0;32m    902\u001b[0m \u001b[38;5;124;03m        The predicted classes.\u001b[39;00m\n\u001b[0;32m    903\u001b[0m \u001b[38;5;124;03m    \"\"\"\u001b[39;00m\n\u001b[1;32m--> 904\u001b[0m     proba \u001b[38;5;241m=\u001b[39m \u001b[38;5;28;43mself\u001b[39;49m\u001b[38;5;241;43m.\u001b[39;49m\u001b[43mpredict_proba\u001b[49m\u001b[43m(\u001b[49m\u001b[43mX\u001b[49m\u001b[43m)\u001b[49m\n\u001b[0;32m    906\u001b[0m     \u001b[38;5;28;01mif\u001b[39;00m \u001b[38;5;28mself\u001b[39m\u001b[38;5;241m.\u001b[39mn_outputs_ \u001b[38;5;241m==\u001b[39m \u001b[38;5;241m1\u001b[39m:\n\u001b[0;32m    907\u001b[0m         \u001b[38;5;28;01mreturn\u001b[39;00m \u001b[38;5;28mself\u001b[39m\u001b[38;5;241m.\u001b[39mclasses_\u001b[38;5;241m.\u001b[39mtake(np\u001b[38;5;241m.\u001b[39margmax(proba, axis\u001b[38;5;241m=\u001b[39m\u001b[38;5;241m1\u001b[39m), axis\u001b[38;5;241m=\u001b[39m\u001b[38;5;241m0\u001b[39m)\n",
      "File \u001b[1;32m~\\AppData\\Local\\Programs\\Python\\Python310\\lib\\site-packages\\sklearn\\ensemble\\_forest.py:946\u001b[0m, in \u001b[0;36mForestClassifier.predict_proba\u001b[1;34m(self, X)\u001b[0m\n\u001b[0;32m    944\u001b[0m check_is_fitted(\u001b[38;5;28mself\u001b[39m)\n\u001b[0;32m    945\u001b[0m \u001b[38;5;66;03m# Check data\u001b[39;00m\n\u001b[1;32m--> 946\u001b[0m X \u001b[38;5;241m=\u001b[39m \u001b[38;5;28;43mself\u001b[39;49m\u001b[38;5;241;43m.\u001b[39;49m\u001b[43m_validate_X_predict\u001b[49m\u001b[43m(\u001b[49m\u001b[43mX\u001b[49m\u001b[43m)\u001b[49m\n\u001b[0;32m    948\u001b[0m \u001b[38;5;66;03m# Assign chunk of trees to jobs\u001b[39;00m\n\u001b[0;32m    949\u001b[0m n_jobs, _, _ \u001b[38;5;241m=\u001b[39m _partition_estimators(\u001b[38;5;28mself\u001b[39m\u001b[38;5;241m.\u001b[39mn_estimators, \u001b[38;5;28mself\u001b[39m\u001b[38;5;241m.\u001b[39mn_jobs)\n",
      "File \u001b[1;32m~\\AppData\\Local\\Programs\\Python\\Python310\\lib\\site-packages\\sklearn\\ensemble\\_forest.py:638\u001b[0m, in \u001b[0;36mBaseForest._validate_X_predict\u001b[1;34m(self, X)\u001b[0m\n\u001b[0;32m    635\u001b[0m \u001b[38;5;28;01melse\u001b[39;00m:\n\u001b[0;32m    636\u001b[0m     ensure_all_finite \u001b[38;5;241m=\u001b[39m \u001b[38;5;28;01mTrue\u001b[39;00m\n\u001b[1;32m--> 638\u001b[0m X \u001b[38;5;241m=\u001b[39m \u001b[43mvalidate_data\u001b[49m\u001b[43m(\u001b[49m\n\u001b[0;32m    639\u001b[0m \u001b[43m    \u001b[49m\u001b[38;5;28;43mself\u001b[39;49m\u001b[43m,\u001b[49m\n\u001b[0;32m    640\u001b[0m \u001b[43m    \u001b[49m\u001b[43mX\u001b[49m\u001b[43m,\u001b[49m\n\u001b[0;32m    641\u001b[0m \u001b[43m    \u001b[49m\u001b[43mdtype\u001b[49m\u001b[38;5;241;43m=\u001b[39;49m\u001b[43mDTYPE\u001b[49m\u001b[43m,\u001b[49m\n\u001b[0;32m    642\u001b[0m \u001b[43m    \u001b[49m\u001b[43maccept_sparse\u001b[49m\u001b[38;5;241;43m=\u001b[39;49m\u001b[38;5;124;43m\"\u001b[39;49m\u001b[38;5;124;43mcsr\u001b[39;49m\u001b[38;5;124;43m\"\u001b[39;49m\u001b[43m,\u001b[49m\n\u001b[0;32m    643\u001b[0m \u001b[43m    \u001b[49m\u001b[43mreset\u001b[49m\u001b[38;5;241;43m=\u001b[39;49m\u001b[38;5;28;43;01mFalse\u001b[39;49;00m\u001b[43m,\u001b[49m\n\u001b[0;32m    644\u001b[0m \u001b[43m    \u001b[49m\u001b[43mensure_all_finite\u001b[49m\u001b[38;5;241;43m=\u001b[39;49m\u001b[43mensure_all_finite\u001b[49m\u001b[43m,\u001b[49m\n\u001b[0;32m    645\u001b[0m \u001b[43m\u001b[49m\u001b[43m)\u001b[49m\n\u001b[0;32m    646\u001b[0m \u001b[38;5;28;01mif\u001b[39;00m issparse(X) \u001b[38;5;129;01mand\u001b[39;00m (X\u001b[38;5;241m.\u001b[39mindices\u001b[38;5;241m.\u001b[39mdtype \u001b[38;5;241m!=\u001b[39m np\u001b[38;5;241m.\u001b[39mintc \u001b[38;5;129;01mor\u001b[39;00m X\u001b[38;5;241m.\u001b[39mindptr\u001b[38;5;241m.\u001b[39mdtype \u001b[38;5;241m!=\u001b[39m np\u001b[38;5;241m.\u001b[39mintc):\n\u001b[0;32m    647\u001b[0m     \u001b[38;5;28;01mraise\u001b[39;00m \u001b[38;5;167;01mValueError\u001b[39;00m(\u001b[38;5;124m\"\u001b[39m\u001b[38;5;124mNo support for np.int64 index based sparse matrices\u001b[39m\u001b[38;5;124m\"\u001b[39m)\n",
      "File \u001b[1;32m~\\AppData\\Local\\Programs\\Python\\Python310\\lib\\site-packages\\sklearn\\utils\\validation.py:2944\u001b[0m, in \u001b[0;36mvalidate_data\u001b[1;34m(_estimator, X, y, reset, validate_separately, skip_check_array, **check_params)\u001b[0m\n\u001b[0;32m   2942\u001b[0m         out \u001b[38;5;241m=\u001b[39m X, y\n\u001b[0;32m   2943\u001b[0m \u001b[38;5;28;01melif\u001b[39;00m \u001b[38;5;129;01mnot\u001b[39;00m no_val_X \u001b[38;5;129;01mand\u001b[39;00m no_val_y:\n\u001b[1;32m-> 2944\u001b[0m     out \u001b[38;5;241m=\u001b[39m check_array(X, input_name\u001b[38;5;241m=\u001b[39m\u001b[38;5;124m\"\u001b[39m\u001b[38;5;124mX\u001b[39m\u001b[38;5;124m\"\u001b[39m, \u001b[38;5;241m*\u001b[39m\u001b[38;5;241m*\u001b[39mcheck_params)\n\u001b[0;32m   2945\u001b[0m \u001b[38;5;28;01melif\u001b[39;00m no_val_X \u001b[38;5;129;01mand\u001b[39;00m \u001b[38;5;129;01mnot\u001b[39;00m no_val_y:\n\u001b[0;32m   2946\u001b[0m     out \u001b[38;5;241m=\u001b[39m _check_y(y, \u001b[38;5;241m*\u001b[39m\u001b[38;5;241m*\u001b[39mcheck_params)\n",
      "File \u001b[1;32m~\\AppData\\Local\\Programs\\Python\\Python310\\lib\\site-packages\\sklearn\\utils\\validation.py:1101\u001b[0m, in \u001b[0;36mcheck_array\u001b[1;34m(array, accept_sparse, accept_large_sparse, dtype, order, copy, force_writeable, force_all_finite, ensure_all_finite, ensure_non_negative, ensure_2d, allow_nd, ensure_min_samples, ensure_min_features, estimator, input_name)\u001b[0m\n\u001b[0;32m   1096\u001b[0m     \u001b[38;5;28;01mraise\u001b[39;00m \u001b[38;5;167;01mValueError\u001b[39;00m(\n\u001b[0;32m   1097\u001b[0m         \u001b[38;5;124m\"\u001b[39m\u001b[38;5;124mdtype=\u001b[39m\u001b[38;5;124m'\u001b[39m\u001b[38;5;124mnumeric\u001b[39m\u001b[38;5;124m'\u001b[39m\u001b[38;5;124m is not compatible with arrays of bytes/strings.\u001b[39m\u001b[38;5;124m\"\u001b[39m\n\u001b[0;32m   1098\u001b[0m         \u001b[38;5;124m\"\u001b[39m\u001b[38;5;124mConvert your data to numeric values explicitly instead.\u001b[39m\u001b[38;5;124m\"\u001b[39m\n\u001b[0;32m   1099\u001b[0m     )\n\u001b[0;32m   1100\u001b[0m \u001b[38;5;28;01mif\u001b[39;00m \u001b[38;5;129;01mnot\u001b[39;00m allow_nd \u001b[38;5;129;01mand\u001b[39;00m array\u001b[38;5;241m.\u001b[39mndim \u001b[38;5;241m>\u001b[39m\u001b[38;5;241m=\u001b[39m \u001b[38;5;241m3\u001b[39m:\n\u001b[1;32m-> 1101\u001b[0m     \u001b[38;5;28;01mraise\u001b[39;00m \u001b[38;5;167;01mValueError\u001b[39;00m(\n\u001b[0;32m   1102\u001b[0m         \u001b[38;5;124m\"\u001b[39m\u001b[38;5;124mFound array with dim \u001b[39m\u001b[38;5;132;01m%d\u001b[39;00m\u001b[38;5;124m. \u001b[39m\u001b[38;5;132;01m%s\u001b[39;00m\u001b[38;5;124m expected <= 2.\u001b[39m\u001b[38;5;124m\"\u001b[39m\n\u001b[0;32m   1103\u001b[0m         \u001b[38;5;241m%\u001b[39m (array\u001b[38;5;241m.\u001b[39mndim, estimator_name)\n\u001b[0;32m   1104\u001b[0m     )\n\u001b[0;32m   1106\u001b[0m \u001b[38;5;28;01mif\u001b[39;00m ensure_all_finite:\n\u001b[0;32m   1107\u001b[0m     _assert_all_finite(\n\u001b[0;32m   1108\u001b[0m         array,\n\u001b[0;32m   1109\u001b[0m         input_name\u001b[38;5;241m=\u001b[39minput_name,\n\u001b[0;32m   1110\u001b[0m         estimator_name\u001b[38;5;241m=\u001b[39mestimator_name,\n\u001b[0;32m   1111\u001b[0m         allow_nan\u001b[38;5;241m=\u001b[39mensure_all_finite \u001b[38;5;241m==\u001b[39m \u001b[38;5;124m\"\u001b[39m\u001b[38;5;124mallow-nan\u001b[39m\u001b[38;5;124m\"\u001b[39m,\n\u001b[0;32m   1112\u001b[0m     )\n",
      "\u001b[1;31mValueError\u001b[0m: Found array with dim 4. RandomForestClassifier expected <= 2."
     ]
    }
   ],
   "source": [
    "import numpy as np\n",
    "from tensorflow.keras.models import load_model\n",
    "from tensorflow.keras.preprocessing import image\n",
    "\n",
    "# Sınıf isimlerini tanımlayın\n",
    "class_names = [\"Babet\", \"Bot\", \"Sneaker\", \"Topuklu Ayakkabı\"]  # Modelinizin eğitim sırasında öğrendiği sınıf isimlerini buraya yazın\n",
    "\n",
    "# Modeli yükle\n",
    "#model = joblib.load('random_forest_model.pkl')\n",
    "model = tf.keras.models.load_model(\"shoe_classifier_model.keras\")\n",
    "\n",
    "# Görselleri klasör olarak sınıflandırma fonksiyonu\n",
    "def classify_images(input_folder, model, class_names, target_size=(128, 128)):\n",
    "    images = [os.path.join(input_folder, file) for file in os.listdir(input_folder) if file.endswith(\".jpg\")]\n",
    "    results = []\n",
    "\n",
    "    for img_path in images:\n",
    "        try:\n",
    "            # Görseli yükle ve işle\n",
    "            img = image.load_img(img_path, target_size=target_size)\n",
    "            img_array = image.img_to_array(img)\n",
    "            img_array = np.expand_dims(img_array, axis=0)  # Batch boyutu ekle\n",
    "            img_array = img_array / 255.0  # Normalizasyon\n",
    "\n",
    "            # Tahmin yap\n",
    "            predictions = model.predict(img_array)\n",
    "            predicted_class_index = np.argmax(predictions, axis=1)[0]\n",
    "            predicted_class_name = class_names[predicted_class_index]  # Sınıf ismini al\n",
    "\n",
    "            results.append((img_path, predicted_class_name))\n",
    "            print(f\"Görsel: {img_path}, Tahmin Edilen Sınıf: {predicted_class_name}\")\n",
    "        except Exception as e:\n",
    "            print(f\"Hata: {img_path}, {e}\")\n",
    "\n",
    "    return results\n",
    "\n",
    "# Görselleri sınıflandır\n",
    "classified_results = classify_images(\"test_images\", model, class_names)\n",
    "\n",
    "# Sonuçları ayrı klasörlere kaydetme fonksiyonu\n",
    "def save_classified_images(results, output_folder):\n",
    "    create_folder(output_folder)\n",
    "    for img_path, predicted_class in results:\n",
    "        class_folder = os.path.join(output_folder, predicted_class)  # Sınıf adıyla klasör oluştur\n",
    "        create_folder(class_folder)\n",
    "        os.rename(img_path, os.path.join(class_folder, os.path.basename(img_path)))\n",
    "\n",
    "# Sonuçları kaydet\n",
    "save_classified_images(classified_results, \"classified_trendyol_images\")"
   ]
  },
  {
   "cell_type": "code",
   "execution_count": null,
   "id": "3d0a8637-7d72-4eb3-ac1d-f036d16d8991",
   "metadata": {},
   "outputs": [],
   "source": []
  }
 ],
 "metadata": {
  "kernelspec": {
   "display_name": "Python 3 (ipykernel)",
   "language": "python",
   "name": "python3"
  },
  "language_info": {
   "codemirror_mode": {
    "name": "ipython",
    "version": 3
   },
   "file_extension": ".py",
   "mimetype": "text/x-python",
   "name": "python",
   "nbconvert_exporter": "python",
   "pygments_lexer": "ipython3",
   "version": "3.10.0"
  }
 },
 "nbformat": 4,
 "nbformat_minor": 5
}
