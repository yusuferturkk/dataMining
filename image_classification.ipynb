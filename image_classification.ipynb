{
 "cells": [
  {
   "cell_type": "code",
   "execution_count": 6,
   "id": "8106830d-4880-401e-8795-76b66a0f8db0",
   "metadata": {},
   "outputs": [
    {
     "name": "stdout",
     "output_type": "stream",
     "text": [
      "\n",
      "Sneaker kategorisinden görseller indiriliyor...\n",
      "İndirildi: trendyol_images\\Sneaker\\image_page1_1.jpg (1/50)\n",
      "İndirildi: trendyol_images\\Sneaker\\image_page1_2.jpg (2/50)\n",
      "İndirildi: trendyol_images\\Sneaker\\image_page1_3.jpg (3/50)\n",
      "İndirildi: trendyol_images\\Sneaker\\image_page1_4.jpg (4/50)\n",
      "İndirildi: trendyol_images\\Sneaker\\image_page1_5.jpg (5/50)\n",
      "İndirildi: trendyol_images\\Sneaker\\image_page1_6.jpg (6/50)\n",
      "İndirildi: trendyol_images\\Sneaker\\image_page1_7.jpg (7/50)\n",
      "İndirildi: trendyol_images\\Sneaker\\image_page1_8.jpg (8/50)\n",
      "İndirildi: trendyol_images\\Sneaker\\image_page1_9.jpg (9/50)\n",
      "İndirildi: trendyol_images\\Sneaker\\image_page1_10.jpg (10/50)\n",
      "İndirildi: trendyol_images\\Sneaker\\image_page1_11.jpg (11/50)\n",
      "İndirildi: trendyol_images\\Sneaker\\image_page1_12.jpg (12/50)\n",
      "İndirildi: trendyol_images\\Sneaker\\image_page1_13.jpg (13/50)\n",
      "İndirildi: trendyol_images\\Sneaker\\image_page1_14.jpg (14/50)\n",
      "İndirildi: trendyol_images\\Sneaker\\image_page1_15.jpg (15/50)\n",
      "İndirildi: trendyol_images\\Sneaker\\image_page1_16.jpg (16/50)\n",
      "İndirildi: trendyol_images\\Sneaker\\image_page1_17.jpg (17/50)\n",
      "İndirildi: trendyol_images\\Sneaker\\image_page1_18.jpg (18/50)\n",
      "İndirildi: trendyol_images\\Sneaker\\image_page1_19.jpg (19/50)\n",
      "İndirildi: trendyol_images\\Sneaker\\image_page1_20.jpg (20/50)\n",
      "İndirildi: trendyol_images\\Sneaker\\image_page1_21.jpg (21/50)\n",
      "İndirildi: trendyol_images\\Sneaker\\image_page1_22.jpg (22/50)\n",
      "İndirildi: trendyol_images\\Sneaker\\image_page1_23.jpg (23/50)\n",
      "İndirildi: trendyol_images\\Sneaker\\image_page1_24.jpg (24/50)\n",
      "İndirildi: trendyol_images\\Sneaker\\image_page2_1.jpg (25/50)\n",
      "Tekrarlanan URL atlandı: https://cdn.dsmcdn.com/ty1606/prod/QC/20241127/17/5a3ddf52-52a1-3f62-a955-3d0749ad23c4/1_org.jpg\n",
      "İndirildi: trendyol_images\\Sneaker\\image_page2_3.jpg (26/50)\n",
      "Tekrarlanan URL atlandı: https://cdn.dsmcdn.com/ty1606/prod/QC/20241127/13/49be8e6e-a67a-3bce-bcfa-f2aa514b2e9d/1_org.jpg\n",
      "İndirildi: trendyol_images\\Sneaker\\image_page2_5.jpg (27/50)\n",
      "Tekrarlanan URL atlandı: https://cdn.dsmcdn.com/ty759/product/media/images/20230304/0/295359721/875851421/1/1_org.jpg\n",
      "İndirildi: trendyol_images\\Sneaker\\image_page2_7.jpg (28/50)\n",
      "Tekrarlanan URL atlandı: https://cdn.dsmcdn.com/ty1332/product/media/images/prod/QC/20240527/11/2942a477-eb7b-3bc9-ac81-6ec7672dd726/1_org.jpg\n",
      "İndirildi: trendyol_images\\Sneaker\\image_page2_9.jpg (29/50)\n",
      "Tekrarlanan URL atlandı: https://cdn.dsmcdn.com/ty1578/prod/QC/20241004/13/b445a67d-83af-3f0b-bc53-83b30b43c03b/1_org.jpg\n",
      "İndirildi: trendyol_images\\Sneaker\\image_page2_11.jpg (30/50)\n",
      "Tekrarlanan URL atlandı: https://cdn.dsmcdn.com/ty1315/product/media/images/prod/QC/20240516/20/05025d11-a1b7-3bcb-ba0d-5556db935a16/1_org.jpg\n",
      "İndirildi: trendyol_images\\Sneaker\\image_page2_13.jpg (31/50)\n",
      "Tekrarlanan URL atlandı: https://cdn.dsmcdn.com/ty1620/prod/QC/20250108/00/1f411d58-5f1d-38f4-8ed1-017bd54b67d8/1_org.jpg\n",
      "İndirildi: trendyol_images\\Sneaker\\image_page2_15.jpg (32/50)\n",
      "Tekrarlanan URL atlandı: https://cdn.dsmcdn.com/ty1335/product/media/images/prod/QC/20240529/11/2fad1e73-b22f-331b-a700-a99efae0bf4b/1_org.jpg\n",
      "İndirildi: trendyol_images\\Sneaker\\image_page2_17.jpg (33/50)\n",
      "Tekrarlanan URL atlandı: https://cdn.dsmcdn.com/ty1573/prod/QC/20240926/22/bad28259-fd45-3def-af85-07d5eb193f96/1_org.jpg\n",
      "İndirildi: trendyol_images\\Sneaker\\image_page2_19.jpg (34/50)\n",
      "Tekrarlanan URL atlandı: https://cdn.dsmcdn.com/ty372/product/media/images/20220328/10/76982078/118409549/2/2_org.jpg\n",
      "İndirildi: trendyol_images\\Sneaker\\image_page2_21.jpg (35/50)\n",
      "Tekrarlanan URL atlandı: https://cdn.dsmcdn.com/ty1617/prod/QC/20241226/23/748ab9c1-74f2-3f36-b8fe-644d58a17037/1_org.jpg\n",
      "İndirildi: trendyol_images\\Sneaker\\image_page2_23.jpg (36/50)\n",
      "Tekrarlanan URL atlandı: https://cdn.dsmcdn.com/ty1572/prod/QC/20240927/09/45de9d5b-afc3-3214-9bb3-ce8baa55f54c/1_org.jpg\n",
      "Tekrarlanan URL atlandı: https://cdn.dsmcdn.com/ty1606/prod/QC/20241127/17/5a3ddf52-52a1-3f62-a955-3d0749ad23c4/1_org.jpg\n",
      "İndirildi: trendyol_images\\Sneaker\\image_page3_2.jpg (37/50)\n",
      "Tekrarlanan URL atlandı: https://cdn.dsmcdn.com/ty1606/prod/QC/20241127/13/49be8e6e-a67a-3bce-bcfa-f2aa514b2e9d/1_org.jpg\n",
      "İndirildi: trendyol_images\\Sneaker\\image_page3_4.jpg (38/50)\n",
      "Tekrarlanan URL atlandı: https://cdn.dsmcdn.com/ty759/product/media/images/20230304/0/295359721/875851421/1/1_org.jpg\n",
      "İndirildi: trendyol_images\\Sneaker\\image_page3_6.jpg (39/50)\n",
      "Tekrarlanan URL atlandı: https://cdn.dsmcdn.com/ty1332/product/media/images/prod/QC/20240527/11/2942a477-eb7b-3bc9-ac81-6ec7672dd726/1_org.jpg\n",
      "İndirildi: trendyol_images\\Sneaker\\image_page3_8.jpg (40/50)\n",
      "Tekrarlanan URL atlandı: https://cdn.dsmcdn.com/ty1578/prod/QC/20241004/13/b445a67d-83af-3f0b-bc53-83b30b43c03b/1_org.jpg\n",
      "İndirildi: trendyol_images\\Sneaker\\image_page3_10.jpg (41/50)\n",
      "Tekrarlanan URL atlandı: https://cdn.dsmcdn.com/ty1315/product/media/images/prod/QC/20240516/20/05025d11-a1b7-3bcb-ba0d-5556db935a16/1_org.jpg\n",
      "İndirildi: trendyol_images\\Sneaker\\image_page3_12.jpg (42/50)\n",
      "İndirildi: trendyol_images\\Sneaker\\image_page3_13.jpg (43/50)\n",
      "İndirildi: trendyol_images\\Sneaker\\image_page3_14.jpg (44/50)\n",
      "Tekrarlanan URL atlandı: https://cdn.dsmcdn.com/ty1620/prod/QC/20250108/00/1f411d58-5f1d-38f4-8ed1-017bd54b67d8/1_org.jpg\n",
      "İndirildi: trendyol_images\\Sneaker\\image_page3_16.jpg (45/50)\n",
      "Tekrarlanan URL atlandı: https://cdn.dsmcdn.com/ty1335/product/media/images/prod/QC/20240529/11/2fad1e73-b22f-331b-a700-a99efae0bf4b/1_org.jpg\n",
      "Tekrarlanan URL atlandı: https://cdn.dsmcdn.com/ty372/product/media/images/20220328/10/76982078/118409549/2/2_org.jpg\n",
      "Tekrarlanan URL atlandı: https://cdn.dsmcdn.com/ty1573/prod/QC/20240926/22/bad28259-fd45-3def-af85-07d5eb193f96/1_org.jpg\n",
      "İndirildi: trendyol_images\\Sneaker\\image_page3_20.jpg (46/50)\n",
      "İndirildi: trendyol_images\\Sneaker\\image_page3_21.jpg (47/50)\n",
      "Tekrarlanan URL atlandı: https://cdn.dsmcdn.com/ty1617/prod/QC/20241226/23/748ab9c1-74f2-3f36-b8fe-644d58a17037/1_org.jpg\n",
      "İndirildi: trendyol_images\\Sneaker\\image_page3_23.jpg (48/50)\n",
      "Tekrarlanan URL atlandı: https://cdn.dsmcdn.com/ty1572/prod/QC/20240927/09/45de9d5b-afc3-3214-9bb3-ce8baa55f54c/1_org.jpg\n",
      "İndirildi: trendyol_images\\Sneaker\\image_page4_1.jpg (49/50)\n",
      "Tekrarlanan URL atlandı: https://cdn.dsmcdn.com/ty1606/prod/QC/20241127/17/5a3ddf52-52a1-3f62-a955-3d0749ad23c4/1_org.jpg\n",
      "İndirildi: trendyol_images\\Sneaker\\image_page4_3.jpg (50/50)\n",
      "50 görsel indirildi. İşlem sonlandırılıyor.\n",
      "\n",
      "Babet kategorisinden görseller indiriliyor...\n",
      "İndirildi: trendyol_images\\Babet\\image_page1_1.jpg (1/50)\n",
      "İndirildi: trendyol_images\\Babet\\image_page1_2.jpg (2/50)\n",
      "İndirildi: trendyol_images\\Babet\\image_page1_3.jpg (3/50)\n",
      "İndirildi: trendyol_images\\Babet\\image_page1_4.jpg (4/50)\n",
      "İndirildi: trendyol_images\\Babet\\image_page1_5.jpg (5/50)\n",
      "İndirildi: trendyol_images\\Babet\\image_page1_6.jpg (6/50)\n",
      "İndirildi: trendyol_images\\Babet\\image_page1_7.jpg (7/50)\n",
      "İndirildi: trendyol_images\\Babet\\image_page1_8.jpg (8/50)\n",
      "İndirildi: trendyol_images\\Babet\\image_page1_9.jpg (9/50)\n",
      "İndirildi: trendyol_images\\Babet\\image_page1_10.jpg (10/50)\n",
      "İndirildi: trendyol_images\\Babet\\image_page1_11.jpg (11/50)\n",
      "İndirildi: trendyol_images\\Babet\\image_page1_12.jpg (12/50)\n",
      "İndirildi: trendyol_images\\Babet\\image_page1_13.jpg (13/50)\n",
      "İndirildi: trendyol_images\\Babet\\image_page1_14.jpg (14/50)\n",
      "İndirildi: trendyol_images\\Babet\\image_page1_15.jpg (15/50)\n",
      "İndirildi: trendyol_images\\Babet\\image_page1_16.jpg (16/50)\n",
      "İndirildi: trendyol_images\\Babet\\image_page1_17.jpg (17/50)\n",
      "İndirildi: trendyol_images\\Babet\\image_page1_18.jpg (18/50)\n",
      "İndirildi: trendyol_images\\Babet\\image_page1_19.jpg (19/50)\n",
      "İndirildi: trendyol_images\\Babet\\image_page1_20.jpg (20/50)\n",
      "İndirildi: trendyol_images\\Babet\\image_page1_21.jpg (21/50)\n",
      "İndirildi: trendyol_images\\Babet\\image_page1_22.jpg (22/50)\n",
      "İndirildi: trendyol_images\\Babet\\image_page1_23.jpg (23/50)\n",
      "İndirildi: trendyol_images\\Babet\\image_page1_24.jpg (24/50)\n",
      "İndirildi: trendyol_images\\Babet\\image_page2_1.jpg (25/50)\n",
      "Tekrarlanan URL atlandı: https://cdn.dsmcdn.com/ty1433/product/media/images/prod/QC/20240720/20/3ce5113d-2c17-380a-a719-4726c3b2ec36/1_org.jpg\n",
      "İndirildi: trendyol_images\\Babet\\image_page2_3.jpg (26/50)\n",
      "Tekrarlanan URL atlandı: https://cdn.dsmcdn.com/ty1491/product/media/images/prod/QC/20240820/01/ebbec0d4-f4be-3c6e-9246-8fe4b36874e2/1_org.jpg\n",
      "İndirildi: trendyol_images\\Babet\\image_page2_5.jpg (27/50)\n",
      "Tekrarlanan URL atlandı: https://cdn.dsmcdn.com/ty1624/prod/QC/20250110/14/d333e86e-c973-303e-b9bc-be596ef15b4a/1_org.jpg\n",
      "İndirildi: trendyol_images\\Babet\\image_page2_7.jpg (28/50)\n",
      "Tekrarlanan URL atlandı: https://cdn.dsmcdn.com/ty1609/prod/QC/20241205/15/ef4e6b44-aed1-352f-864f-84f28875a812/1_org.jpg\n",
      "İndirildi: trendyol_images\\Babet\\image_page2_9.jpg (29/50)\n",
      "Tekrarlanan URL atlandı: https://cdn.dsmcdn.com/ty1619/prod/QC/20241231/11/9544743b-a5ea-3bb2-8435-1bc4684fcd37/1_org.jpg\n",
      "İndirildi: trendyol_images\\Babet\\image_page2_11.jpg (30/50)\n",
      "Tekrarlanan URL atlandı: https://cdn.dsmcdn.com/ty1585/prod/QC/20241017/19/1fcbc9bd-4e70-314f-8874-74df92564f6d/1_org.jpg\n",
      "İndirildi: trendyol_images\\Babet\\image_page2_13.jpg (31/50)\n",
      "Tekrarlanan URL atlandı: https://cdn.dsmcdn.com/ty1624/prod/QC/20250110/15/0d1611c2-f975-312c-a994-f969c4858caf/1_org.jpg\n",
      "İndirildi: trendyol_images\\Babet\\image_page2_15.jpg (32/50)\n",
      "Tekrarlanan URL atlandı: https://cdn.dsmcdn.com/ty1583/prod/QC/20241010/19/f881aae6-e8af-3416-a26b-f888aefbefdc/1_org.jpg\n",
      "İndirildi: trendyol_images\\Babet\\image_page2_17.jpg (33/50)\n",
      "Tekrarlanan URL atlandı: https://cdn.dsmcdn.com/ty1614/prod/QC/20241222/02/0141bf17-7d59-35e1-a4da-a65ad6507cf1/1_org.jpg\n",
      "İndirildi: trendyol_images\\Babet\\image_page2_19.jpg (34/50)\n",
      "Tekrarlanan URL atlandı: https://cdn.dsmcdn.com/ty1493/product/media/images/prod/QC/20240820/01/66f41267-58ab-36b0-9554-18007d1495f2/1_org.jpg\n",
      "İndirildi: trendyol_images\\Babet\\image_page2_21.jpg (35/50)\n",
      "Tekrarlanan URL atlandı: https://cdn.dsmcdn.com/ty1603/prod/QC/20241121/18/6fa0e55f-0403-3331-91a5-01f4cbc917bb/1_org.jpg\n",
      "İndirildi: trendyol_images\\Babet\\image_page2_23.jpg (36/50)\n",
      "Tekrarlanan URL atlandı: https://cdn.dsmcdn.com/ty1523/product/media/images/prod/QC/20240904/11/e935ea6f-60b5-3b9f-81ed-ed364aa39e65/1_org.jpg\n",
      "İndirildi: trendyol_images\\Babet\\image_page3_1.jpg (37/50)\n",
      "Tekrarlanan URL atlandı: https://cdn.dsmcdn.com/ty1433/product/media/images/prod/QC/20240720/20/3ce5113d-2c17-380a-a719-4726c3b2ec36/1_org.jpg\n",
      "İndirildi: trendyol_images\\Babet\\image_page3_3.jpg (38/50)\n",
      "Tekrarlanan URL atlandı: https://cdn.dsmcdn.com/ty1491/product/media/images/prod/QC/20240820/01/ebbec0d4-f4be-3c6e-9246-8fe4b36874e2/1_org.jpg\n",
      "İndirildi: trendyol_images\\Babet\\image_page3_5.jpg (39/50)\n",
      "Tekrarlanan URL atlandı: https://cdn.dsmcdn.com/ty1624/prod/QC/20250110/14/d333e86e-c973-303e-b9bc-be596ef15b4a/1_org.jpg\n",
      "İndirildi: trendyol_images\\Babet\\image_page3_7.jpg (40/50)\n",
      "Tekrarlanan URL atlandı: https://cdn.dsmcdn.com/ty1609/prod/QC/20241205/15/ef4e6b44-aed1-352f-864f-84f28875a812/1_org.jpg\n",
      "İndirildi: trendyol_images\\Babet\\image_page3_9.jpg (41/50)\n",
      "Tekrarlanan URL atlandı: https://cdn.dsmcdn.com/ty1619/prod/QC/20241231/11/9544743b-a5ea-3bb2-8435-1bc4684fcd37/1_org.jpg\n",
      "İndirildi: trendyol_images\\Babet\\image_page3_11.jpg (42/50)\n",
      "Tekrarlanan URL atlandı: https://cdn.dsmcdn.com/ty1585/prod/QC/20241017/19/1fcbc9bd-4e70-314f-8874-74df92564f6d/1_org.jpg\n",
      "İndirildi: trendyol_images\\Babet\\image_page3_13.jpg (43/50)\n",
      "Tekrarlanan URL atlandı: https://cdn.dsmcdn.com/ty1624/prod/QC/20250110/15/0d1611c2-f975-312c-a994-f969c4858caf/1_org.jpg\n",
      "İndirildi: trendyol_images\\Babet\\image_page3_15.jpg (44/50)\n",
      "Tekrarlanan URL atlandı: https://cdn.dsmcdn.com/ty1583/prod/QC/20241010/19/f881aae6-e8af-3416-a26b-f888aefbefdc/1_org.jpg\n",
      "İndirildi: trendyol_images\\Babet\\image_page3_17.jpg (45/50)\n",
      "Tekrarlanan URL atlandı: https://cdn.dsmcdn.com/ty1614/prod/QC/20241222/02/0141bf17-7d59-35e1-a4da-a65ad6507cf1/1_org.jpg\n",
      "İndirildi: trendyol_images\\Babet\\image_page3_19.jpg (46/50)\n",
      "Tekrarlanan URL atlandı: https://cdn.dsmcdn.com/ty1493/product/media/images/prod/QC/20240820/01/66f41267-58ab-36b0-9554-18007d1495f2/1_org.jpg\n",
      "İndirildi: trendyol_images\\Babet\\image_page3_21.jpg (47/50)\n",
      "Tekrarlanan URL atlandı: https://cdn.dsmcdn.com/ty1603/prod/QC/20241121/18/6fa0e55f-0403-3331-91a5-01f4cbc917bb/1_org.jpg\n",
      "İndirildi: trendyol_images\\Babet\\image_page3_23.jpg (48/50)\n",
      "Tekrarlanan URL atlandı: https://cdn.dsmcdn.com/ty1523/product/media/images/prod/QC/20240904/11/e935ea6f-60b5-3b9f-81ed-ed364aa39e65/1_org.jpg\n",
      "İndirildi: trendyol_images\\Babet\\image_page4_1.jpg (49/50)\n",
      "İndirildi: trendyol_images\\Babet\\image_page4_2.jpg (50/50)\n",
      "50 görsel indirildi. İşlem sonlandırılıyor.\n",
      "\n",
      "Bot kategorisinden görseller indiriliyor...\n",
      "İndirildi: trendyol_images\\Bot\\image_page1_1.jpg (1/50)\n",
      "İndirildi: trendyol_images\\Bot\\image_page1_2.jpg (2/50)\n",
      "İndirildi: trendyol_images\\Bot\\image_page1_3.jpg (3/50)\n",
      "İndirildi: trendyol_images\\Bot\\image_page1_4.jpg (4/50)\n",
      "İndirildi: trendyol_images\\Bot\\image_page1_5.jpg (5/50)\n",
      "İndirildi: trendyol_images\\Bot\\image_page1_6.jpg (6/50)\n",
      "İndirildi: trendyol_images\\Bot\\image_page1_7.jpg (7/50)\n",
      "İndirildi: trendyol_images\\Bot\\image_page1_8.jpg (8/50)\n",
      "İndirildi: trendyol_images\\Bot\\image_page1_9.jpg (9/50)\n",
      "İndirildi: trendyol_images\\Bot\\image_page1_10.jpg (10/50)\n",
      "İndirildi: trendyol_images\\Bot\\image_page1_11.jpg (11/50)\n",
      "İndirildi: trendyol_images\\Bot\\image_page1_12.jpg (12/50)\n",
      "İndirildi: trendyol_images\\Bot\\image_page1_13.jpg (13/50)\n",
      "İndirildi: trendyol_images\\Bot\\image_page1_14.jpg (14/50)\n",
      "İndirildi: trendyol_images\\Bot\\image_page1_15.jpg (15/50)\n",
      "İndirilemedi veya işlenemedi: https://cdn.dsmcdn.com/ty1070/product/media/images/prod/SPM/PIM/20231128/13/ba481cba-d4e8-3874-92df-e1f636c4c7b1/1_org.jpg, Hata: <urlopen error [WinError 10060] Bağlanılan uygun olarak belli bir süre içinde yanıt vermediğinden veya kurulan\n",
      "bağlantı bağlanılan ana bilgisayar yanıt vermediğinden bir bağlantı kurulamadı>\n",
      "İndirildi: trendyol_images\\Bot\\image_page1_17.jpg (16/50)\n",
      "İndirildi: trendyol_images\\Bot\\image_page1_18.jpg (17/50)\n",
      "İndirildi: trendyol_images\\Bot\\image_page1_19.jpg (18/50)\n",
      "İndirildi: trendyol_images\\Bot\\image_page1_20.jpg (19/50)\n",
      "İndirildi: trendyol_images\\Bot\\image_page1_21.jpg (20/50)\n",
      "İndirildi: trendyol_images\\Bot\\image_page1_22.jpg (21/50)\n",
      "İndirildi: trendyol_images\\Bot\\image_page1_23.jpg (22/50)\n",
      "İndirildi: trendyol_images\\Bot\\image_page1_24.jpg (23/50)\n",
      "İndirildi: trendyol_images\\Bot\\image_page2_1.jpg (24/50)\n",
      "İndirildi: trendyol_images\\Bot\\image_page2_2.jpg (25/50)\n",
      "İndirildi: trendyol_images\\Bot\\image_page2_3.jpg (26/50)\n",
      "Tekrarlanan URL atlandı: https://cdn.dsmcdn.com/ty1619/prod/QC/20250101/22/74f84892-ddf6-3a5b-8d84-b3c2ceb3c11c/1_org.jpg\n",
      "İndirildi: trendyol_images\\Bot\\image_page2_5.jpg (27/50)\n",
      "İndirildi: trendyol_images\\Bot\\image_page2_6.jpg (28/50)\n",
      "İndirildi: trendyol_images\\Bot\\image_page2_7.jpg (29/50)\n",
      "Tekrarlanan URL atlandı: https://cdn.dsmcdn.com/ty1090/product/media/images/prod/SPM/PIM/20231214/17/74893c83-14e2-33b6-9ebe-19a54564e490/1_org.jpg\n",
      "İndirildi: trendyol_images\\Bot\\image_page2_9.jpg (30/50)\n",
      "İndirildi: trendyol_images\\Bot\\image_page2_10.jpg (31/50)\n",
      "İndirildi: trendyol_images\\Bot\\image_page2_11.jpg (32/50)\n",
      "Tekrarlanan URL atlandı: https://cdn.dsmcdn.com/ty1131/product/media/images/prod/SPM/PIM/20240112/14/7c377029-d0a7-3945-a102-8ab8451c98e8/1_org.jpg\n",
      "İndirildi: trendyol_images\\Bot\\image_page2_13.jpg (33/50)\n",
      "İndirildi: trendyol_images\\Bot\\image_page2_14.jpg (34/50)\n",
      "İndirildi: trendyol_images\\Bot\\image_page2_15.jpg (35/50)\n",
      "İndirildi: trendyol_images\\Bot\\image_page2_16.jpg (36/50)\n",
      "İndirildi: trendyol_images\\Bot\\image_page2_17.jpg (37/50)\n",
      "İndirildi: trendyol_images\\Bot\\image_page2_18.jpg (38/50)\n",
      "İndirildi: trendyol_images\\Bot\\image_page2_19.jpg (39/50)\n",
      "Tekrarlanan URL atlandı: https://cdn.dsmcdn.com/ty1091/product/media/images/prod/SPM/PIM/20231214/17/cba48534-743b-3db2-9e6f-d4e42e776184/1_org.jpg\n",
      "İndirildi: trendyol_images\\Bot\\image_page2_21.jpg (40/50)\n",
      "İndirildi: trendyol_images\\Bot\\image_page2_22.jpg (41/50)\n",
      "İndirildi: trendyol_images\\Bot\\image_page2_23.jpg (42/50)\n",
      "Tekrarlanan URL atlandı: https://cdn.dsmcdn.com/ty1618/prod/QC/20250101/22/cb89e69c-1cd6-361c-bc7d-99b388b66ee6/1_org.jpg\n",
      "İndirildi: trendyol_images\\Bot\\image_page3_1.jpg (43/50)\n",
      "İndirildi: trendyol_images\\Bot\\image_page3_2.jpg (44/50)\n",
      "İndirildi: trendyol_images\\Bot\\image_page3_3.jpg (45/50)\n",
      "Tekrarlanan URL atlandı: https://cdn.dsmcdn.com/ty1619/prod/QC/20250101/22/74f84892-ddf6-3a5b-8d84-b3c2ceb3c11c/1_org.jpg\n",
      "İndirildi: trendyol_images\\Bot\\image_page3_5.jpg (46/50)\n",
      "İndirildi: trendyol_images\\Bot\\image_page3_6.jpg (47/50)\n",
      "İndirildi: trendyol_images\\Bot\\image_page3_7.jpg (48/50)\n",
      "Tekrarlanan URL atlandı: https://cdn.dsmcdn.com/ty1090/product/media/images/prod/SPM/PIM/20231214/17/74893c83-14e2-33b6-9ebe-19a54564e490/1_org.jpg\n",
      "İndirildi: trendyol_images\\Bot\\image_page3_9.jpg (49/50)\n",
      "İndirildi: trendyol_images\\Bot\\image_page3_10.jpg (50/50)\n",
      "50 görsel indirildi. İşlem sonlandırılıyor.\n",
      "\n",
      "Topuklu Ayakkabı kategorisinden görseller indiriliyor...\n",
      "İndirildi: trendyol_images\\Topuklu Ayakkabı\\image_page1_1.jpg (1/50)\n",
      "İndirilemedi veya işlenemedi: https://cdn.dsmcdn.com/ty1532/product/media/images/prod/QC/20240908/14/efcbe343-d09b-3353-a0c9-5a63f51c0b50/1_org.jpg, Hata: <urlopen error [WinError 10060] Bağlanılan uygun olarak belli bir süre içinde yanıt vermediğinden veya kurulan\n",
      "bağlantı bağlanılan ana bilgisayar yanıt vermediğinden bir bağlantı kurulamadı>\n",
      "İndirildi: trendyol_images\\Topuklu Ayakkabı\\image_page1_3.jpg (2/50)\n",
      "İndirildi: trendyol_images\\Topuklu Ayakkabı\\image_page1_4.jpg (3/50)\n",
      "İndirildi: trendyol_images\\Topuklu Ayakkabı\\image_page1_5.jpg (4/50)\n",
      "İndirildi: trendyol_images\\Topuklu Ayakkabı\\image_page1_6.jpg (5/50)\n",
      "İndirildi: trendyol_images\\Topuklu Ayakkabı\\image_page1_7.jpg (6/50)\n",
      "İndirildi: trendyol_images\\Topuklu Ayakkabı\\image_page1_8.jpg (7/50)\n",
      "İndirildi: trendyol_images\\Topuklu Ayakkabı\\image_page1_9.jpg (8/50)\n",
      "İndirildi: trendyol_images\\Topuklu Ayakkabı\\image_page1_10.jpg (9/50)\n",
      "İndirildi: trendyol_images\\Topuklu Ayakkabı\\image_page1_11.jpg (10/50)\n",
      "İndirildi: trendyol_images\\Topuklu Ayakkabı\\image_page1_12.jpg (11/50)\n",
      "İndirildi: trendyol_images\\Topuklu Ayakkabı\\image_page1_13.jpg (12/50)\n",
      "İndirildi: trendyol_images\\Topuklu Ayakkabı\\image_page1_14.jpg (13/50)\n",
      "İndirildi: trendyol_images\\Topuklu Ayakkabı\\image_page1_15.jpg (14/50)\n",
      "İndirildi: trendyol_images\\Topuklu Ayakkabı\\image_page1_16.jpg (15/50)\n",
      "İndirildi: trendyol_images\\Topuklu Ayakkabı\\image_page1_17.jpg (16/50)\n",
      "İndirildi: trendyol_images\\Topuklu Ayakkabı\\image_page1_18.jpg (17/50)\n",
      "İndirildi: trendyol_images\\Topuklu Ayakkabı\\image_page1_19.jpg (18/50)\n",
      "İndirildi: trendyol_images\\Topuklu Ayakkabı\\image_page1_20.jpg (19/50)\n",
      "İndirildi: trendyol_images\\Topuklu Ayakkabı\\image_page1_21.jpg (20/50)\n",
      "İndirildi: trendyol_images\\Topuklu Ayakkabı\\image_page1_22.jpg (21/50)\n",
      "İndirildi: trendyol_images\\Topuklu Ayakkabı\\image_page1_23.jpg (22/50)\n",
      "İndirildi: trendyol_images\\Topuklu Ayakkabı\\image_page1_24.jpg (23/50)\n",
      "İndirildi: trendyol_images\\Topuklu Ayakkabı\\image_page2_1.jpg (24/50)\n",
      "İndirildi: trendyol_images\\Topuklu Ayakkabı\\image_page2_2.jpg (25/50)\n",
      "İndirildi: trendyol_images\\Topuklu Ayakkabı\\image_page2_3.jpg (26/50)\n",
      "Tekrarlanan URL atlandı: https://cdn.dsmcdn.com/ty1008/product/media/images/prod/SPM/PIM/20231006/00/1ff89354-d256-34b8-bc41-f3ce86dfa4b9/1_org.jpg\n",
      "İndirildi: trendyol_images\\Topuklu Ayakkabı\\image_page2_5.jpg (27/50)\n",
      "İndirildi: trendyol_images\\Topuklu Ayakkabı\\image_page2_6.jpg (28/50)\n",
      "İndirildi: trendyol_images\\Topuklu Ayakkabı\\image_page2_7.jpg (29/50)\n",
      "Tekrarlanan URL atlandı: https://cdn.dsmcdn.com/ty1586/prod/QC/20241017/13/b8cf5844-9c1a-327f-a620-44f36cd39892/1_org.jpg\n",
      "İndirildi: trendyol_images\\Topuklu Ayakkabı\\image_page2_9.jpg (30/50)\n",
      "İndirildi: trendyol_images\\Topuklu Ayakkabı\\image_page2_10.jpg (31/50)\n",
      "İndirildi: trendyol_images\\Topuklu Ayakkabı\\image_page2_11.jpg (32/50)\n",
      "Tekrarlanan URL atlandı: https://cdn.dsmcdn.com/ty1583/prod/QC/20241009/17/bbaf4811-2b7c-3a95-9985-75e3bb507b3a/1_org.jpg\n",
      "İndirildi: trendyol_images\\Topuklu Ayakkabı\\image_page2_13.jpg (33/50)\n",
      "İndirildi: trendyol_images\\Topuklu Ayakkabı\\image_page2_14.jpg (34/50)\n",
      "İndirildi: trendyol_images\\Topuklu Ayakkabı\\image_page2_15.jpg (35/50)\n",
      "Tekrarlanan URL atlandı: https://cdn.dsmcdn.com/ty1581/prod/QC/20241011/07/00d589f1-a4cb-3609-a8fc-f1d4e1c383ab/1_org.jpg\n",
      "İndirildi: trendyol_images\\Topuklu Ayakkabı\\image_page2_17.jpg (36/50)\n",
      "İndirildi: trendyol_images\\Topuklu Ayakkabı\\image_page2_18.jpg (37/50)\n",
      "İndirildi: trendyol_images\\Topuklu Ayakkabı\\image_page2_19.jpg (38/50)\n",
      "Tekrarlanan URL atlandı: https://cdn.dsmcdn.com/ty1153/product/media/images/prod/SPM/PIM/20240201/07/14c1da1a-f8f7-3972-9ed7-763c66f40ad8/1_org.jpg\n",
      "İndirildi: trendyol_images\\Topuklu Ayakkabı\\image_page2_21.jpg (39/50)\n",
      "İndirildi: trendyol_images\\Topuklu Ayakkabı\\image_page2_22.jpg (40/50)\n",
      "İndirildi: trendyol_images\\Topuklu Ayakkabı\\image_page2_23.jpg (41/50)\n",
      "Tekrarlanan URL atlandı: https://cdn.dsmcdn.com/ty1511/product/media/images/prod/QC/20240828/15/a26b29e9-dbc1-3b1b-aabd-f00947a33295/1_org.jpg\n",
      "İndirildi: trendyol_images\\Topuklu Ayakkabı\\image_page3_1.jpg (42/50)\n",
      "İndirildi: trendyol_images\\Topuklu Ayakkabı\\image_page3_2.jpg (43/50)\n",
      "İndirildi: trendyol_images\\Topuklu Ayakkabı\\image_page3_3.jpg (44/50)\n",
      "Tekrarlanan URL atlandı: https://cdn.dsmcdn.com/ty1008/product/media/images/prod/SPM/PIM/20231006/00/1ff89354-d256-34b8-bc41-f3ce86dfa4b9/1_org.jpg\n",
      "İndirildi: trendyol_images\\Topuklu Ayakkabı\\image_page3_5.jpg (45/50)\n",
      "İndirildi: trendyol_images\\Topuklu Ayakkabı\\image_page3_6.jpg (46/50)\n",
      "İndirildi: trendyol_images\\Topuklu Ayakkabı\\image_page3_7.jpg (47/50)\n",
      "Tekrarlanan URL atlandı: https://cdn.dsmcdn.com/ty1586/prod/QC/20241017/13/b8cf5844-9c1a-327f-a620-44f36cd39892/1_org.jpg\n",
      "İndirildi: trendyol_images\\Topuklu Ayakkabı\\image_page3_9.jpg (48/50)\n",
      "İndirildi: trendyol_images\\Topuklu Ayakkabı\\image_page3_10.jpg (49/50)\n",
      "İndirildi: trendyol_images\\Topuklu Ayakkabı\\image_page3_11.jpg (50/50)\n",
      "50 görsel indirildi. İşlem sonlandırılıyor.\n"
     ]
    }
   ],
   "source": [
    "import os\n",
    "import time\n",
    "from selenium import webdriver\n",
    "from selenium.webdriver.common.by import By\n",
    "from selenium.webdriver.chrome.service import Service\n",
    "from webdriver_manager.chrome import ChromeDriverManager\n",
    "from urllib.request import urlretrieve\n",
    "from PIL import Image\n",
    "\n",
    "# Klasör oluşturma\n",
    "def create_folder(folder_name):\n",
    "    if not os.path.exists(folder_name):\n",
    "        os.makedirs(folder_name)\n",
    "\n",
    "# Görselleri indir ve işleme\n",
    "def download_images_unique(base_url, output_folder, processed_folder, num_pages=5, images_needed=50, size=(128, 128)):\n",
    "    options = webdriver.ChromeOptions()\n",
    "    options.add_argument(\"--headless\")\n",
    "    driver = webdriver.Chrome(service=Service(ChromeDriverManager().install()), options=options)\n",
    "\n",
    "    create_folder(output_folder)\n",
    "    create_folder(processed_folder)\n",
    "    downloaded_urls = set()  # İndirilen görsellerin URL'lerini takip etmek için bir set\n",
    "    total_downloaded = 0  # Toplam indirilen resim sayısı\n",
    "\n",
    "    for page in range(1, num_pages + 1):\n",
    "        if total_downloaded >= images_needed:\n",
    "            print(f\"{images_needed} görsel indirildi. İşlem sonlandırılıyor.\")\n",
    "            break\n",
    "\n",
    "        url = f\"{base_url}?pi={page}\"\n",
    "        driver.get(url)\n",
    "        time.sleep(3)  # Sayfa yüklenmesi için bekleme\n",
    "\n",
    "        # Sayfadaki görselleri bul\n",
    "        images = driver.find_elements(By.CSS_SELECTOR, \"img.p-card-img\")\n",
    "        for idx, img in enumerate(images):\n",
    "            if total_downloaded >= images_needed:\n",
    "                break  # Hedef sayıya ulaşıldığında durdur\n",
    "\n",
    "            img_url = img.get_attribute(\"src\")\n",
    "            if img_url and \"product-placeholder\" not in img_url and img_url not in downloaded_urls:\n",
    "                file_name = os.path.join(output_folder, f\"image_page{page}_{idx + 1}.jpg\")\n",
    "                processed_file_name = os.path.join(processed_folder, f\"image_page{page}_{idx + 1}.jpg\")\n",
    "                try:\n",
    "                    # Görseli indir\n",
    "                    urlretrieve(img_url, file_name)\n",
    "                    downloaded_urls.add(img_url)  # URL'yi indirilenlere ekle\n",
    "                    total_downloaded += 1\n",
    "                    print(f\"İndirildi: {file_name} ({total_downloaded}/{images_needed})\")\n",
    "                    \n",
    "                    # Görseli işleme ve boyutlandırma\n",
    "                    img = Image.open(file_name)\n",
    "                    img = img.convert(\"RGB\")  # RGB formatına dönüştür\n",
    "                    img = img.resize(size)   # Boyutlandır\n",
    "                    img.save(processed_file_name)  # İşlenmiş klasöre kaydet\n",
    "                except Exception as e:\n",
    "                    print(f\"İndirilemedi veya işlenemedi: {img_url}, Hata: {e}\")\n",
    "            elif img_url in downloaded_urls:\n",
    "                print(f\"Tekrarlanan URL atlandı: {img_url}\")\n",
    "\n",
    "    driver.quit()\n",
    "\n",
    "# Kullanım\n",
    "urls = {\n",
    "    \"Sneaker\": \"https://www.trendyol.com/kadin-sneaker-x-g1-c1172\",\n",
    "    \"Babet\": \"https://www.trendyol.com/kadin-babet-x-g1-c113\",\n",
    "    \"Bot\": \"https://www.trendyol.com/kadin-bot-x-g1-c1025\",\n",
    "    \"Topuklu Ayakkabı\": \"https://www.trendyol.com/kadin-topuklu-ayakkabi-x-g1-c107\"\n",
    "}\n",
    "\n",
    "output_folder_base = \"trendyol_images\"       # Orijinal görsellerin kaydedileceği ana klasör\n",
    "processed_folder_base = \"processed_images\"  # İşlenmiş görsellerin kaydedileceği ana klasör\n",
    "\n",
    "# Her bir URL için işlemi başlat\n",
    "for category, url in urls.items():\n",
    "    raw_folder = os.path.join(output_folder_base, category)          # Kategori bazında klasör (orijinal)\n",
    "    processed_folder = os.path.join(processed_folder_base, category)  # Kategori bazında klasör (işlenmiş)\n",
    "    print(f\"\\n{category} kategorisinden görseller indiriliyor...\")\n",
    "    download_images_unique(url, raw_folder, processed_folder, num_pages=5, images_needed=50)"
   ]
  },
  {
   "cell_type": "code",
   "execution_count": 7,
   "id": "6869d4b5-889f-4ede-b3c2-3c1087099aea",
   "metadata": {
    "scrolled": true
   },
   "outputs": [
    {
     "name": "stdout",
     "output_type": "stream",
     "text": [
      "Found 160 images belonging to 4 classes.\n",
      "Found 40 images belonging to 4 classes.\n"
     ]
    },
    {
     "name": "stderr",
     "output_type": "stream",
     "text": [
      "C:\\Users\\yusuf\\AppData\\Local\\Programs\\Python\\Python310\\lib\\site-packages\\keras\\src\\trainers\\data_adapters\\py_dataset_adapter.py:121: UserWarning: Your `PyDataset` class should call `super().__init__(**kwargs)` in its constructor. `**kwargs` can include `workers`, `use_multiprocessing`, `max_queue_size`. Do not pass these arguments to `fit()`, as they will be ignored.\n",
      "  self._warn_if_super_not_called()\n"
     ]
    },
    {
     "name": "stdout",
     "output_type": "stream",
     "text": [
      "Epoch 1/50\n",
      "\u001b[1m10/10\u001b[0m \u001b[32m━━━━━━━━━━━━━━━━━━━━\u001b[0m\u001b[37m\u001b[0m \u001b[1m7s\u001b[0m 442ms/step - accuracy: 0.2562 - loss: 3.5146 - val_accuracy: 0.2500 - val_loss: 1.3836\n",
      "Epoch 2/50\n",
      "\u001b[1m10/10\u001b[0m \u001b[32m━━━━━━━━━━━━━━━━━━━━\u001b[0m\u001b[37m\u001b[0m \u001b[1m4s\u001b[0m 359ms/step - accuracy: 0.2316 - loss: 3.4982 - val_accuracy: 0.2500 - val_loss: 1.4044\n",
      "Epoch 3/50\n",
      "\u001b[1m10/10\u001b[0m \u001b[32m━━━━━━━━━━━━━━━━━━━━\u001b[0m\u001b[37m\u001b[0m \u001b[1m4s\u001b[0m 361ms/step - accuracy: 0.3433 - loss: 2.8619 - val_accuracy: 0.2500 - val_loss: 1.4848\n",
      "Epoch 4/50\n",
      "\u001b[1m10/10\u001b[0m \u001b[32m━━━━━━━━━━━━━━━━━━━━\u001b[0m\u001b[37m\u001b[0m \u001b[1m4s\u001b[0m 360ms/step - accuracy: 0.2705 - loss: 3.3371 - val_accuracy: 0.2500 - val_loss: 1.5762\n",
      "Epoch 5/50\n",
      "\u001b[1m10/10\u001b[0m \u001b[32m━━━━━━━━━━━━━━━━━━━━\u001b[0m\u001b[37m\u001b[0m \u001b[1m4s\u001b[0m 360ms/step - accuracy: 0.2694 - loss: 2.5715 - val_accuracy: 0.2500 - val_loss: 1.6877\n",
      "Epoch 6/50\n",
      "\u001b[1m10/10\u001b[0m \u001b[32m━━━━━━━━━━━━━━━━━━━━\u001b[0m\u001b[37m\u001b[0m \u001b[1m4s\u001b[0m 358ms/step - accuracy: 0.2870 - loss: 2.6540 - val_accuracy: 0.2500 - val_loss: 1.9223\n",
      "Epoch 7/50\n",
      "\u001b[1m10/10\u001b[0m \u001b[32m━━━━━━━━━━━━━━━━━━━━\u001b[0m\u001b[37m\u001b[0m \u001b[1m4s\u001b[0m 359ms/step - accuracy: 0.2843 - loss: 2.4097 - val_accuracy: 0.2500 - val_loss: 2.0734\n",
      "Epoch 8/50\n",
      "\u001b[1m10/10\u001b[0m \u001b[32m━━━━━━━━━━━━━━━━━━━━\u001b[0m\u001b[37m\u001b[0m \u001b[1m4s\u001b[0m 358ms/step - accuracy: 0.3495 - loss: 2.3441 - val_accuracy: 0.2500 - val_loss: 2.1546\n",
      "Epoch 9/50\n",
      "\u001b[1m10/10\u001b[0m \u001b[32m━━━━━━━━━━━━━━━━━━━━\u001b[0m\u001b[37m\u001b[0m \u001b[1m4s\u001b[0m 354ms/step - accuracy: 0.3114 - loss: 2.0848 - val_accuracy: 0.2500 - val_loss: 2.2499\n",
      "Epoch 10/50\n",
      "\u001b[1m10/10\u001b[0m \u001b[32m━━━━━━━━━━━━━━━━━━━━\u001b[0m\u001b[37m\u001b[0m \u001b[1m4s\u001b[0m 360ms/step - accuracy: 0.2693 - loss: 2.1531 - val_accuracy: 0.2500 - val_loss: 2.3498\n",
      "Epoch 11/50\n",
      "\u001b[1m10/10\u001b[0m \u001b[32m━━━━━━━━━━━━━━━━━━━━\u001b[0m\u001b[37m\u001b[0m \u001b[1m4s\u001b[0m 362ms/step - accuracy: 0.2806 - loss: 1.9779 - val_accuracy: 0.2500 - val_loss: 2.4848\n",
      "Epoch 12/50\n",
      "\u001b[1m10/10\u001b[0m \u001b[32m━━━━━━━━━━━━━━━━━━━━\u001b[0m\u001b[37m\u001b[0m \u001b[1m4s\u001b[0m 358ms/step - accuracy: 0.3724 - loss: 1.9083 - val_accuracy: 0.2500 - val_loss: 2.6536\n",
      "Epoch 13/50\n",
      "\u001b[1m10/10\u001b[0m \u001b[32m━━━━━━━━━━━━━━━━━━━━\u001b[0m\u001b[37m\u001b[0m \u001b[1m4s\u001b[0m 360ms/step - accuracy: 0.3787 - loss: 1.7762 - val_accuracy: 0.2500 - val_loss: 2.9015\n",
      "Epoch 14/50\n",
      "\u001b[1m10/10\u001b[0m \u001b[32m━━━━━━━━━━━━━━━━━━━━\u001b[0m\u001b[37m\u001b[0m \u001b[1m4s\u001b[0m 356ms/step - accuracy: 0.3644 - loss: 1.5588 - val_accuracy: 0.2500 - val_loss: 3.0703\n",
      "Epoch 15/50\n",
      "\u001b[1m10/10\u001b[0m \u001b[32m━━━━━━━━━━━━━━━━━━━━\u001b[0m\u001b[37m\u001b[0m \u001b[1m4s\u001b[0m 356ms/step - accuracy: 0.2816 - loss: 1.7950 - val_accuracy: 0.2500 - val_loss: 3.0472\n",
      "Epoch 16/50\n",
      "\u001b[1m10/10\u001b[0m \u001b[32m━━━━━━━━━━━━━━━━━━━━\u001b[0m\u001b[37m\u001b[0m \u001b[1m4s\u001b[0m 356ms/step - accuracy: 0.3804 - loss: 1.4360 - val_accuracy: 0.2500 - val_loss: 2.9412\n",
      "Epoch 17/50\n",
      "\u001b[1m10/10\u001b[0m \u001b[32m━━━━━━━━━━━━━━━━━━━━\u001b[0m\u001b[37m\u001b[0m \u001b[1m4s\u001b[0m 359ms/step - accuracy: 0.2836 - loss: 1.6092 - val_accuracy: 0.2500 - val_loss: 2.8164\n",
      "Epoch 18/50\n",
      "\u001b[1m10/10\u001b[0m \u001b[32m━━━━━━━━━━━━━━━━━━━━\u001b[0m\u001b[37m\u001b[0m \u001b[1m4s\u001b[0m 359ms/step - accuracy: 0.3197 - loss: 1.6326 - val_accuracy: 0.2500 - val_loss: 2.5854\n",
      "Epoch 19/50\n",
      "\u001b[1m10/10\u001b[0m \u001b[32m━━━━━━━━━━━━━━━━━━━━\u001b[0m\u001b[37m\u001b[0m \u001b[1m4s\u001b[0m 359ms/step - accuracy: 0.3559 - loss: 1.5270 - val_accuracy: 0.2500 - val_loss: 2.6920\n",
      "Epoch 20/50\n",
      "\u001b[1m10/10\u001b[0m \u001b[32m━━━━━━━━━━━━━━━━━━━━\u001b[0m\u001b[37m\u001b[0m \u001b[1m4s\u001b[0m 361ms/step - accuracy: 0.3714 - loss: 1.4696 - val_accuracy: 0.2500 - val_loss: 2.6331\n",
      "Epoch 21/50\n",
      "\u001b[1m10/10\u001b[0m \u001b[32m━━━━━━━━━━━━━━━━━━━━\u001b[0m\u001b[37m\u001b[0m \u001b[1m4s\u001b[0m 357ms/step - accuracy: 0.4185 - loss: 1.4658 - val_accuracy: 0.2500 - val_loss: 2.6056\n",
      "Epoch 22/50\n",
      "\u001b[1m10/10\u001b[0m \u001b[32m━━━━━━━━━━━━━━━━━━━━\u001b[0m\u001b[37m\u001b[0m \u001b[1m4s\u001b[0m 361ms/step - accuracy: 0.3481 - loss: 1.3878 - val_accuracy: 0.2500 - val_loss: 2.5701\n",
      "Epoch 23/50\n",
      "\u001b[1m10/10\u001b[0m \u001b[32m━━━━━━━━━━━━━━━━━━━━\u001b[0m\u001b[37m\u001b[0m \u001b[1m4s\u001b[0m 369ms/step - accuracy: 0.3380 - loss: 1.4611 - val_accuracy: 0.2500 - val_loss: 2.5498\n",
      "Epoch 24/50\n",
      "\u001b[1m10/10\u001b[0m \u001b[32m━━━━━━━━━━━━━━━━━━━━\u001b[0m\u001b[37m\u001b[0m \u001b[1m4s\u001b[0m 357ms/step - accuracy: 0.3526 - loss: 1.5082 - val_accuracy: 0.2500 - val_loss: 2.5455\n",
      "Epoch 25/50\n",
      "\u001b[1m10/10\u001b[0m \u001b[32m━━━━━━━━━━━━━━━━━━━━\u001b[0m\u001b[37m\u001b[0m \u001b[1m4s\u001b[0m 359ms/step - accuracy: 0.3649 - loss: 1.4237 - val_accuracy: 0.2500 - val_loss: 2.5729\n",
      "Epoch 26/50\n",
      "\u001b[1m10/10\u001b[0m \u001b[32m━━━━━━━━━━━━━━━━━━━━\u001b[0m\u001b[37m\u001b[0m \u001b[1m4s\u001b[0m 356ms/step - accuracy: 0.3710 - loss: 1.3154 - val_accuracy: 0.2500 - val_loss: 2.5117\n",
      "Epoch 27/50\n",
      "\u001b[1m10/10\u001b[0m \u001b[32m━━━━━━━━━━━━━━━━━━━━\u001b[0m\u001b[37m\u001b[0m \u001b[1m4s\u001b[0m 360ms/step - accuracy: 0.3085 - loss: 1.4334 - val_accuracy: 0.2750 - val_loss: 2.2956\n",
      "Epoch 28/50\n",
      "\u001b[1m10/10\u001b[0m \u001b[32m━━━━━━━━━━━━━━━━━━━━\u001b[0m\u001b[37m\u001b[0m \u001b[1m4s\u001b[0m 364ms/step - accuracy: 0.3183 - loss: 1.6213 - val_accuracy: 0.2500 - val_loss: 2.3026\n",
      "Epoch 29/50\n",
      "\u001b[1m10/10\u001b[0m \u001b[32m━━━━━━━━━━━━━━━━━━━━\u001b[0m\u001b[37m\u001b[0m \u001b[1m4s\u001b[0m 359ms/step - accuracy: 0.3846 - loss: 1.2998 - val_accuracy: 0.2750 - val_loss: 2.1398\n",
      "Epoch 30/50\n",
      "\u001b[1m10/10\u001b[0m \u001b[32m━━━━━━━━━━━━━━━━━━━━\u001b[0m\u001b[37m\u001b[0m \u001b[1m4s\u001b[0m 359ms/step - accuracy: 0.3369 - loss: 1.3694 - val_accuracy: 0.3000 - val_loss: 2.1390\n",
      "Epoch 31/50\n",
      "\u001b[1m10/10\u001b[0m \u001b[32m━━━━━━━━━━━━━━━━━━━━\u001b[0m\u001b[37m\u001b[0m \u001b[1m4s\u001b[0m 358ms/step - accuracy: 0.4537 - loss: 1.2826 - val_accuracy: 0.2500 - val_loss: 1.9809\n",
      "Epoch 32/50\n",
      "\u001b[1m10/10\u001b[0m \u001b[32m━━━━━━━━━━━━━━━━━━━━\u001b[0m\u001b[37m\u001b[0m \u001b[1m4s\u001b[0m 355ms/step - accuracy: 0.3743 - loss: 1.2791 - val_accuracy: 0.2750 - val_loss: 1.9430\n",
      "Epoch 33/50\n",
      "\u001b[1m10/10\u001b[0m \u001b[32m━━━━━━━━━━━━━━━━━━━━\u001b[0m\u001b[37m\u001b[0m \u001b[1m4s\u001b[0m 363ms/step - accuracy: 0.2812 - loss: 1.3638 - val_accuracy: 0.2750 - val_loss: 1.9589\n",
      "Epoch 34/50\n",
      "\u001b[1m10/10\u001b[0m \u001b[32m━━━━━━━━━━━━━━━━━━━━\u001b[0m\u001b[37m\u001b[0m \u001b[1m4s\u001b[0m 360ms/step - accuracy: 0.3879 - loss: 1.3141 - val_accuracy: 0.2750 - val_loss: 2.0044\n",
      "Epoch 35/50\n",
      "\u001b[1m10/10\u001b[0m \u001b[32m━━━━━━━━━━━━━━━━━━━━\u001b[0m\u001b[37m\u001b[0m \u001b[1m4s\u001b[0m 358ms/step - accuracy: 0.2912 - loss: 1.3421 - val_accuracy: 0.2750 - val_loss: 2.0216\n",
      "Epoch 36/50\n",
      "\u001b[1m10/10\u001b[0m \u001b[32m━━━━━━━━━━━━━━━━━━━━\u001b[0m\u001b[37m\u001b[0m \u001b[1m4s\u001b[0m 358ms/step - accuracy: 0.3407 - loss: 1.2738 - val_accuracy: 0.2750 - val_loss: 2.0347\n",
      "Epoch 37/50\n",
      "\u001b[1m10/10\u001b[0m \u001b[32m━━━━━━━━━━━━━━━━━━━━\u001b[0m\u001b[37m\u001b[0m \u001b[1m4s\u001b[0m 362ms/step - accuracy: 0.3376 - loss: 1.4012 - val_accuracy: 0.3000 - val_loss: 1.8764\n",
      "Epoch 38/50\n",
      "\u001b[1m10/10\u001b[0m \u001b[32m━━━━━━━━━━━━━━━━━━━━\u001b[0m\u001b[37m\u001b[0m \u001b[1m4s\u001b[0m 359ms/step - accuracy: 0.3683 - loss: 1.3872 - val_accuracy: 0.2500 - val_loss: 1.8665\n",
      "Epoch 39/50\n",
      "\u001b[1m10/10\u001b[0m \u001b[32m━━━━━━━━━━━━━━━━━━━━\u001b[0m\u001b[37m\u001b[0m \u001b[1m4s\u001b[0m 358ms/step - accuracy: 0.2447 - loss: 1.5572 - val_accuracy: 0.2750 - val_loss: 1.8377\n",
      "Epoch 40/50\n",
      "\u001b[1m10/10\u001b[0m \u001b[32m━━━━━━━━━━━━━━━━━━━━\u001b[0m\u001b[37m\u001b[0m \u001b[1m4s\u001b[0m 360ms/step - accuracy: 0.3344 - loss: 1.3169 - val_accuracy: 0.2500 - val_loss: 1.7627\n",
      "Epoch 41/50\n",
      "\u001b[1m10/10\u001b[0m \u001b[32m━━━━━━━━━━━━━━━━━━━━\u001b[0m\u001b[37m\u001b[0m \u001b[1m4s\u001b[0m 360ms/step - accuracy: 0.3676 - loss: 1.3187 - val_accuracy: 0.2500 - val_loss: 1.7085\n",
      "Epoch 42/50\n",
      "\u001b[1m10/10\u001b[0m \u001b[32m━━━━━━━━━━━━━━━━━━━━\u001b[0m\u001b[37m\u001b[0m \u001b[1m4s\u001b[0m 357ms/step - accuracy: 0.3090 - loss: 1.3732 - val_accuracy: 0.2500 - val_loss: 1.8411\n",
      "Epoch 43/50\n",
      "\u001b[1m10/10\u001b[0m \u001b[32m━━━━━━━━━━━━━━━━━━━━\u001b[0m\u001b[37m\u001b[0m \u001b[1m4s\u001b[0m 360ms/step - accuracy: 0.3835 - loss: 1.2848 - val_accuracy: 0.1750 - val_loss: 1.9781\n",
      "Epoch 44/50\n",
      "\u001b[1m10/10\u001b[0m \u001b[32m━━━━━━━━━━━━━━━━━━━━\u001b[0m\u001b[37m\u001b[0m \u001b[1m4s\u001b[0m 363ms/step - accuracy: 0.4326 - loss: 1.2563 - val_accuracy: 0.1750 - val_loss: 1.8371\n",
      "Epoch 45/50\n",
      "\u001b[1m10/10\u001b[0m \u001b[32m━━━━━━━━━━━━━━━━━━━━\u001b[0m\u001b[37m\u001b[0m \u001b[1m4s\u001b[0m 360ms/step - accuracy: 0.4229 - loss: 1.2939 - val_accuracy: 0.2000 - val_loss: 1.7634\n",
      "Epoch 46/50\n",
      "\u001b[1m10/10\u001b[0m \u001b[32m━━━━━━━━━━━━━━━━━━━━\u001b[0m\u001b[37m\u001b[0m \u001b[1m4s\u001b[0m 363ms/step - accuracy: 0.3296 - loss: 1.3275 - val_accuracy: 0.3250 - val_loss: 1.7015\n",
      "Epoch 47/50\n",
      "\u001b[1m10/10\u001b[0m \u001b[32m━━━━━━━━━━━━━━━━━━━━\u001b[0m\u001b[37m\u001b[0m \u001b[1m4s\u001b[0m 362ms/step - accuracy: 0.4079 - loss: 1.2936 - val_accuracy: 0.2750 - val_loss: 1.6821\n",
      "Epoch 48/50\n",
      "\u001b[1m10/10\u001b[0m \u001b[32m━━━━━━━━━━━━━━━━━━━━\u001b[0m\u001b[37m\u001b[0m \u001b[1m4s\u001b[0m 359ms/step - accuracy: 0.3235 - loss: 1.3740 - val_accuracy: 0.2500 - val_loss: 1.6994\n",
      "Epoch 49/50\n",
      "\u001b[1m10/10\u001b[0m \u001b[32m━━━━━━━━━━━━━━━━━━━━\u001b[0m\u001b[37m\u001b[0m \u001b[1m4s\u001b[0m 353ms/step - accuracy: 0.3275 - loss: 1.3450 - val_accuracy: 0.3000 - val_loss: 1.6493\n",
      "Epoch 50/50\n",
      "\u001b[1m10/10\u001b[0m \u001b[32m━━━━━━━━━━━━━━━━━━━━\u001b[0m\u001b[37m\u001b[0m \u001b[1m4s\u001b[0m 363ms/step - accuracy: 0.4414 - loss: 1.3538 - val_accuracy: 0.2750 - val_loss: 1.7270\n"
     ]
    }
   ],
   "source": [
    "import tensorflow as tf\n",
    "from tensorflow.keras.models import Sequential\n",
    "from tensorflow.keras.optimizers import Adam\n",
    "from tensorflow.keras.layers import Conv2D, MaxPooling2D, Flatten, Dense, Dropout, BatchNormalization, Input\n",
    "from tensorflow.keras.preprocessing.image import ImageDataGenerator\n",
    "from sklearn.utils.class_weight import compute_class_weight\n",
    "\n",
    "# Veri hazırlama\n",
    "train_datagen = ImageDataGenerator(\n",
    "    rescale=1./255,\n",
    "    rotation_range=40,          # Daha geniş dönüş açısı\n",
    "    width_shift_range=0.3,      # Daha geniş yatay kaydırma\n",
    "    height_shift_range=0.3,     # Daha geniş dikey kaydırma\n",
    "    shear_range=0.3,            # Daha fazla şekil kaydırma\n",
    "    zoom_range=0.3,             # Daha geniş yakınlaştırma\n",
    "    horizontal_flip=True,\n",
    "    fill_mode=\"nearest\",\n",
    "    validation_split=0.2\n",
    ")\n",
    "\n",
    "# Eğitim ve doğrulama verisi için veri jeneratörleri\n",
    "train_generator = train_datagen.flow_from_directory(\n",
    "    \"processed_images\",\n",
    "    target_size=(128, 128),\n",
    "    batch_size=16,\n",
    "    class_mode=\"categorical\",\n",
    "    subset=\"training\"  # Eğitim verisi\n",
    ")\n",
    "\n",
    "val_generator = train_datagen.flow_from_directory(\n",
    "    \"processed_images\",\n",
    "    target_size=(128, 128),\n",
    "    batch_size=16,\n",
    "    class_mode=\"categorical\",\n",
    "    subset=\"validation\"  # Doğrulama verisi\n",
    ")\n",
    "\n",
    "# CNN Modeli\n",
    "model = Sequential([\n",
    "    Input(shape=(128, 128, 3)),\n",
    "    Conv2D(32, (3, 3), activation=\"relu\", padding=\"same\"),\n",
    "    BatchNormalization(),\n",
    "    MaxPooling2D((2, 2)),\n",
    "    \n",
    "    Conv2D(64, (3, 3), activation=\"relu\", padding=\"same\"),\n",
    "    BatchNormalization(),\n",
    "    MaxPooling2D((2, 2)),\n",
    "\n",
    "    Conv2D(128, (3, 3), activation=\"relu\", padding=\"same\"),\n",
    "    BatchNormalization(),\n",
    "    MaxPooling2D((2, 2)),\n",
    "\n",
    "    Conv2D(256, (3, 3), activation=\"relu\", padding=\"same\"),\n",
    "    BatchNormalization(),\n",
    "    MaxPooling2D((2, 2)),\n",
    "\n",
    "    Flatten(),\n",
    "    Dense(512, activation=\"relu\"),\n",
    "    Dropout(0.5),\n",
    "    Dense(256, activation=\"relu\"),\n",
    "    Dropout(0.5),\n",
    "    Dense(train_generator.num_classes, activation=\"softmax\")\n",
    "])\n",
    "\n",
    "# Modeli derleme\n",
    "model.compile(optimizer=Adam(learning_rate=0.0001), loss=\"categorical_crossentropy\", metrics=[\"accuracy\"])\n",
    "\n",
    "# Modeli eğitme\n",
    "class_weights = compute_class_weight(\n",
    "    class_weight=\"balanced\",\n",
    "    classes=np.unique(train_generator.classes),\n",
    "    y=train_generator.classes\n",
    ")\n",
    "model.fit(\n",
    "    train_generator,\n",
    "    validation_data=val_generator,\n",
    "    epochs=50,\n",
    "    class_weight=dict(enumerate(class_weights))\n",
    ")\n",
    "\n",
    "# Modeli kaydetme\n",
    "model.save(\"shoe_classifier_model.keras\")\n",
    "\n",
    "# Modeli yükleme (sonraki kullanım için)\n",
    "model = tf.keras.models.load_model(\"shoe_classifier_model.keras\")"
   ]
  },
  {
   "cell_type": "code",
   "execution_count": 8,
   "id": "748450ff-7970-4a5c-a154-0d2a6d7b49ad",
   "metadata": {
    "scrolled": true
   },
   "outputs": [
    {
     "name": "stdout",
     "output_type": "stream",
     "text": [
      "İndirildi: test_images\\image_page1_1.jpg\n",
      "İndirildi: test_images\\image_page1_2.jpg\n",
      "İndirildi: test_images\\image_page1_3.jpg\n",
      "İndirildi: test_images\\image_page1_4.jpg\n",
      "İndirildi: test_images\\image_page1_5.jpg\n",
      "İndirildi: test_images\\image_page1_6.jpg\n",
      "İndirildi: test_images\\image_page1_7.jpg\n",
      "İndirildi: test_images\\image_page1_8.jpg\n",
      "İndirildi: test_images\\image_page1_9.jpg\n",
      "İndirildi: test_images\\image_page1_10.jpg\n",
      "İndirildi: test_images\\image_page1_11.jpg\n",
      "İndirildi: test_images\\image_page1_12.jpg\n",
      "İndirildi: test_images\\image_page1_13.jpg\n",
      "İndirildi: test_images\\image_page1_14.jpg\n",
      "İndirildi: test_images\\image_page1_15.jpg\n",
      "İndirildi: test_images\\image_page1_16.jpg\n",
      "İndirildi: test_images\\image_page1_17.jpg\n",
      "İndirildi: test_images\\image_page1_18.jpg\n",
      "İndirildi: test_images\\image_page1_19.jpg\n",
      "İndirildi: test_images\\image_page1_20.jpg\n",
      "İndirildi: test_images\\image_page1_21.jpg\n",
      "İndirildi: test_images\\image_page1_22.jpg\n",
      "İndirildi: test_images\\image_page1_23.jpg\n",
      "İndirildi: test_images\\image_page1_24.jpg\n",
      "İndirildi: test_images\\image_page2_1.jpg\n",
      "İndirildi: test_images\\image_page2_2.jpg\n",
      "İndirildi: test_images\\image_page2_3.jpg\n",
      "Tekrarlanan URL atlandı: https://cdn.dsmcdn.com/ty1433/product/media/images/prod/QC/20240720/20/3ce5113d-2c17-380a-a719-4726c3b2ec36/1_org.jpg\n",
      "İndirildi: test_images\\image_page2_5.jpg\n",
      "İndirildi: test_images\\image_page2_6.jpg\n",
      "İndirildi: test_images\\image_page2_7.jpg\n",
      "Tekrarlanan URL atlandı: https://cdn.dsmcdn.com/ty1619/prod/QC/20250101/22/74f84892-ddf6-3a5b-8d84-b3c2ceb3c11c/1_org.jpg\n",
      "İndirildi: test_images\\image_page2_9.jpg\n",
      "İndirildi: test_images\\image_page2_10.jpg\n",
      "İndirildi: test_images\\image_page2_11.jpg\n",
      "Tekrarlanan URL atlandı: https://cdn.dsmcdn.com/ty1090/product/media/images/prod/SPM/PIM/20231214/17/74893c83-14e2-33b6-9ebe-19a54564e490/1_org.jpg\n",
      "İndirildi: test_images\\image_page2_13.jpg\n",
      "İndirildi: test_images\\image_page2_14.jpg\n",
      "İndirildi: test_images\\image_page2_15.jpg\n",
      "Tekrarlanan URL atlandı: https://cdn.dsmcdn.com/ty1624/prod/QC/20250110/14/d333e86e-c973-303e-b9bc-be596ef15b4a/1_org.jpg\n",
      "İndirildi: test_images\\image_page2_17.jpg\n",
      "İndirildi: test_images\\image_page2_18.jpg\n",
      "İndirildi: test_images\\image_page2_19.jpg\n",
      "Tekrarlanan URL atlandı: https://cdn.dsmcdn.com/ty1131/product/media/images/prod/SPM/PIM/20240112/14/7c377029-d0a7-3945-a102-8ab8451c98e8/1_org.jpg\n",
      "İndirildi: test_images\\image_page2_21.jpg\n",
      "İndirildi: test_images\\image_page2_22.jpg\n",
      "İndirildi: test_images\\image_page2_23.jpg\n",
      "Tekrarlanan URL atlandı: https://cdn.dsmcdn.com/ty1332/product/media/images/prod/QC/20240527/11/2942a477-eb7b-3bc9-ac81-6ec7672dd726/1_org.jpg\n",
      "İndirildi: test_images\\image_page3_1.jpg\n",
      "İndirildi: test_images\\image_page3_2.jpg\n",
      "İndirildi: test_images\\image_page3_3.jpg\n",
      "Tekrarlanan URL atlandı: https://cdn.dsmcdn.com/ty1433/product/media/images/prod/QC/20240720/20/3ce5113d-2c17-380a-a719-4726c3b2ec36/1_org.jpg\n",
      "İndirildi: test_images\\image_page3_5.jpg\n",
      "İndirildi: test_images\\image_page3_6.jpg\n",
      "İndirildi: test_images\\image_page3_7.jpg\n",
      "Tekrarlanan URL atlandı: https://cdn.dsmcdn.com/ty1619/prod/QC/20250101/22/74f84892-ddf6-3a5b-8d84-b3c2ceb3c11c/1_org.jpg\n",
      "İndirildi: test_images\\image_page3_9.jpg\n",
      "İndirildi: test_images\\image_page3_10.jpg\n",
      "İndirildi: test_images\\image_page3_11.jpg\n",
      "Tekrarlanan URL atlandı: https://cdn.dsmcdn.com/ty1090/product/media/images/prod/SPM/PIM/20231214/17/74893c83-14e2-33b6-9ebe-19a54564e490/1_org.jpg\n",
      "İndirildi: test_images\\image_page3_13.jpg\n",
      "İndirildi: test_images\\image_page3_14.jpg\n",
      "İndirildi: test_images\\image_page3_15.jpg\n",
      "Tekrarlanan URL atlandı: https://cdn.dsmcdn.com/ty1624/prod/QC/20250110/14/d333e86e-c973-303e-b9bc-be596ef15b4a/1_org.jpg\n",
      "İndirildi: test_images\\image_page3_17.jpg\n",
      "İndirildi: test_images\\image_page3_18.jpg\n",
      "İndirildi: test_images\\image_page3_19.jpg\n",
      "Tekrarlanan URL atlandı: https://cdn.dsmcdn.com/ty1131/product/media/images/prod/SPM/PIM/20240112/14/7c377029-d0a7-3945-a102-8ab8451c98e8/1_org.jpg\n",
      "İndirildi: test_images\\image_page3_21.jpg\n",
      "İndirildi: test_images\\image_page3_22.jpg\n",
      "İndirildi: test_images\\image_page3_23.jpg\n",
      "Tekrarlanan URL atlandı: https://cdn.dsmcdn.com/ty1332/product/media/images/prod/QC/20240527/11/2942a477-eb7b-3bc9-ac81-6ec7672dd726/1_org.jpg\n",
      "İndirildi: test_images\\image_page4_1.jpg\n",
      "İndirildi: test_images\\image_page4_2.jpg\n",
      "İndirildi: test_images\\image_page4_3.jpg\n",
      "Tekrarlanan URL atlandı: https://cdn.dsmcdn.com/ty1433/product/media/images/prod/QC/20240720/20/3ce5113d-2c17-380a-a719-4726c3b2ec36/1_org.jpg\n",
      "İndirildi: test_images\\image_page4_5.jpg\n",
      "İndirildi: test_images\\image_page4_6.jpg\n",
      "İndirildi: test_images\\image_page4_7.jpg\n",
      "Tekrarlanan URL atlandı: https://cdn.dsmcdn.com/ty1619/prod/QC/20250101/22/74f84892-ddf6-3a5b-8d84-b3c2ceb3c11c/1_org.jpg\n",
      "İndirildi: test_images\\image_page4_9.jpg\n",
      "İndirildi: test_images\\image_page4_10.jpg\n",
      "İndirildi: test_images\\image_page4_11.jpg\n",
      "Tekrarlanan URL atlandı: https://cdn.dsmcdn.com/ty1090/product/media/images/prod/SPM/PIM/20231214/17/74893c83-14e2-33b6-9ebe-19a54564e490/1_org.jpg\n",
      "İndirildi: test_images\\image_page4_13.jpg\n",
      "İndirildi: test_images\\image_page4_14.jpg\n",
      "İndirildi: test_images\\image_page4_15.jpg\n",
      "Tekrarlanan URL atlandı: https://cdn.dsmcdn.com/ty1624/prod/QC/20250110/14/d333e86e-c973-303e-b9bc-be596ef15b4a/1_org.jpg\n",
      "İndirildi: test_images\\image_page4_17.jpg\n",
      "İndirildi: test_images\\image_page4_18.jpg\n",
      "Tekrarlanan URL atlandı: https://cdn.dsmcdn.com/ty1602/prod/QC/20241115/16/6ce4d6af-9db7-36bb-806e-7f9324e71845/1_org.jpg\n",
      "Tekrarlanan URL atlandı: https://cdn.dsmcdn.com/ty1131/product/media/images/prod/SPM/PIM/20240112/14/7c377029-d0a7-3945-a102-8ab8451c98e8/1_org.jpg\n",
      "İndirildi: test_images\\image_page4_21.jpg\n",
      "İndirildi: test_images\\image_page4_22.jpg\n",
      "İndirildi: test_images\\image_page4_23.jpg\n",
      "Tekrarlanan URL atlandı: https://cdn.dsmcdn.com/ty1332/product/media/images/prod/QC/20240527/11/2942a477-eb7b-3bc9-ac81-6ec7672dd726/1_org.jpg\n",
      "İndirildi: test_images\\image_page5_1.jpg\n",
      "Tekrarlanan URL atlandı: https://cdn.dsmcdn.com/ty1433/product/media/images/prod/QC/20240720/20/3ce5113d-2c17-380a-a719-4726c3b2ec36/1_org.jpg\n",
      "İndirilemedi: https://cdn.dsmcdn.com/ty1484/product/media/images/prod/QC/20240815/17/e0659c8b-0290-32b1-8988-bc8ded236f5b/1_org.jpg, Hata: <urlopen error [WinError 10060] Bağlanılan uygun olarak belli bir süre içinde yanıt vermediğinden veya kurulan\n",
      "bağlantı bağlanılan ana bilgisayar yanıt vermediğinden bir bağlantı kurulamadı>\n",
      "Tekrarlanan URL atlandı: https://cdn.dsmcdn.com/ty1619/prod/QC/20250101/22/74f84892-ddf6-3a5b-8d84-b3c2ceb3c11c/1_org.jpg\n",
      "İndirildi: test_images\\image_page5_5.jpg\n",
      "Tekrarlanan URL atlandı: https://cdn.dsmcdn.com/ty1090/product/media/images/prod/SPM/PIM/20231214/17/74893c83-14e2-33b6-9ebe-19a54564e490/1_org.jpg\n",
      "İndirildi: test_images\\image_page5_7.jpg\n",
      "Tekrarlanan URL atlandı: https://cdn.dsmcdn.com/ty1624/prod/QC/20250110/14/d333e86e-c973-303e-b9bc-be596ef15b4a/1_org.jpg\n",
      "İndirildi: test_images\\image_page5_9.jpg\n",
      "Tekrarlanan URL atlandı: https://cdn.dsmcdn.com/ty1131/product/media/images/prod/SPM/PIM/20240112/14/7c377029-d0a7-3945-a102-8ab8451c98e8/1_org.jpg\n",
      "İndirildi: test_images\\image_page5_11.jpg\n",
      "Tekrarlanan URL atlandı: https://cdn.dsmcdn.com/ty1332/product/media/images/prod/QC/20240527/11/2942a477-eb7b-3bc9-ac81-6ec7672dd726/1_org.jpg\n",
      "İndirildi: test_images\\image_page5_13.jpg\n",
      "İndirildi: test_images\\image_page5_14.jpg\n",
      "Tekrarlanan URL atlandı: https://cdn.dsmcdn.com/ty1332/product/media/images/prod/QC/20240514/11/6f5e8cb6-0674-3699-b84c-0bda78ece5e4/1_org.jpg\n",
      "İndirildi: test_images\\image_page5_16.jpg\n",
      "İndirildi: test_images\\image_page5_17.jpg\n",
      "İndirildi: test_images\\image_page5_18.jpg\n",
      "İndirildi: test_images\\image_page5_19.jpg\n",
      "İndirildi: test_images\\image_page5_20.jpg\n",
      "İndirildi: test_images\\image_page5_21.jpg\n",
      "İndirildi: test_images\\image_page5_22.jpg\n",
      "İndirildi: test_images\\image_page5_23.jpg\n",
      "İndirildi: test_images\\image_page5_24.jpg\n"
     ]
    }
   ],
   "source": [
    "import os\n",
    "import time\n",
    "from selenium import webdriver\n",
    "from selenium.webdriver.common.by import By\n",
    "from selenium.webdriver.chrome.service import Service\n",
    "from webdriver_manager.chrome import ChromeDriverManager\n",
    "from urllib.request import urlretrieve\n",
    "\n",
    "# Klasör oluşturma\n",
    "def create_folder(folder_name):\n",
    "    if not os.path.exists(folder_name):\n",
    "        os.makedirs(folder_name)\n",
    "\n",
    "# Selenium ile Trendyol'dan görselleri indir\n",
    "def download_images_unique(base_url, output_folder, num_pages=5):\n",
    "    options = webdriver.ChromeOptions()\n",
    "    options.add_argument(\"--headless\")\n",
    "    driver = webdriver.Chrome(service=Service(ChromeDriverManager().install()), options=options)\n",
    "\n",
    "    create_folder(output_folder)\n",
    "    downloaded_urls = set()  # İndirilen görsellerin URL'lerini takip etmek için bir set\n",
    "\n",
    "    for page in range(1, num_pages + 1):\n",
    "        url = f\"{base_url}?pi={page}\"\n",
    "        driver.get(url)\n",
    "        time.sleep(3)\n",
    "\n",
    "        images = driver.find_elements(By.CSS_SELECTOR, \"img.p-card-img\")\n",
    "        for idx, img in enumerate(images):\n",
    "            img_url = img.get_attribute(\"src\")\n",
    "            if img_url and \"product-placeholder\" not in img_url and img_url not in downloaded_urls:\n",
    "                file_name = os.path.join(output_folder, f\"image_page{page}_{idx + 1}.jpg\")\n",
    "                try:\n",
    "                    urlretrieve(img_url, file_name)\n",
    "                    downloaded_urls.add(img_url)  # URL'yi indirilenlere ekle\n",
    "                    print(f\"İndirildi: {file_name}\")\n",
    "                except Exception as e:\n",
    "                    print(f\"İndirilemedi: {img_url}, Hata: {e}\")\n",
    "            elif img_url in downloaded_urls:\n",
    "                print(f\"Tekrarlanan URL atlandı: {img_url}\")\n",
    "\n",
    "    driver.quit()\n",
    "\n",
    "# Kullanım\n",
    "base_url = \"https://www.trendyol.com/kadin-ayakkabi-x-g1-c114\"\n",
    "output_folder = \"test_images\"\n",
    "download_images_unique(base_url, output_folder, num_pages=5)"
   ]
  },
  {
   "cell_type": "code",
   "execution_count": 6,
   "id": "4974517c-3713-4268-b5a8-44315b4fdc0e",
   "metadata": {
    "scrolled": true
   },
   "outputs": [
    {
     "name": "stdout",
     "output_type": "stream",
     "text": [
      "Hata: test_images\\image_page_1.jpg, Found array with dim 4. RandomForestClassifier expected <= 2.\n",
      "Hata: test_images\\image_page_10.jpg, Found array with dim 4. RandomForestClassifier expected <= 2.\n",
      "Hata: test_images\\image_page_11.jpg, Found array with dim 4. RandomForestClassifier expected <= 2.\n",
      "Hata: test_images\\image_page_12.jpg, Found array with dim 4. RandomForestClassifier expected <= 2.\n",
      "Hata: test_images\\image_page_13.jpg, Found array with dim 4. RandomForestClassifier expected <= 2.\n",
      "Hata: test_images\\image_page_14.jpg, Found array with dim 4. RandomForestClassifier expected <= 2.\n",
      "Hata: test_images\\image_page_15.jpg, Found array with dim 4. RandomForestClassifier expected <= 2.\n",
      "Hata: test_images\\image_page_16.jpg, Found array with dim 4. RandomForestClassifier expected <= 2.\n",
      "Hata: test_images\\image_page_17.jpg, Found array with dim 4. RandomForestClassifier expected <= 2.\n",
      "Hata: test_images\\image_page_18.jpg, Found array with dim 4. RandomForestClassifier expected <= 2.\n",
      "Hata: test_images\\image_page_19.jpg, Found array with dim 4. RandomForestClassifier expected <= 2.\n",
      "Hata: test_images\\image_page_2.jpg, Found array with dim 4. RandomForestClassifier expected <= 2.\n",
      "Hata: test_images\\image_page_20.jpg, Found array with dim 4. RandomForestClassifier expected <= 2.\n",
      "Hata: test_images\\image_page_21.jpg, Found array with dim 4. RandomForestClassifier expected <= 2.\n",
      "Hata: test_images\\image_page_22.jpg, Found array with dim 4. RandomForestClassifier expected <= 2.\n",
      "Hata: test_images\\image_page_23.jpg, Found array with dim 4. RandomForestClassifier expected <= 2.\n",
      "Hata: test_images\\image_page_24.jpg, Found array with dim 4. RandomForestClassifier expected <= 2.\n",
      "Hata: test_images\\image_page_3.jpg, Found array with dim 4. RandomForestClassifier expected <= 2.\n",
      "Hata: test_images\\image_page_4.jpg, Found array with dim 4. RandomForestClassifier expected <= 2.\n",
      "Hata: test_images\\image_page_5.jpg, Found array with dim 4. RandomForestClassifier expected <= 2.\n",
      "Hata: test_images\\image_page_6.jpg, Found array with dim 4. RandomForestClassifier expected <= 2.\n",
      "Hata: test_images\\image_page_7.jpg, Found array with dim 4. RandomForestClassifier expected <= 2.\n",
      "Hata: test_images\\image_page_8.jpg, Found array with dim 4. RandomForestClassifier expected <= 2.\n",
      "Hata: test_images\\image_page_9.jpg, Found array with dim 4. RandomForestClassifier expected <= 2.\n"
     ]
    }
   ],
   "source": [
    "import numpy as np\n",
    "from tensorflow.keras.models import load_model\n",
    "from tensorflow.keras.preprocessing import image\n",
    "\n",
    "# Sınıf isimlerini tanımlayın\n",
    "class_names = [\"Babet\", \"Bot\", \"Sneaker\", \"Topuklu Ayakkabı\"]  # Modelinizin eğitim sırasında öğrendiği sınıf isimlerini buraya yazın\n",
    "\n",
    "# Modeli yükle\n",
    "#model = joblib.load('random_forest_model.pkl')\n",
    "model = tf.keras.models.load_model(\"shoe_classifier_model.keras\")\n",
    "\n",
    "# Görselleri klasör olarak sınıflandırma fonksiyonu\n",
    "def classify_images(input_folder, model, class_names, target_size=(128, 128)):\n",
    "    images = [os.path.join(input_folder, file) for file in os.listdir(input_folder) if file.endswith(\".jpg\")]\n",
    "    results = []\n",
    "\n",
    "    for img_path in images:\n",
    "        try:\n",
    "            # Görseli yükle ve işle\n",
    "            img = image.load_img(img_path, target_size=target_size)\n",
    "            img_array = image.img_to_array(img)\n",
    "            img_array = np.expand_dims(img_array, axis=0)  # Batch boyutu ekle\n",
    "            img_array = img_array / 255.0  # Normalizasyon\n",
    "\n",
    "            # Tahmin yap\n",
    "            predictions = model.predict(img_array)\n",
    "            predicted_class_index = np.argmax(predictions, axis=1)[0]\n",
    "            predicted_class_name = class_names[predicted_class_index]  # Sınıf ismini al\n",
    "\n",
    "            results.append((img_path, predicted_class_name))\n",
    "            print(f\"Görsel: {img_path}, Tahmin Edilen Sınıf: {predicted_class_name}\")\n",
    "        except Exception as e:\n",
    "            print(f\"Hata: {img_path}, {e}\")\n",
    "\n",
    "    return results\n",
    "\n",
    "# Görselleri sınıflandır\n",
    "classified_results = classify_images(\"test_images\", model, class_names)\n",
    "\n",
    "# Sonuçları ayrı klasörlere kaydetme fonksiyonu\n",
    "def save_classified_images(results, output_folder):\n",
    "    create_folder(output_folder)\n",
    "    for img_path, predicted_class in results:\n",
    "        class_folder = os.path.join(output_folder, predicted_class)  # Sınıf adıyla klasör oluştur\n",
    "        create_folder(class_folder)\n",
    "        os.rename(img_path, os.path.join(class_folder, os.path.basename(img_path)))\n",
    "\n",
    "# Sonuçları kaydet\n",
    "save_classified_images(classified_results, \"classified_trendyol_images\")"
   ]
  },
  {
   "cell_type": "code",
   "execution_count": 3,
   "id": "64b70f2e-9412-4573-8ee1-f70189da0caf",
   "metadata": {},
   "outputs": [
    {
     "name": "stdout",
     "output_type": "stream",
     "text": [
      "Found 200 images belonging to 4 classes.\n",
      "Veri boyutu: (200, 128, 128, 3), Etiket boyutu: (200, 1)\n",
      "Sınıflar: {'Babet': 0, 'Bot': 1, 'Sneaker': 2, 'Topuklu Ayakkabı': 3}\n",
      "\n",
      "Model: Logistic Regression\n"
     ]
    },
    {
     "name": "stderr",
     "output_type": "stream",
     "text": [
      "C:\\Users\\yusuf\\AppData\\Local\\Programs\\Python\\Python310\\lib\\site-packages\\sklearn\\utils\\validation.py:1408: DataConversionWarning: A column-vector y was passed when a 1d array was expected. Please change the shape of y to (n_samples, ), for example using ravel().\n",
      "  y = column_or_1d(y, warn=True)\n"
     ]
    },
    {
     "name": "stdout",
     "output_type": "stream",
     "text": [
      "Fold 1 Doğruluk: 0.3000\n"
     ]
    },
    {
     "name": "stderr",
     "output_type": "stream",
     "text": [
      "C:\\Users\\yusuf\\AppData\\Local\\Programs\\Python\\Python310\\lib\\site-packages\\sklearn\\utils\\validation.py:1408: DataConversionWarning: A column-vector y was passed when a 1d array was expected. Please change the shape of y to (n_samples, ), for example using ravel().\n",
      "  y = column_or_1d(y, warn=True)\n"
     ]
    },
    {
     "name": "stdout",
     "output_type": "stream",
     "text": [
      "Fold 2 Doğruluk: 0.3500\n"
     ]
    },
    {
     "name": "stderr",
     "output_type": "stream",
     "text": [
      "C:\\Users\\yusuf\\AppData\\Local\\Programs\\Python\\Python310\\lib\\site-packages\\sklearn\\utils\\validation.py:1408: DataConversionWarning: A column-vector y was passed when a 1d array was expected. Please change the shape of y to (n_samples, ), for example using ravel().\n",
      "  y = column_or_1d(y, warn=True)\n"
     ]
    },
    {
     "name": "stdout",
     "output_type": "stream",
     "text": [
      "Fold 3 Doğruluk: 0.4500\n"
     ]
    },
    {
     "name": "stderr",
     "output_type": "stream",
     "text": [
      "C:\\Users\\yusuf\\AppData\\Local\\Programs\\Python\\Python310\\lib\\site-packages\\sklearn\\utils\\validation.py:1408: DataConversionWarning: A column-vector y was passed when a 1d array was expected. Please change the shape of y to (n_samples, ), for example using ravel().\n",
      "  y = column_or_1d(y, warn=True)\n"
     ]
    },
    {
     "name": "stdout",
     "output_type": "stream",
     "text": [
      "Fold 4 Doğruluk: 0.5000\n"
     ]
    },
    {
     "name": "stderr",
     "output_type": "stream",
     "text": [
      "C:\\Users\\yusuf\\AppData\\Local\\Programs\\Python\\Python310\\lib\\site-packages\\sklearn\\utils\\validation.py:1408: DataConversionWarning: A column-vector y was passed when a 1d array was expected. Please change the shape of y to (n_samples, ), for example using ravel().\n",
      "  y = column_or_1d(y, warn=True)\n"
     ]
    },
    {
     "name": "stdout",
     "output_type": "stream",
     "text": [
      "Fold 5 Doğruluk: 0.3000\n"
     ]
    },
    {
     "name": "stderr",
     "output_type": "stream",
     "text": [
      "C:\\Users\\yusuf\\AppData\\Local\\Programs\\Python\\Python310\\lib\\site-packages\\sklearn\\utils\\validation.py:1408: DataConversionWarning: A column-vector y was passed when a 1d array was expected. Please change the shape of y to (n_samples, ), for example using ravel().\n",
      "  y = column_or_1d(y, warn=True)\n"
     ]
    },
    {
     "name": "stdout",
     "output_type": "stream",
     "text": [
      "Fold 6 Doğruluk: 0.4000\n"
     ]
    },
    {
     "name": "stderr",
     "output_type": "stream",
     "text": [
      "C:\\Users\\yusuf\\AppData\\Local\\Programs\\Python\\Python310\\lib\\site-packages\\sklearn\\utils\\validation.py:1408: DataConversionWarning: A column-vector y was passed when a 1d array was expected. Please change the shape of y to (n_samples, ), for example using ravel().\n",
      "  y = column_or_1d(y, warn=True)\n"
     ]
    },
    {
     "name": "stdout",
     "output_type": "stream",
     "text": [
      "Fold 7 Doğruluk: 0.5500\n"
     ]
    },
    {
     "name": "stderr",
     "output_type": "stream",
     "text": [
      "C:\\Users\\yusuf\\AppData\\Local\\Programs\\Python\\Python310\\lib\\site-packages\\sklearn\\utils\\validation.py:1408: DataConversionWarning: A column-vector y was passed when a 1d array was expected. Please change the shape of y to (n_samples, ), for example using ravel().\n",
      "  y = column_or_1d(y, warn=True)\n"
     ]
    },
    {
     "name": "stdout",
     "output_type": "stream",
     "text": [
      "Fold 8 Doğruluk: 0.4000\n"
     ]
    },
    {
     "name": "stderr",
     "output_type": "stream",
     "text": [
      "C:\\Users\\yusuf\\AppData\\Local\\Programs\\Python\\Python310\\lib\\site-packages\\sklearn\\utils\\validation.py:1408: DataConversionWarning: A column-vector y was passed when a 1d array was expected. Please change the shape of y to (n_samples, ), for example using ravel().\n",
      "  y = column_or_1d(y, warn=True)\n"
     ]
    },
    {
     "name": "stdout",
     "output_type": "stream",
     "text": [
      "Fold 9 Doğruluk: 0.3500\n"
     ]
    },
    {
     "name": "stderr",
     "output_type": "stream",
     "text": [
      "C:\\Users\\yusuf\\AppData\\Local\\Programs\\Python\\Python310\\lib\\site-packages\\sklearn\\utils\\validation.py:1408: DataConversionWarning: A column-vector y was passed when a 1d array was expected. Please change the shape of y to (n_samples, ), for example using ravel().\n",
      "  y = column_or_1d(y, warn=True)\n"
     ]
    },
    {
     "name": "stdout",
     "output_type": "stream",
     "text": [
      "Fold 10 Doğruluk: 0.4500\n",
      "Model: Logistic Regression, Ortalama Doğruluk: 0.4050\n",
      "\n",
      "Model: Multilayer Perceptron\n"
     ]
    },
    {
     "name": "stderr",
     "output_type": "stream",
     "text": [
      "C:\\Users\\yusuf\\AppData\\Local\\Programs\\Python\\Python310\\lib\\site-packages\\sklearn\\neural_network\\_multilayer_perceptron.py:1119: DataConversionWarning: A column-vector y was passed when a 1d array was expected. Please change the shape of y to (n_samples, ), for example using ravel().\n",
      "  y = column_or_1d(y, warn=True)\n"
     ]
    },
    {
     "name": "stdout",
     "output_type": "stream",
     "text": [
      "Fold 1 Doğruluk: 0.4500\n"
     ]
    },
    {
     "name": "stderr",
     "output_type": "stream",
     "text": [
      "C:\\Users\\yusuf\\AppData\\Local\\Programs\\Python\\Python310\\lib\\site-packages\\sklearn\\neural_network\\_multilayer_perceptron.py:1119: DataConversionWarning: A column-vector y was passed when a 1d array was expected. Please change the shape of y to (n_samples, ), for example using ravel().\n",
      "  y = column_or_1d(y, warn=True)\n"
     ]
    },
    {
     "name": "stdout",
     "output_type": "stream",
     "text": [
      "Fold 2 Doğruluk: 0.1500\n"
     ]
    },
    {
     "name": "stderr",
     "output_type": "stream",
     "text": [
      "C:\\Users\\yusuf\\AppData\\Local\\Programs\\Python\\Python310\\lib\\site-packages\\sklearn\\neural_network\\_multilayer_perceptron.py:1119: DataConversionWarning: A column-vector y was passed when a 1d array was expected. Please change the shape of y to (n_samples, ), for example using ravel().\n",
      "  y = column_or_1d(y, warn=True)\n"
     ]
    },
    {
     "name": "stdout",
     "output_type": "stream",
     "text": [
      "Fold 3 Doğruluk: 0.2000\n"
     ]
    },
    {
     "name": "stderr",
     "output_type": "stream",
     "text": [
      "C:\\Users\\yusuf\\AppData\\Local\\Programs\\Python\\Python310\\lib\\site-packages\\sklearn\\neural_network\\_multilayer_perceptron.py:1119: DataConversionWarning: A column-vector y was passed when a 1d array was expected. Please change the shape of y to (n_samples, ), for example using ravel().\n",
      "  y = column_or_1d(y, warn=True)\n"
     ]
    },
    {
     "name": "stdout",
     "output_type": "stream",
     "text": [
      "Fold 4 Doğruluk: 0.5000\n"
     ]
    },
    {
     "name": "stderr",
     "output_type": "stream",
     "text": [
      "C:\\Users\\yusuf\\AppData\\Local\\Programs\\Python\\Python310\\lib\\site-packages\\sklearn\\neural_network\\_multilayer_perceptron.py:1119: DataConversionWarning: A column-vector y was passed when a 1d array was expected. Please change the shape of y to (n_samples, ), for example using ravel().\n",
      "  y = column_or_1d(y, warn=True)\n"
     ]
    },
    {
     "name": "stdout",
     "output_type": "stream",
     "text": [
      "Fold 5 Doğruluk: 0.4000\n"
     ]
    },
    {
     "name": "stderr",
     "output_type": "stream",
     "text": [
      "C:\\Users\\yusuf\\AppData\\Local\\Programs\\Python\\Python310\\lib\\site-packages\\sklearn\\neural_network\\_multilayer_perceptron.py:1119: DataConversionWarning: A column-vector y was passed when a 1d array was expected. Please change the shape of y to (n_samples, ), for example using ravel().\n",
      "  y = column_or_1d(y, warn=True)\n"
     ]
    },
    {
     "name": "stdout",
     "output_type": "stream",
     "text": [
      "Fold 6 Doğruluk: 0.3500\n"
     ]
    },
    {
     "name": "stderr",
     "output_type": "stream",
     "text": [
      "C:\\Users\\yusuf\\AppData\\Local\\Programs\\Python\\Python310\\lib\\site-packages\\sklearn\\neural_network\\_multilayer_perceptron.py:1119: DataConversionWarning: A column-vector y was passed when a 1d array was expected. Please change the shape of y to (n_samples, ), for example using ravel().\n",
      "  y = column_or_1d(y, warn=True)\n"
     ]
    },
    {
     "name": "stdout",
     "output_type": "stream",
     "text": [
      "Fold 7 Doğruluk: 0.2500\n"
     ]
    },
    {
     "name": "stderr",
     "output_type": "stream",
     "text": [
      "C:\\Users\\yusuf\\AppData\\Local\\Programs\\Python\\Python310\\lib\\site-packages\\sklearn\\neural_network\\_multilayer_perceptron.py:1119: DataConversionWarning: A column-vector y was passed when a 1d array was expected. Please change the shape of y to (n_samples, ), for example using ravel().\n",
      "  y = column_or_1d(y, warn=True)\n"
     ]
    },
    {
     "name": "stdout",
     "output_type": "stream",
     "text": [
      "Fold 8 Doğruluk: 0.3000\n"
     ]
    },
    {
     "name": "stderr",
     "output_type": "stream",
     "text": [
      "C:\\Users\\yusuf\\AppData\\Local\\Programs\\Python\\Python310\\lib\\site-packages\\sklearn\\neural_network\\_multilayer_perceptron.py:1119: DataConversionWarning: A column-vector y was passed when a 1d array was expected. Please change the shape of y to (n_samples, ), for example using ravel().\n",
      "  y = column_or_1d(y, warn=True)\n"
     ]
    },
    {
     "name": "stdout",
     "output_type": "stream",
     "text": [
      "Fold 9 Doğruluk: 0.4000\n"
     ]
    },
    {
     "name": "stderr",
     "output_type": "stream",
     "text": [
      "C:\\Users\\yusuf\\AppData\\Local\\Programs\\Python\\Python310\\lib\\site-packages\\sklearn\\neural_network\\_multilayer_perceptron.py:1119: DataConversionWarning: A column-vector y was passed when a 1d array was expected. Please change the shape of y to (n_samples, ), for example using ravel().\n",
      "  y = column_or_1d(y, warn=True)\n"
     ]
    },
    {
     "name": "stdout",
     "output_type": "stream",
     "text": [
      "Fold 10 Doğruluk: 0.3000\n",
      "Model: Multilayer Perceptron, Ortalama Doğruluk: 0.3300\n",
      "\n",
      "Model: Random Forest\n"
     ]
    },
    {
     "name": "stderr",
     "output_type": "stream",
     "text": [
      "C:\\Users\\yusuf\\AppData\\Local\\Programs\\Python\\Python310\\lib\\site-packages\\sklearn\\base.py:1389: DataConversionWarning: A column-vector y was passed when a 1d array was expected. Please change the shape of y to (n_samples,), for example using ravel().\n",
      "  return fit_method(estimator, *args, **kwargs)\n"
     ]
    },
    {
     "name": "stdout",
     "output_type": "stream",
     "text": [
      "Fold 1 Doğruluk: 0.2500\n"
     ]
    },
    {
     "name": "stderr",
     "output_type": "stream",
     "text": [
      "C:\\Users\\yusuf\\AppData\\Local\\Programs\\Python\\Python310\\lib\\site-packages\\sklearn\\base.py:1389: DataConversionWarning: A column-vector y was passed when a 1d array was expected. Please change the shape of y to (n_samples,), for example using ravel().\n",
      "  return fit_method(estimator, *args, **kwargs)\n"
     ]
    },
    {
     "name": "stdout",
     "output_type": "stream",
     "text": [
      "Fold 2 Doğruluk: 0.4000\n"
     ]
    },
    {
     "name": "stderr",
     "output_type": "stream",
     "text": [
      "C:\\Users\\yusuf\\AppData\\Local\\Programs\\Python\\Python310\\lib\\site-packages\\sklearn\\base.py:1389: DataConversionWarning: A column-vector y was passed when a 1d array was expected. Please change the shape of y to (n_samples,), for example using ravel().\n",
      "  return fit_method(estimator, *args, **kwargs)\n"
     ]
    },
    {
     "name": "stdout",
     "output_type": "stream",
     "text": [
      "Fold 3 Doğruluk: 0.6000\n"
     ]
    },
    {
     "name": "stderr",
     "output_type": "stream",
     "text": [
      "C:\\Users\\yusuf\\AppData\\Local\\Programs\\Python\\Python310\\lib\\site-packages\\sklearn\\base.py:1389: DataConversionWarning: A column-vector y was passed when a 1d array was expected. Please change the shape of y to (n_samples,), for example using ravel().\n",
      "  return fit_method(estimator, *args, **kwargs)\n"
     ]
    },
    {
     "name": "stdout",
     "output_type": "stream",
     "text": [
      "Fold 4 Doğruluk: 0.4500\n"
     ]
    },
    {
     "name": "stderr",
     "output_type": "stream",
     "text": [
      "C:\\Users\\yusuf\\AppData\\Local\\Programs\\Python\\Python310\\lib\\site-packages\\sklearn\\base.py:1389: DataConversionWarning: A column-vector y was passed when a 1d array was expected. Please change the shape of y to (n_samples,), for example using ravel().\n",
      "  return fit_method(estimator, *args, **kwargs)\n"
     ]
    },
    {
     "name": "stdout",
     "output_type": "stream",
     "text": [
      "Fold 5 Doğruluk: 0.5500\n"
     ]
    },
    {
     "name": "stderr",
     "output_type": "stream",
     "text": [
      "C:\\Users\\yusuf\\AppData\\Local\\Programs\\Python\\Python310\\lib\\site-packages\\sklearn\\base.py:1389: DataConversionWarning: A column-vector y was passed when a 1d array was expected. Please change the shape of y to (n_samples,), for example using ravel().\n",
      "  return fit_method(estimator, *args, **kwargs)\n"
     ]
    },
    {
     "name": "stdout",
     "output_type": "stream",
     "text": [
      "Fold 6 Doğruluk: 0.3000\n"
     ]
    },
    {
     "name": "stderr",
     "output_type": "stream",
     "text": [
      "C:\\Users\\yusuf\\AppData\\Local\\Programs\\Python\\Python310\\lib\\site-packages\\sklearn\\base.py:1389: DataConversionWarning: A column-vector y was passed when a 1d array was expected. Please change the shape of y to (n_samples,), for example using ravel().\n",
      "  return fit_method(estimator, *args, **kwargs)\n"
     ]
    },
    {
     "name": "stdout",
     "output_type": "stream",
     "text": [
      "Fold 7 Doğruluk: 0.3000\n"
     ]
    },
    {
     "name": "stderr",
     "output_type": "stream",
     "text": [
      "C:\\Users\\yusuf\\AppData\\Local\\Programs\\Python\\Python310\\lib\\site-packages\\sklearn\\base.py:1389: DataConversionWarning: A column-vector y was passed when a 1d array was expected. Please change the shape of y to (n_samples,), for example using ravel().\n",
      "  return fit_method(estimator, *args, **kwargs)\n"
     ]
    },
    {
     "name": "stdout",
     "output_type": "stream",
     "text": [
      "Fold 8 Doğruluk: 0.5000\n"
     ]
    },
    {
     "name": "stderr",
     "output_type": "stream",
     "text": [
      "C:\\Users\\yusuf\\AppData\\Local\\Programs\\Python\\Python310\\lib\\site-packages\\sklearn\\base.py:1389: DataConversionWarning: A column-vector y was passed when a 1d array was expected. Please change the shape of y to (n_samples,), for example using ravel().\n",
      "  return fit_method(estimator, *args, **kwargs)\n"
     ]
    },
    {
     "name": "stdout",
     "output_type": "stream",
     "text": [
      "Fold 9 Doğruluk: 0.2500\n"
     ]
    },
    {
     "name": "stderr",
     "output_type": "stream",
     "text": [
      "C:\\Users\\yusuf\\AppData\\Local\\Programs\\Python\\Python310\\lib\\site-packages\\sklearn\\base.py:1389: DataConversionWarning: A column-vector y was passed when a 1d array was expected. Please change the shape of y to (n_samples,), for example using ravel().\n",
      "  return fit_method(estimator, *args, **kwargs)\n"
     ]
    },
    {
     "name": "stdout",
     "output_type": "stream",
     "text": [
      "Fold 10 Doğruluk: 0.3000\n",
      "Model: Random Forest, Ortalama Doğruluk: 0.3900\n",
      "\n",
      "=== Model Karşılaştırması ===\n",
      "Logistic Regression: Ortalama Doğruluk = 0.4050\n",
      "Multilayer Perceptron: Ortalama Doğruluk = 0.3300\n",
      "Random Forest: Ortalama Doğruluk = 0.3900\n"
     ]
    },
    {
     "data": {
      "image/png": "[encoded data removed]",
      "text/plain": [
       "<Figure size 640x480 with 1 Axes>"
      ]
     },
     "metadata": {},
     "output_type": "display_data"
    }
   ],
   "source": [
    "import os\n",
    "import numpy as np\n",
    "import pandas as pd\n",
    "import joblib\n",
    "from sklearn.model_selection import KFold, train_test_split\n",
    "from sklearn.metrics import classification_report, accuracy_score\n",
    "from sklearn.linear_model import LogisticRegression\n",
    "from sklearn.ensemble import RandomForestClassifier\n",
    "from sklearn.neural_network import MLPClassifier\n",
    "from tensorflow.keras.preprocessing.image import ImageDataGenerator\n",
    "\n",
    "# Veri setini işleme\n",
    "def load_data(data_dir, target_size=(128, 128)):\n",
    "    from tensorflow.keras.preprocessing.image import ImageDataGenerator\n",
    "    \n",
    "    datagen = ImageDataGenerator(rescale=1.0 / 255)\n",
    "    generator = datagen.flow_from_directory(\n",
    "        data_dir,\n",
    "        target_size=target_size,\n",
    "        batch_size=1,\n",
    "        class_mode=\"sparse\",\n",
    "        shuffle=False\n",
    "    )\n",
    "\n",
    "    images = []\n",
    "    labels = []\n",
    "\n",
    "    for i in range(len(generator.filenames)):\n",
    "        img, label = next(generator)  # .next() yerine Python'un yerleşik next() fonksiyonu kullanılıyor\n",
    "        images.append(img[0])  # İlk batch'in ilk görselini al\n",
    "        labels.append(label)   # İlk batch'in etiketini al\n",
    "\n",
    "    images = np.array(images)\n",
    "    labels = np.array(labels)\n",
    "\n",
    "    return images, labels, generator.class_indices\n",
    "\n",
    "# Veriyi yükle\n",
    "data_dir = \"processed_images\"  # Verilerinizin bulunduğu klasör\n",
    "images, labels, class_mapping = load_data(data_dir)\n",
    "print(f\"Veri boyutu: {images.shape}, Etiket boyutu: {labels.shape}\")\n",
    "print(f\"Sınıflar: {class_mapping}\")\n",
    "\n",
    "# Verileri düzleştir (Flatten)\n",
    "X = images.reshape(images.shape[0], -1)  # Görüntüleri 1D vektöre dönüştür\n",
    "y = labels\n",
    "\n",
    "# Çapraz doğrulama ayarları\n",
    "kf = KFold(n_splits=10, shuffle=True, random_state=42)\n",
    "\n",
    "# Modelleri tanımla\n",
    "models = {\n",
    "    \"Logistic Regression\": LogisticRegression(max_iter=1000),\n",
    "    \"Multilayer Perceptron\": MLPClassifier(hidden_layer_sizes=(128, 64), max_iter=500, random_state=42),\n",
    "    \"Random Forest\": RandomForestClassifier(n_estimators=100, random_state=42)\n",
    "}\n",
    "\n",
    "# Her model için sonuçları sakla\n",
    "results = {}\n",
    "\n",
    "for model_name, model in models.items():\n",
    "    print(f\"\\nModel: {model_name}\")\n",
    "    fold_accuracies = []\n",
    "\n",
    "    for fold, (train_idx, test_idx) in enumerate(kf.split(X)):\n",
    "        # Eğitim ve test bölmeleri\n",
    "        X_train, X_test = X[train_idx], X[test_idx]\n",
    "        y_train, y_test = y[train_idx], y[test_idx]\n",
    "\n",
    "        # Modeli eğit\n",
    "        model.fit(X_train, y_train)\n",
    "\n",
    "        # Tahmin yap\n",
    "        y_pred = model.predict(X_test)\n",
    "\n",
    "        # Doğruluk oranını hesapla\n",
    "        accuracy = accuracy_score(y_test, y_pred)\n",
    "        fold_accuracies.append(accuracy)\n",
    "\n",
    "        print(f\"Fold {fold + 1} Doğruluk: {accuracy:.4f}\")\n",
    "\n",
    "    # Ortalama doğruluğu hesapla\n",
    "    mean_accuracy = np.mean(fold_accuracies)\n",
    "    results[model_name] = mean_accuracy\n",
    "    print(f\"Model: {model_name}, Ortalama Doğruluk: {mean_accuracy:.4f}\")\n",
    "\n",
    "# Sonuçları karşılaştır\n",
    "print(\"\\n=== Model Karşılaştırması ===\")\n",
    "for model_name, accuracy in results.items():\n",
    "    print(f\"{model_name}: Ortalama Doğruluk = {accuracy:.4f}\")\n",
    "\n",
    "# Sonuçları görselleştir\n",
    "import matplotlib.pyplot as plt\n",
    "\n",
    "model_names = list(results.keys())\n",
    "accuracies = list(results.values())\n",
    "\n",
    "# Modeli kaydetme\n",
    "joblib.dump(model, 'random_forest_model.pkl')\n",
    "\n",
    "# Modeli yükleme (sonraki kullanım için)\n",
    "model = joblib.load('random_forest_model.pkl')\n",
    "\n",
    "plt.bar(model_names, accuracies, color=['blue', 'green', 'red'])\n",
    "plt.xlabel('Modeller')\n",
    "plt.ylabel('Ortalama Doğruluk')\n",
    "plt.title('Model Performans Karşılaştırması')\n",
    "plt.show()"
   ]
  },
  {
   "cell_type": "code",
   "execution_count": null,
   "id": "3d0a8637-7d72-4eb3-ac1d-f036d16d8991",
   "metadata": {},
   "outputs": [],
   "source": []
  }
 ],
 "metadata": {
  "kernelspec": {
   "display_name": "Python 3 (ipykernel)",
   "language": "python",
   "name": "python3"
  },
  "language_info": {
   "codemirror_mode": {
    "name": "ipython",
    "version": 3
   },
   "file_extension": ".py",
   "mimetype": "text/x-python",
   "name": "python",
   "nbconvert_exporter": "python",
   "pygments_lexer": "ipython3",
   "version": "3.10.0"
  }
 },
 "nbformat": 4,
 "nbformat_minor": 5
}
